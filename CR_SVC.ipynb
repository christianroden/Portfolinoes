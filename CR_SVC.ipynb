{
 "cells": [
  {
   "cell_type": "markdown",
   "id": "f800c048-b4bc-4af3-9263-51fae5511b91",
   "metadata": {},
   "source": [
    "## Import modules"
   ]
  },
  {
   "cell_type": "code",
   "execution_count": 1,
   "id": "60e84b77-a2e8-46ea-8578-b3714be9f8ec",
   "metadata": {},
   "outputs": [],
   "source": [
    "# fundamentals\n",
    "import pandas as pd\n",
    "import numpy as np\n",
    "import matplotlib.pyplot as plt\n",
    "import seaborn as sns\n",
    "\n",
    "# preprocessing\n",
    "from sklearn.model_selection import train_test_split\n",
    "from sklearn.preprocessing import OneHotEncoder, StandardScaler, FunctionTransformer\n",
    "from sklearn.decomposition import PCA\n",
    "from sklearn.impute import KNNImputer, SimpleImputer\n",
    "from sklearn.feature_selection import SelectPercentile\n",
    "\n",
    "# pipeline\n",
    "from sklearn.compose import ColumnTransformer\n",
    "from sklearn.pipeline import Pipeline, make_pipeline\n",
    "\n",
    "# Evaluation, optimization, metrics\n",
    "from sklearn.metrics import recall_score, precision_score, precision_recall_curve, f1_score, roc_auc_score, roc_curve, auc\n",
    "from sklearn.model_selection import GridSearchCV, cross_val_score\n",
    "from sklearn.inspection import permutation_importance\n",
    "\n",
    "# model\n",
    "from sklearn.svm import SVC"
   ]
  },
  {
   "cell_type": "markdown",
   "id": "6da5bf78-306f-4d2f-b932-ba85c6925427",
   "metadata": {},
   "source": [
    "## Prepare graphics"
   ]
  },
  {
   "cell_type": "code",
   "execution_count": 2,
   "id": "3b7009ee-59c4-4789-80dd-43e97e95165b",
   "metadata": {},
   "outputs": [],
   "source": [
    "def plot_roc(pipe, Xtest, ytest):\n",
    "    yscores = pipe.predict_proba(Xtest)[:,1]\n",
    "    fpr, tpr, _ = roc_curve(ytest, yscores)\n",
    "    roc_auc = auc(fpr, tpr)\n",
    "    plt.figure(figsize=(10, 8))\n",
    "    plt.plot(fpr, tpr, color='darkorange', lw=2, label='ROC curve (area = {:.2f})'.format(roc_auc))\n",
    "    plt.plot([0, 1], [0, 1], color='navy', lw=2, linestyle='--')\n",
    "    plt.xlabel('False Positive Rate')\n",
    "    plt.ylabel('True Positive Rate')\n",
    "    plt.title('Receiver Operating Characteristic (ROC) Curve')\n",
    "    plt.legend(loc='lower right')"
   ]
  },
  {
   "cell_type": "markdown",
   "id": "99985edc-1cbc-4f93-8166-cdb0a7351624",
   "metadata": {},
   "source": [
    "## Load, clean and split the data"
   ]
  },
  {
   "cell_type": "code",
   "execution_count": 3,
   "id": "534b1d81-fff6-4907-9583-85ed9a1a83cd",
   "metadata": {},
   "outputs": [],
   "source": [
    "raw_data = pd.read_csv(\"Data/HR_Analytics.csv\")"
   ]
  },
  {
   "cell_type": "code",
   "execution_count": 4,
   "id": "c67bb7ea-70c4-467c-8072-5988f6ffa9d7",
   "metadata": {},
   "outputs": [],
   "source": [
    "# Assign columns to column groups\n",
    "catcols = [\"AgeGroup\", \"SalarySlab\", \"Department\", \"EducationField\", \"JobRole\", \"MaritalStatus\"]\n",
    "numcols = [\"Education\", \"EnvironmentSatisfaction\", \"BusinessTravel\", \"JobInvolvement\", \"JobLevel\", \"JobSatisfaction\", \"PerformanceRating\", \n",
    "           \"RelationshipSatisfaction\", \"StockOptionLevel\", \"WorkLifeBalance\", \"OverTime\", \"Gender\", \"Age\", \"DailyRate\", \"DistanceFromHome\", \n",
    "           \"HourlyRate\", \"MonthlyIncome\", \"MonthlyRate\", \"NumCompaniesWorked\", \"PercentSalaryHike\", \"TotalWorkingYears\", \n",
    "           \"TrainingTimesLastYear\", \"YearsAtCompany\", \"YearsInCurrentRole\", \"YearsSinceLastPromotion\", \"YearsWithCurrManager\"]\n",
    "delcols = [\"EmpID\", \"EmployeeCount\", \"EmployeeNumber\", \"StandardHours\", \"Over18\"]\n",
    "\n",
    "# clean data\n",
    "def clean_data(DF, delcols=delcols):\n",
    "    df = DF.drop_duplicates()\n",
    "    df = df.drop(delcols, axis=1)\n",
    "    df = df.replace({\"Yes\": 1,\n",
    "                     \"No\": 0,\n",
    "                     \"Female\": 1,\n",
    "                     \"Male\": 0,\n",
    "                     \"Non-Travel\": 0,\n",
    "                     \"TravelRarely\": 1,\n",
    "                     \"Travel_Rarely\": 1,\n",
    "                     \"Travel_Frequently\": 2})\n",
    "    #df = df.dropna(axis=0)\n",
    "    return df\n",
    "\n",
    "data = clean_data(raw_data)\n",
    "\n",
    "Xtrain, Xtest, ytrain, ytest = train_test_split(data.drop(\"Attrition\", axis=1), \n",
    "                                                data[\"Attrition\"], \n",
    "                                                test_size=0.2, \n",
    "                                                shuffle=True,\n",
    "                                                stratify=data[\"Attrition\"], \n",
    "                                                random_state=42)"
   ]
  },
  {
   "cell_type": "code",
   "execution_count": 5,
   "id": "e387ea1d-05fd-47c9-8ed0-1c5d06135263",
   "metadata": {},
   "outputs": [
    {
     "name": "stdout",
     "output_type": "stream",
     "text": [
      "<class 'pandas.core.frame.DataFrame'>\n",
      "Int64Index: 1178 entries, 1212 to 852\n",
      "Data columns (total 32 columns):\n",
      " #   Column                    Non-Null Count  Dtype  \n",
      "---  ------                    --------------  -----  \n",
      " 0   Age                       1178 non-null   int64  \n",
      " 1   AgeGroup                  1178 non-null   object \n",
      " 2   BusinessTravel            1178 non-null   int64  \n",
      " 3   DailyRate                 1178 non-null   int64  \n",
      " 4   Department                1178 non-null   object \n",
      " 5   DistanceFromHome          1178 non-null   int64  \n",
      " 6   Education                 1178 non-null   int64  \n",
      " 7   EducationField            1178 non-null   object \n",
      " 8   EnvironmentSatisfaction   1178 non-null   int64  \n",
      " 9   Gender                    1178 non-null   int64  \n",
      " 10  HourlyRate                1178 non-null   int64  \n",
      " 11  JobInvolvement            1178 non-null   int64  \n",
      " 12  JobLevel                  1178 non-null   int64  \n",
      " 13  JobRole                   1178 non-null   object \n",
      " 14  JobSatisfaction           1178 non-null   int64  \n",
      " 15  MaritalStatus             1178 non-null   object \n",
      " 16  MonthlyIncome             1178 non-null   int64  \n",
      " 17  SalarySlab                1178 non-null   object \n",
      " 18  MonthlyRate               1178 non-null   int64  \n",
      " 19  NumCompaniesWorked        1178 non-null   int64  \n",
      " 20  OverTime                  1178 non-null   int64  \n",
      " 21  PercentSalaryHike         1178 non-null   int64  \n",
      " 22  PerformanceRating         1178 non-null   int64  \n",
      " 23  RelationshipSatisfaction  1178 non-null   int64  \n",
      " 24  StockOptionLevel          1178 non-null   int64  \n",
      " 25  TotalWorkingYears         1178 non-null   int64  \n",
      " 26  TrainingTimesLastYear     1178 non-null   int64  \n",
      " 27  WorkLifeBalance           1178 non-null   int64  \n",
      " 28  YearsAtCompany            1178 non-null   int64  \n",
      " 29  YearsInCurrentRole        1178 non-null   int64  \n",
      " 30  YearsSinceLastPromotion   1178 non-null   int64  \n",
      " 31  YearsWithCurrManager      1135 non-null   float64\n",
      "dtypes: float64(1), int64(25), object(6)\n",
      "memory usage: 303.7+ KB\n"
     ]
    }
   ],
   "source": [
    "Xtrain.info()"
   ]
  },
  {
   "cell_type": "markdown",
   "id": "b8147ffb-9a24-49da-a4fa-75e4e524901f",
   "metadata": {},
   "source": [
    "## Prepare preprocessing"
   ]
  },
  {
   "cell_type": "code",
   "execution_count": 6,
   "id": "7bb2c5a6-9909-438c-adbe-9098b6e380f7",
   "metadata": {},
   "outputs": [],
   "source": [
    "encoder = OneHotEncoder(handle_unknown=\"ignore\", sparse=False)\n",
    "knnimp = KNNImputer(add_indicator=True)\n",
    "simpimp = SimpleImputer(strategy=\"median\")\n",
    "std = StandardScaler()\n",
    "\n",
    "imputer = simpimp\n",
    "\n",
    "catpipe = make_pipeline(encoder)\n",
    "numpipe = Pipeline([(\"imputer\", simpimp),\n",
    "                    (\"scaler\", std)])\n",
    "\n",
    "coltrans = ColumnTransformer(transformers=[(\"encoder\", encoder, catcols),\n",
    "                                           (\"numpipe\", numpipe, numcols)])\n",
    "selection = SelectPercentile(percentile=90) # percentile=10"
   ]
  },
  {
   "cell_type": "markdown",
   "id": "04ccfeec-b708-483b-b59e-d46e98fed8e1",
   "metadata": {},
   "source": [
    "## Initialize estimator"
   ]
  },
  {
   "cell_type": "code",
   "execution_count": 7,
   "id": "37c39270-b85b-4895-a49c-ffdb993531a3",
   "metadata": {},
   "outputs": [],
   "source": [
    "svc = SVC(C=1,\n",
    "          kernel=\"poly\",\n",
    "          degree=3,\n",
    "          gamma=\"auto\",\n",
    "          class_weight=\"balanced\",\n",
    "          cache_size=1000, \n",
    "          probability=True,\n",
    "          random_state=42) "
   ]
  },
  {
   "cell_type": "markdown",
   "id": "85b8dabb-829a-47d1-a6f1-d549010e5278",
   "metadata": {},
   "source": [
    "## Set search space"
   ]
  },
  {
   "cell_type": "code",
   "execution_count": 8,
   "id": "b46b3a1b-fa31-49f3-a36e-351cbc869a50",
   "metadata": {},
   "outputs": [],
   "source": [
    "search_space = {#\"estimator__C\": [0.1, 1, 10],\n",
    "                #\"estimator__kernel\": [\"poly\", \"rbf\", \"sigmoid\"],\n",
    "                #\"estimator__degree\": [2, 3], # only significant if kernel=\"poly\"\n",
    "                #\"estimator__gamma\": [\"auto\", \"scale\", 0.001, 0.1, 100],\n",
    "                #\"selector__percentile\": [90]\n",
    "                #\"prepper__numpipe__imputer__strategy\": [\"mean\", \"median\"]\n",
    "               }"
   ]
  },
  {
   "cell_type": "markdown",
   "id": "6dd3a472-003a-4301-8a51-9c342822a410",
   "metadata": {},
   "source": [
    "## Finish pipeline and run grid search"
   ]
  },
  {
   "cell_type": "code",
   "execution_count": 9,
   "id": "61fb3f6b-3a3a-480f-a5aa-fd1097803805",
   "metadata": {},
   "outputs": [
    {
     "name": "stdout",
     "output_type": "stream",
     "text": [
      "{}\n",
      "Best F1 score: 51.39%\n",
      "--------------------------------------------------------\n",
      "F1 score on test set:\t64.00%\n",
      "Recall on test set:\t68.09%\n",
      "Precision on test set:\t60.38%\n"
     ]
    },
    {
     "data": {
      "image/png": "[encoded data removed]",
      "text/plain": [
       "<Figure size 720x576 with 1 Axes>"
      ]
     },
     "metadata": {
      "needs_background": "light"
     },
     "output_type": "display_data"
    }
   ],
   "source": [
    "pipe_svc = Pipeline([(\"prepper\", coltrans),\n",
    "                     (\"selector\", selection),\n",
    "                     (\"estimator\", svc)])\n",
    "\n",
    "pipe_svc = GridSearchCV(estimator=pipe_svc,\n",
    "                        param_grid=search_space,\n",
    "                        scoring=\"f1\",\n",
    "                        cv=6,\n",
    "                        n_jobs=-1)\n",
    "pipe_svc.fit(Xtrain, ytrain)\n",
    "#model_svc = pipe_svc.best_estimator_\n",
    "#print(grid_svc.best_estimator_)\n",
    "print(pipe_svc.best_params_)\n",
    "print(f\"Best F1 score: {pipe_svc.best_score_.mean():.2%}\")\n",
    "print(\"--------------------------------------------------------\")\n",
    "ypred = pipe_svc.predict(Xtest)\n",
    "print(f\"F1 score on test set:\\t{f1_score(ytest, ypred):.2%}\")\n",
    "print(f\"Recall on test set:\\t{recall_score(ytest, ypred):.2%}\")\n",
    "print(f\"Precision on test set:\\t{precision_score(ytest, ypred):.2%}\")\n",
    "plot_roc(pipe_svc, Xtest, ytest)"
   ]
  },
  {
   "cell_type": "code",
   "execution_count": 10,
   "id": "2779b41c-bb56-41c3-a7bc-c237be6ad37b",
   "metadata": {},
   "outputs": [
    {
     "data": {
      "text/html": [
       "<div>\n",
       "<style scoped>\n",
       "    .dataframe tbody tr th:only-of-type {\n",
       "        vertical-align: middle;\n",
       "    }\n",
       "\n",
       "    .dataframe tbody tr th {\n",
       "        vertical-align: top;\n",
       "    }\n",
       "\n",
       "    .dataframe thead th {\n",
       "        text-align: right;\n",
       "    }\n",
       "</style>\n",
       "<table border=\"1\" class=\"dataframe\">\n",
       "  <thead>\n",
       "    <tr style=\"text-align: right;\">\n",
       "      <th></th>\n",
       "      <th>mean_fit_time</th>\n",
       "      <th>std_fit_time</th>\n",
       "      <th>mean_score_time</th>\n",
       "      <th>std_score_time</th>\n",
       "      <th>params</th>\n",
       "      <th>split0_test_score</th>\n",
       "      <th>split1_test_score</th>\n",
       "      <th>split2_test_score</th>\n",
       "      <th>split3_test_score</th>\n",
       "      <th>split4_test_score</th>\n",
       "      <th>split5_test_score</th>\n",
       "      <th>mean_test_score</th>\n",
       "      <th>std_test_score</th>\n",
       "      <th>rank_test_score</th>\n",
       "    </tr>\n",
       "  </thead>\n",
       "  <tbody>\n",
       "    <tr>\n",
       "      <th>0</th>\n",
       "      <td>0.275343</td>\n",
       "      <td>0.011095</td>\n",
       "      <td>0.013587</td>\n",
       "      <td>0.000331</td>\n",
       "      <td>{}</td>\n",
       "      <td>0.553846</td>\n",
       "      <td>0.59375</td>\n",
       "      <td>0.392857</td>\n",
       "      <td>0.538462</td>\n",
       "      <td>0.459016</td>\n",
       "      <td>0.545455</td>\n",
       "      <td>0.513898</td>\n",
       "      <td>0.067372</td>\n",
       "      <td>1</td>\n",
       "    </tr>\n",
       "  </tbody>\n",
       "</table>\n",
       "</div>"
      ],
      "text/plain": [
       "   mean_fit_time  std_fit_time  mean_score_time  std_score_time params  \\\n",
       "0       0.275343      0.011095         0.013587        0.000331     {}   \n",
       "\n",
       "   split0_test_score  split1_test_score  split2_test_score  split3_test_score  \\\n",
       "0           0.553846            0.59375           0.392857           0.538462   \n",
       "\n",
       "   split4_test_score  split5_test_score  mean_test_score  std_test_score  \\\n",
       "0           0.459016           0.545455         0.513898        0.067372   \n",
       "\n",
       "   rank_test_score  \n",
       "0                1  "
      ]
     },
     "execution_count": 10,
     "metadata": {},
     "output_type": "execute_result"
    }
   ],
   "source": [
    "results = pd.DataFrame(pipe_svc.cv_results_).sort_values(by=\"mean_test_score\", ascending=False).head(8)\n",
    "results"
   ]
  },
  {
   "cell_type": "markdown",
   "id": "8bae5bbe-55e7-4fb3-8dbf-b06d36642376",
   "metadata": {},
   "source": [
    "# Result:\n",
    "## The best SVC model we've found achieved an\n",
    "## F1 score of 64.00% and a \n",
    "## ROC-AUC score of 88%\n",
    "## on the test set."
   ]
  },
  {
   "cell_type": "code",
   "execution_count": 19,
   "id": "7a415ee7-243c-4a9d-8592-4d05a6aa233b",
   "metadata": {},
   "outputs": [
    {
     "data": {
      "text/plain": [
       "[Text(0.5, 1.0, 'Features sorted by permutation importance'),\n",
       " Text(0.5, 0, 'Permutation Importance')]"
      ]
     },
     "execution_count": 19,
     "metadata": {},
     "output_type": "execute_result"
    },
    {
     "data": {
      "image/png": "[encoded data removed]",
      "text/plain": [
       "<Figure size 864x720 with 1 Axes>"
      ]
     },
     "metadata": {
      "needs_background": "light"
     },
     "output_type": "display_data"
    }
   ],
   "source": [
    "# Estimate feature importance through permutation importance\n",
    "result = permutation_importance(pipe_svc, Xtrain, ytrain, n_repeats=50, random_state=42)\n",
    "importance_scores = abs(result.importances_mean)\n",
    "#pipe_rfc = pipe_rfc.fit(features_train, target_train)\n",
    "original_columns = Xtrain.columns\n",
    "feature_importance_list = list(zip(original_columns, importance_scores))\n",
    "sorted_feature_importance = sorted(feature_importance_list, key=lambda x: x[1], reverse=False)\n",
    "orig_sorted_features, orig_sorted_importance = zip(*sorted_feature_importance)\n",
    "\n",
    "# Plot it\n",
    "fig, ax = plt.subplots(figsize=(12,10))\n",
    "ax.barh(orig_sorted_features, orig_sorted_importance)\n",
    "ax.set(title=\"Features sorted by permutation importance\",\n",
    "      xlabel=\"Permutation Importance\")"
   ]
  },
  {
   "cell_type": "code",
   "execution_count": 17,
   "id": "16928edf-be06-4341-bf14-08f18a9db388",
   "metadata": {},
   "outputs": [
    {
     "data": {
      "text/plain": [
       "array([0.00987637, 0.0055627 , 0.02907491, 0.01433691, 0.00925709,\n",
       "       0.03183329, 0.02444829, 0.01025945, 0.02215174, 0.02201733,\n",
       "       0.        , 0.03502644, 0.00518172, 0.00562291, 0.01641185,\n",
       "       0.00034112, 0.01542401, 0.0088854 , 0.0176579 , 0.01916816,\n",
       "       0.13661487, 0.        , 0.        , 0.02462878, 0.01353102,\n",
       "       0.01863054, 0.01244767, 0.01873858, 0.00042653, 0.00170832,\n",
       "       0.02630684, 0.00303222])"
      ]
     },
     "execution_count": 17,
     "metadata": {},
     "output_type": "execute_result"
    }
   ],
   "source": [
    "abs(result.importances_mean)"
   ]
  }
 ],
 "metadata": {
  "kernelspec": {
   "display_name": "Python 3 (ipykernel)",
   "language": "python",
   "name": "python3"
  },
  "language_info": {
   "codemirror_mode": {
    "name": "ipython",
    "version": 3
   },
   "file_extension": ".py",
   "mimetype": "text/x-python",
   "name": "python",
   "nbconvert_exporter": "python",
   "pygments_lexer": "ipython3",
   "version": "3.9.7"
  }
 },
 "nbformat": 4,
 "nbformat_minor": 5
}
