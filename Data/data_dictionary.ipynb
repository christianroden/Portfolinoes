{
 "cells": [
  {
   "cell_type": "markdown",
   "id": "28965241-101c-47aa-8a16-349ca76d9da9",
   "metadata": {},
   "source": [
    "# Data dictionary"
   ]
  },
  {
   "cell_type": "markdown",
   "id": "b5e30ec3-0465-4385-b45b-3e0d4b288d35",
   "metadata": {},
   "source": [
    "Column number | Column name | Type | Description\n",
    ":---|:---|:---|:----  \n",
    "0 | EmpID | categorical (nominal) | Employee ID\n",
    "1 | Age | numerical (integer) | Age of the employee\n",
    "2 | AgeGroup | categorical (ordinal) | Age group to which the employee belongs\n",
    "3 | Attrition | categorical (binary) | Employee attrition status (whether the employee has left the organization or is still active)\n",
    "4 | BusinessTravel | categorical (ordinal) | Frequency of business travel for the employee\n",
    "5 | DailyRate | numerical (integer) | Daily rate of pay for the employee\n",
    "6 | Department | categorical (nominal) | Department in which the employee works\n",
    "7 | DistanceFromHome | numerical (integer) | Distance in miles from the employee's home to the workplace\n",
    "8 | Education | categorical (ordinal) | Level of education attained by the employee\n",
    "9 | EducationField | categorical (nominal) | Field of education of the employee\n",
    "10 | EmployeeCount | numerical (integer) | Number of employees\n",
    "11 | EmployeeNumber | categorical (nominal) | Unique identifier for each employee\n",
    "12 | EnvironmentSatisfaction | categorical (ordinal) | Employee's satisfaction level with the work environment\n",
    "13 | Gender | categorical (nominal) | Gender of the employee\n",
    "14 | HourlyRate | numerical (integer) | Hourly rate of pay for the employee\n",
    "15 | JobInvolvement | categorical (ordinal) | Employee's level of job involvement\n",
    "16 | JobLevel | categorical (ordinal) | Level of the employee's job position\n",
    "17 | JobRole | categorical (nominal) | Role of the employee within the organization\n",
    "18 | JobSatisfaction | categorical (ordinal) | Employee's satisfaction level with their job\n",
    "19 | MaritalStatus | categorical (nominal) | Marital status of the employee\n",
    "20 | MonthlyIncome | numerical (integer) | Monthly income of the employee\n",
    "21 | SalarySlab | categorical (ordinal) | Categorization of monthly income into salary slabs\n",
    "22 | MonthlyRate | numerical (integer) | Monthly rate of pay for the employee\n",
    "23 | NumCompaniesWorked | numerical (integer) | Number of companies the employee has worked for in the past\n",
    "24 | Over18 | categorical (binary) | Whether the employee is over 18 years old\n",
    "25 | OverTime | categorical (binary) | Whether the employee works overtime or not\n",
    "26 | PercentSalaryHike | numerical (integer) | Percentage increase in salary for the employee\n",
    "27 | PerformanceRating | categorical (ordinal) | Performance rating of the employee\n",
    "28 | RelationshipSatisfaction | categorical (ordinal) | Employee's satisfaction level with work relationships\n",
    "29 | StandardHours | numerical (integer) | Standard working hours for the employee\n",
    "30 | StockOptionLevel | categorical (ordinal) | Level of stock options granted to the employee\n",
    "31 | TotalWorkingYears | numerical (integer) | Total number of years the employee has worked\n",
    "32 | TrainingTimesLastYear | numerical (integer) | Number of training sessions attended by the employee in the last year\n",
    "33 | WorkLifeBalance | categorical (ordinal) | Employee's work-life balance satisfaction level\n",
    "34 | YearsAtCompany | numerical (integer) | Number of years the employee has worked at the current company\n",
    "35 | YearsInCurrentRole | numerical (integer) | Number of years the employee has been in the current role\n",
    "36 | YearsSinceLastPromotion | numerical (integer) | Number of years since the employee's last promotion\n",
    "37 | YearsWithCurrManager | numerical (integer) | Number of years the employee has been working with the current manager"
   ]
  }
 ],
 "metadata": {
  "kernelspec": {
   "display_name": "Python 3 (ipykernel)",
   "language": "python",
   "name": "python3"
  },
  "language_info": {
   "codemirror_mode": {
    "name": "ipython",
    "version": 3
   },
   "file_extension": ".py",
   "mimetype": "text/x-python",
   "name": "python",
   "nbconvert_exporter": "python",
   "pygments_lexer": "ipython3",
   "version": "3.9.7"
  }
 },
 "nbformat": 4,
 "nbformat_minor": 5
}
