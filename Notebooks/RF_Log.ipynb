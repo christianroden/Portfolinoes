{
 "cells": [
  {
   "cell_type": "code",
   "execution_count": 1,
   "id": "12cefc04-3909-4aee-854e-bd0363d4f581",
   "metadata": {
    "tags": []
   },
   "outputs": [
    {
     "data": {
      "text/html": [
       "<style>.jp-Cell { width: 80% !important; }</style>"
      ],
      "text/plain": [
       "<IPython.core.display.HTML object>"
      ]
     },
     "metadata": {},
     "output_type": "display_data"
    }
   ],
   "source": [
    "# adjusting Jupyter Notebook style\n",
    "from IPython.display import display, HTML\n",
    "display(HTML(\"<style>.jp-Cell { width: 80% !important; }</style>\"))"
   ]
  },
  {
   "cell_type": "markdown",
   "id": "f800c048-b4bc-4af3-9263-51fae5511b91",
   "metadata": {},
   "source": [
    "## Import modules"
   ]
  },
  {
   "cell_type": "code",
   "execution_count": 30,
   "id": "60e84b77-a2e8-46ea-8578-b3714be9f8ec",
   "metadata": {
    "tags": []
   },
   "outputs": [],
   "source": [
    "# - - - - - - - - - - - - - - - - - - - - - - - - - - - - - - - -\n",
    "# fundamentals\n",
    "\n",
    "from importlib import reload\n",
    "\n",
    "# - - - - - - - - - - - - - - - - - - - - - - - - - - - - - - - -\n",
    "# global settings - global_settings.py\n",
    "\n",
    "if 'global_settings' in dir():\n",
    "    del global_settings\n",
    "\n",
    "from global_settings import *\n",
    "import global_settings\n",
    "global_settings = reload(global_settings)\n",
    "\n",
    "# - - - - - - - - - - - - - - - - - - - - - - - - - - - - - - - -\n",
    "# custom functions collection - functions.py\n",
    "\n",
    "if 'functions' in dir():\n",
    "    del functions\n",
    "\n",
    "from functions import *\n",
    "import functions\n",
    "functions = reload(functions)\n",
    "\n",
    "# - - - - - - - - - - - - - - - - - - - - - - - - - - - - - - - -\n",
    "# local variables\n",
    "\n",
    "debug_mode = False\n",
    "\n",
    "# - - - - - - - - - - - - - - - - - - - - - - - - - - - - - - - -\n",
    "# Modelling-related Modules\n",
    "# - - - - - - - - - - - - - - - - - - - - - - - - - - - - - - - -\n",
    "# preprocessing\n",
    "\n",
    "from sklearn.model_selection import train_test_split\n",
    "from sklearn.preprocessing import OneHotEncoder, StandardScaler, FunctionTransformer\n",
    "from sklearn.decomposition import PCA\n",
    "from sklearn.impute import KNNImputer, SimpleImputer\n",
    "from sklearn.feature_selection import SelectPercentile\n",
    "\n",
    "# - - - - - - - - - - - - - - - - - - - - - - - - - - - - - - - -\n",
    "# pipeline\n",
    "\n",
    "from sklearn.compose import ColumnTransformer\n",
    "from sklearn.pipeline import Pipeline, make_pipeline\n",
    "\n",
    "# - - - - - - - - - - - - - - - - - - - - - - - - - - - - - - - -\n",
    "# Evaluation, optimization, metrics\n",
    "\n",
    "from sklearn.metrics import recall_score, precision_score, precision_recall_curve, f1_score,\\\n",
    "roc_auc_score, classification_report, confusion_matrix, fbeta_score, make_scorer\n",
    "from sklearn.model_selection import GridSearchCV, cross_val_score\n",
    "from sklearn.inspection import permutation_importance\n",
    "\n",
    "# - - - - - - - - - - - - - - - - - - - - - - - - - - - - - - - -\n",
    "# model\n",
    "\n",
    "from sklearn.linear_model import LogisticRegression"
   ]
  },
  {
   "cell_type": "code",
   "execution_count": 31,
   "id": "bca29fb2-aba3-4023-99b7-345020e45cd5",
   "metadata": {
    "tags": []
   },
   "outputs": [
    {
     "data": {
      "text/plain": [
       "\u001b[0;31mType:\u001b[0m        module\n",
       "\u001b[0;31mString form:\u001b[0m <module 'functions' from '/Users/rafalfedro/Workbench/courses and tests/stackFuel/Portfolio/Portfolinoes/Notebooks/functions.py'>\n",
       "\u001b[0;31mFile:\u001b[0m        ~/Workbench/courses and tests/stackFuel/Portfolio/Portfolinoes/Notebooks/functions.py\n",
       "\u001b[0;31mSource:\u001b[0m     \n",
       "\u001b[0;34m'''Project's custom functions:\u001b[0m\n",
       "\u001b[0;34m    - plot_roc (draws ROC curve)\u001b[0m\n",
       "\u001b[0;34m    - f_divline (draws the divider line in the cell's output)\u001b[0m\n",
       "\u001b[0;34m'''\u001b[0m\u001b[0;34m\u001b[0m\n",
       "\u001b[0;34m\u001b[0m\u001b[0;34m\u001b[0m\n",
       "\u001b[0;34m\u001b[0m\u001b[0;34m\u001b[0m\n",
       "\u001b[0;34m\u001b[0m\u001b[0;34m\u001b[0m\n",
       "\u001b[0;34m\u001b[0m\u001b[0;31m# - - - - - - - - - - - - - - - - - - - - - - - - - - - - - - - - - - - - - - - - - - - - - - - - - - - - -\u001b[0m\u001b[0;34m\u001b[0m\n",
       "\u001b[0;34m\u001b[0m\u001b[0;31m# - - - - - - - - - - - - - - - - - - - - - - - - - - - - - - - - - - - - - - - - - - - - - - - - - - - - -\u001b[0m\u001b[0;34m\u001b[0m\n",
       "\u001b[0;34m\u001b[0m\u001b[0;31m# horizontal divider line\u001b[0m\u001b[0;34m\u001b[0m\n",
       "\u001b[0;34m\u001b[0m\u001b[0;34m\u001b[0m\n",
       "\u001b[0;34m\u001b[0m\u001b[0;32mdef\u001b[0m \u001b[0mf_divline\u001b[0m\u001b[0;34m(\u001b[0m\u001b[0mpad_before\u001b[0m\u001b[0;34m=\u001b[0m\u001b[0;32mTrue\u001b[0m\u001b[0;34m,\u001b[0m \u001b[0mpad_after\u001b[0m\u001b[0;34m=\u001b[0m\u001b[0;32mTrue\u001b[0m\u001b[0;34m)\u001b[0m\u001b[0;34m:\u001b[0m\u001b[0;34m\u001b[0m\n",
       "\u001b[0;34m\u001b[0m    \u001b[0;34m'''Draws (prints) a simple horizontal line\u001b[0m\n",
       "\u001b[0;34m    Args.:\u001b[0m\n",
       "\u001b[0;34m        pad_before (bool): add pading before the line\u001b[0m\n",
       "\u001b[0;34m        pad_after (bool): add padding after the line\u001b[0m\n",
       "\u001b[0;34m    '''\u001b[0m\u001b[0;34m\u001b[0m\n",
       "\u001b[0;34m\u001b[0m    \u001b[0mline\u001b[0m \u001b[0;34m=\u001b[0m \u001b[0mstr\u001b[0m\u001b[0;34m(\u001b[0m\u001b[0;34m'- '\u001b[0m\u001b[0;34m*\u001b[0m\u001b[0;36m40\u001b[0m\u001b[0;34m)\u001b[0m\u001b[0;34m\u001b[0m\n",
       "\u001b[0;34m\u001b[0m    \u001b[0;32mif\u001b[0m \u001b[0mpad_before\u001b[0m\u001b[0;34m:\u001b[0m\u001b[0;34m\u001b[0m\n",
       "\u001b[0;34m\u001b[0m        \u001b[0mline\u001b[0m \u001b[0;34m=\u001b[0m \u001b[0;34m'\\n'\u001b[0m\u001b[0;34m+\u001b[0m\u001b[0mline\u001b[0m\u001b[0;34m\u001b[0m\n",
       "\u001b[0;34m\u001b[0m    \u001b[0;32mif\u001b[0m \u001b[0mpad_after\u001b[0m\u001b[0;34m:\u001b[0m\u001b[0;34m\u001b[0m\n",
       "\u001b[0;34m\u001b[0m        \u001b[0mline\u001b[0m \u001b[0;34m=\u001b[0m \u001b[0mline\u001b[0m\u001b[0;34m+\u001b[0m\u001b[0;34m'\\n'\u001b[0m\u001b[0;34m\u001b[0m\n",
       "\u001b[0;34m\u001b[0m    \u001b[0;34m\u001b[0m\n",
       "\u001b[0;34m\u001b[0m    \u001b[0;32mreturn\u001b[0m \u001b[0mprint\u001b[0m\u001b[0;34m(\u001b[0m\u001b[0mline\u001b[0m\u001b[0;34m)\u001b[0m\u001b[0;34m\u001b[0m\n",
       "\u001b[0;34m\u001b[0m\u001b[0;34m\u001b[0m\n",
       "\u001b[0;34m\u001b[0m\u001b[0;31m# - - - - - - - - - - - - - - - - - - - - - - - - - - - - - - - - - - - - - - - - - - - - - - - - - - - - -\u001b[0m\u001b[0;34m\u001b[0m\n",
       "\u001b[0;34m\u001b[0m\u001b[0;31m# - - - - - - - - - - - - - - - - - - - - - - - - - - - - - - - - - - - - - - - - - - - - - - - - - - - - -\u001b[0m\u001b[0;34m\u001b[0m\n",
       "\u001b[0;34m\u001b[0m\u001b[0;31m# ROC visualization\u001b[0m\u001b[0;34m\u001b[0m\n",
       "\u001b[0;34m\u001b[0m\u001b[0;31m# - - - - - - - - - - - - - - - - - - - - - - - - - - - - - - - - - - - - - - - - - - - - - - - - - - - - -\u001b[0m\u001b[0;34m\u001b[0m\n",
       "\u001b[0;34m\u001b[0m\u001b[0;31m# Referrenced modules\u001b[0m\u001b[0;34m\u001b[0m\n",
       "\u001b[0;34m\u001b[0m\u001b[0;32mfrom\u001b[0m \u001b[0msklearn\u001b[0m\u001b[0;34m.\u001b[0m\u001b[0mmetrics\u001b[0m \u001b[0;32mimport\u001b[0m \u001b[0mroc_curve\u001b[0m\u001b[0;34m,\u001b[0m \u001b[0mauc\u001b[0m\u001b[0;34m\u001b[0m\n",
       "\u001b[0;34m\u001b[0m\u001b[0;32mfrom\u001b[0m \u001b[0mglobal_settings\u001b[0m \u001b[0;32mimport\u001b[0m \u001b[0;34m*\u001b[0m\u001b[0;34m\u001b[0m\n",
       "\u001b[0;34m\u001b[0m\u001b[0;32mimport\u001b[0m \u001b[0mglobal_settings\u001b[0m\u001b[0;34m\u001b[0m\n",
       "\u001b[0;34m\u001b[0m\u001b[0;34m\u001b[0m\n",
       "\u001b[0;34m\u001b[0m\u001b[0;31m# - - - - - - - - - - - - - - - - - - - - - - - - - - - - - - - - - - - - - - - - - - - - - - - - - - - - -\u001b[0m\u001b[0;34m\u001b[0m\n",
       "\u001b[0;34m\u001b[0m\u001b[0;34m\u001b[0m\n",
       "\u001b[0;34m\u001b[0m\u001b[0;32mdef\u001b[0m \u001b[0mplot_roc\u001b[0m\u001b[0;34m(\u001b[0m\u001b[0mpipe\u001b[0m\u001b[0;34m,\u001b[0m \u001b[0mXtest\u001b[0m\u001b[0;34m,\u001b[0m \u001b[0mytest\u001b[0m\u001b[0;34m)\u001b[0m\u001b[0;34m:\u001b[0m\u001b[0;34m\u001b[0m\n",
       "\u001b[0;34m\u001b[0m    \u001b[0;34m\u001b[0m\n",
       "\u001b[0;34m\u001b[0m    \u001b[0myscores\u001b[0m \u001b[0;34m=\u001b[0m \u001b[0mpipe\u001b[0m\u001b[0;34m.\u001b[0m\u001b[0mpredict_proba\u001b[0m\u001b[0;34m(\u001b[0m\u001b[0mXtest\u001b[0m\u001b[0;34m)\u001b[0m\u001b[0;34m[\u001b[0m\u001b[0;34m:\u001b[0m\u001b[0;34m,\u001b[0m\u001b[0;36m1\u001b[0m\u001b[0;34m]\u001b[0m\u001b[0;34m\u001b[0m\n",
       "\u001b[0;34m\u001b[0m    \u001b[0mfpr\u001b[0m\u001b[0;34m,\u001b[0m \u001b[0mtpr\u001b[0m\u001b[0;34m,\u001b[0m \u001b[0m_\u001b[0m \u001b[0;34m=\u001b[0m \u001b[0mroc_curve\u001b[0m\u001b[0;34m(\u001b[0m\u001b[0mytest\u001b[0m\u001b[0;34m,\u001b[0m \u001b[0myscores\u001b[0m\u001b[0;34m)\u001b[0m\u001b[0;34m\u001b[0m\n",
       "\u001b[0;34m\u001b[0m    \u001b[0mroc_auc\u001b[0m \u001b[0;34m=\u001b[0m \u001b[0mauc\u001b[0m\u001b[0;34m(\u001b[0m\u001b[0mfpr\u001b[0m\u001b[0;34m,\u001b[0m \u001b[0mtpr\u001b[0m\u001b[0;34m)\u001b[0m\u001b[0;34m\u001b[0m\n",
       "\u001b[0;34m\u001b[0m    \u001b[0;34m\u001b[0m\n",
       "\u001b[0;34m\u001b[0m    \u001b[0mplt\u001b[0m\u001b[0;34m.\u001b[0m\u001b[0mfigure\u001b[0m\u001b[0;34m(\u001b[0m\u001b[0mfigsize\u001b[0m\u001b[0;34m=\u001b[0m\u001b[0;34m(\u001b[0m\u001b[0;36m6\u001b[0m\u001b[0;34m,\u001b[0m \u001b[0;36m6\u001b[0m\u001b[0;34m)\u001b[0m\u001b[0;34m)\u001b[0m\u001b[0;34m\u001b[0m\n",
       "\u001b[0;34m\u001b[0m    \u001b[0mplt\u001b[0m\u001b[0;34m.\u001b[0m\u001b[0mplot\u001b[0m\u001b[0;34m(\u001b[0m\u001b[0mfpr\u001b[0m\u001b[0;34m,\u001b[0m \u001b[0mtpr\u001b[0m\u001b[0;34m,\u001b[0m \u001b[0mcolor\u001b[0m\u001b[0;34m=\u001b[0m\u001b[0mcolor_palette\u001b[0m\u001b[0;34m[\u001b[0m\u001b[0;36m1\u001b[0m\u001b[0;34m]\u001b[0m\u001b[0;34m,\u001b[0m \u001b[0mlw\u001b[0m\u001b[0;34m=\u001b[0m\u001b[0;36m1.2\u001b[0m\u001b[0;34m,\u001b[0m \u001b[0mlabel\u001b[0m\u001b[0;34m=\u001b[0m\u001b[0;34m'ROC curve (area = {:.2f})'\u001b[0m\u001b[0;34m.\u001b[0m\u001b[0mformat\u001b[0m\u001b[0;34m(\u001b[0m\u001b[0mroc_auc\u001b[0m\u001b[0;34m)\u001b[0m\u001b[0;34m)\u001b[0m\u001b[0;34m\u001b[0m\n",
       "\u001b[0;34m\u001b[0m    \u001b[0mplt\u001b[0m\u001b[0;34m.\u001b[0m\u001b[0mplot\u001b[0m\u001b[0;34m(\u001b[0m\u001b[0;34m[\u001b[0m\u001b[0;36m0\u001b[0m\u001b[0;34m,\u001b[0m \u001b[0;36m1\u001b[0m\u001b[0;34m]\u001b[0m\u001b[0;34m,\u001b[0m \u001b[0;34m[\u001b[0m\u001b[0;36m0\u001b[0m\u001b[0;34m,\u001b[0m \u001b[0;36m1\u001b[0m\u001b[0;34m]\u001b[0m\u001b[0;34m,\u001b[0m \u001b[0mcolor\u001b[0m\u001b[0;34m=\u001b[0m\u001b[0;34m'navy'\u001b[0m\u001b[0;34m,\u001b[0m \u001b[0mlw\u001b[0m\u001b[0;34m=\u001b[0m\u001b[0;36m1.2\u001b[0m\u001b[0;34m,\u001b[0m \u001b[0mlinestyle\u001b[0m\u001b[0;34m=\u001b[0m\u001b[0;34m(\u001b[0m\u001b[0;36m0\u001b[0m\u001b[0;34m,\u001b[0m \u001b[0;34m(\u001b[0m\u001b[0;36m8\u001b[0m\u001b[0;34m,\u001b[0m\u001b[0;36m10\u001b[0m\u001b[0;34m)\u001b[0m\u001b[0;34m)\u001b[0m\u001b[0;34m)\u001b[0m\u001b[0;34m\u001b[0m\n",
       "\u001b[0;34m\u001b[0m    \u001b[0mplt\u001b[0m\u001b[0;34m.\u001b[0m\u001b[0mxlabel\u001b[0m\u001b[0;34m(\u001b[0m\u001b[0;34m'False Positive Rate'\u001b[0m\u001b[0;34m)\u001b[0m\u001b[0;34m\u001b[0m\n",
       "\u001b[0;34m\u001b[0m    \u001b[0mplt\u001b[0m\u001b[0;34m.\u001b[0m\u001b[0mylabel\u001b[0m\u001b[0;34m(\u001b[0m\u001b[0;34m'True Positive Rate'\u001b[0m\u001b[0;34m)\u001b[0m\u001b[0;34m\u001b[0m\n",
       "\u001b[0;34m\u001b[0m    \u001b[0mplt\u001b[0m\u001b[0;34m.\u001b[0m\u001b[0mtitle\u001b[0m\u001b[0;34m(\u001b[0m\u001b[0;34m'Receiver Operating Characteristic (ROC) Curve'\u001b[0m\u001b[0;34m)\u001b[0m\u001b[0;34m\u001b[0m\n",
       "\u001b[0;34m\u001b[0m    \u001b[0mplt\u001b[0m\u001b[0;34m.\u001b[0m\u001b[0mlegend\u001b[0m\u001b[0;34m(\u001b[0m\u001b[0mloc\u001b[0m\u001b[0;34m=\u001b[0m\u001b[0;34m'lower right'\u001b[0m\u001b[0;34m)\u001b[0m\u001b[0;34m\u001b[0m\n",
       "\u001b[0;34m\u001b[0m\u001b[0;34m\u001b[0m\n",
       "\u001b[0;34m\u001b[0m    \u001b[0;34m\u001b[0m\n",
       "\u001b[0;34m\u001b[0m\u001b[0;31m# - - - - - - - - - - - - - - - - - - - - - - - - - - - - - - - - - - - - - - - - - - - - - - - - - - - - -\u001b[0m\u001b[0;34m\u001b[0m\n",
       "\u001b[0;34m\u001b[0m\u001b[0;31m# - - - - - - - - - - - - - - - - - - - - - - - - - - - - - - - - - - - - - - - - - - - - - - - - - - - - -\u001b[0m\u001b[0;34m\u001b[0m\u001b[0;34m\u001b[0m\u001b[0m"
      ]
     },
     "metadata": {},
     "output_type": "display_data"
    }
   ],
   "source": [
    "functions??"
   ]
  },
  {
   "cell_type": "code",
   "execution_count": 7,
   "id": "1f8d614b-afdb-45df-865f-22b83e377a41",
   "metadata": {
    "tags": []
   },
   "outputs": [],
   "source": [
    "# - - - - - - - - - - - - - - - - - - - - - - - - - - - - - -\n",
    "# suppress warnings\n",
    "\n",
    "from sklearn.exceptions import DataConversionWarning\n",
    "import warnings\n",
    "warnings.filterwarnings(action='ignore', category=DataConversionWarning)"
   ]
  },
  {
   "cell_type": "markdown",
   "id": "eb604cb0-467f-4a81-940b-e4fd07e94ab5",
   "metadata": {
    "tags": []
   },
   "source": [
    "## Prepare F2 metric\n",
    "**F2** is a variant of harmonic mean between recall and precision, with a stronger weight on the **recall**\n",
    "\n",
    "Using such a metric for measuring our model's performance is beneficial, since:\n",
    "- we want to classify correctly as many observations close to leaving (approaching the threshold of target class 1)(optimize FN -> recall)\n",
    "- at the same time we want to optimize resources used to keep the people falsely predicted as leaving (FP - False Positive -> precision), precision plays a factor, but it's less important than recall\n",
    "\n",
    "**F0.5** - f-beta with beta=0.5 (more weight on **precision**, less weight on **recall**)\\\n",
    "**F1** - f-beta with beta=1\\\n",
    "**F2** - f-beta with beta=2 (more weight on **recall**, less on **precision**)"
   ]
  },
  {
   "cell_type": "code",
   "execution_count": 8,
   "id": "2c15c628-fd08-44b2-b89a-b4ec4e1e273a",
   "metadata": {
    "tags": []
   },
   "outputs": [],
   "source": [
    "from sklearn.metrics import make_scorer,fbeta_score\n",
    "\n",
    "def f2_score(y_true, y_pred):\n",
    "    score = fbeta_score(y_true, y_pred, beta=2)\n",
    "    return score\n",
    "\n",
    "def f2():\n",
    "    return make_scorer(f2_score)"
   ]
  },
  {
   "cell_type": "markdown",
   "id": "99985edc-1cbc-4f93-8166-cdb0a7351624",
   "metadata": {},
   "source": [
    "## Load, clean and resample the data"
   ]
  },
  {
   "cell_type": "code",
   "execution_count": 9,
   "id": "534b1d81-fff6-4907-9583-85ed9a1a83cd",
   "metadata": {
    "tags": []
   },
   "outputs": [],
   "source": [
    "raw_data = pd.read_csv('../Data/HR_Analytics.csv')"
   ]
  },
  {
   "cell_type": "code",
   "execution_count": 10,
   "id": "a986cf2f-a8e3-450d-ab12-4c9e6a62a3dc",
   "metadata": {
    "tags": []
   },
   "outputs": [],
   "source": [
    "def sampling_data(DF):\n",
    "    '''Only to be performed on the train-sets. Handles the outliers, encodes target vector and removes duplicates.\n",
    "    '''\n",
    "    DF.drop_duplicates(inplace=True)\n",
    "    # not sure if it's a good practice to do it on the test set, maybe after split?\n",
    "    # if happens after the split - requires reindexing of the target vector\n",
    "    \n",
    "    # - - - - - - - - - - - - - - - - - - - - - - - - - - - - - -\n",
    "    # Attrition label encoding\n",
    "    DF.loc[:,('Attrition')].replace({'Yes': 1, 'No': 0}, inplace=True)\n",
    "    \n",
    "    return DF\n",
    "\n",
    "data = sampling_data(raw_data)"
   ]
  },
  {
   "cell_type": "code",
   "execution_count": 11,
   "id": "80012762-66d5-493e-9b4a-dca7ad924dc1",
   "metadata": {
    "tags": []
   },
   "outputs": [
    {
     "name": "stdout",
     "output_type": "stream",
     "text": [
      "Duplicated observations: 0\n"
     ]
    }
   ],
   "source": [
    "print('Duplicated observations: {}'.format(data.duplicated().sum()))"
   ]
  },
  {
   "cell_type": "code",
   "execution_count": 12,
   "id": "9720687d-11ed-456b-a376-fe47b05d1b4d",
   "metadata": {
    "tags": []
   },
   "outputs": [],
   "source": [
    "# - - - - - - - - - - - - - - - - - - - - - - - - - - - - - - - -\n",
    "# train-test split\n",
    "\n",
    "Xtrain, Xtest, ytrain, ytest = train_test_split(data.drop('Attrition', axis=1), \n",
    "                                                data['Attrition'], \n",
    "                                                test_size=0.2, \n",
    "                                                shuffle=True,\n",
    "                                                stratify=data['Attrition'], \n",
    "                                                random_state=random_seed_split)\n",
    "                                                # is stratify practically like undersampling or keeps the original proportion?"
   ]
  },
  {
   "cell_type": "code",
   "execution_count": 13,
   "id": "c67bb7ea-70c4-467c-8072-5988f6ffa9d7",
   "metadata": {
    "tags": []
   },
   "outputs": [],
   "source": [
    "# Assign columns to column groups\n",
    "catcols = ['AgeGroup', 'SalarySlab', 'Department', 'EducationField', 'JobRole', 'MaritalStatus']\n",
    "numcols = ['Education', 'EnvironmentSatisfaction', 'BusinessTravel', 'JobInvolvement', 'JobLevel', 'JobSatisfaction', 'PerformanceRating', \n",
    "           'RelationshipSatisfaction', 'StockOptionLevel', 'WorkLifeBalance', 'OverTime', 'Gender', 'Age', 'DailyRate', 'DistanceFromHome', \n",
    "           'HourlyRate', 'MonthlyIncome', 'MonthlyRate', 'NumCompaniesWorked', 'PercentSalaryHike', 'TotalWorkingYears', \n",
    "           'TrainingTimesLastYear', 'YearsAtCompany', 'YearsInCurrentRole', 'YearsSinceLastPromotion', 'YearsWithCurrManager']\n",
    "delcols = ['EmpID', 'EmployeeNumber']\n",
    "\n",
    "# - - - - - - - - - - - - - - - - - - - - - - - - - - - - - - - -\n",
    "# clean data\n",
    "\n",
    "def clean_data(DF, delcols=delcols):\n",
    "    # df = DF.drop_duplicates()  \n",
    "    df = DF.copy()\n",
    "    \n",
    "    # - - - - - - - - - - - - - - - - - - - - - - - - - - - - - -\n",
    "    # drop columns with 1 unique value (std=0)\n",
    "    # practically: 'EmployeeCount', 'StandardHours', 'Over18'\n",
    "    \n",
    "    mask_single_value = list(df.nunique().index.values[df.nunique() == 1])\n",
    "    df = df.loc[:, ~df.columns.isin(mask_single_value)]\n",
    "    \n",
    "    # - - - - - - - - - - - - - - - - - - - - - - - - - - - - - -\n",
    "    # drop prediction-useless columns\n",
    "    \n",
    "    for column in delcols:\n",
    "        if column in df.columns.values:\n",
    "            df = df.drop(column, axis=1)\n",
    "        \n",
    "    # - - - - - - - - - - - - - - - - - - - - - - - - - - - - - -\n",
    "    # categ. - label encoding\n",
    "    \n",
    "    # df['AgeGroup'].replace({'18-25': 0,\n",
    "    #                         '26-35': 1,\n",
    "    #                         '36-45': 2,\n",
    "    #                         '46-55': 3,\n",
    "    #                         '55+': 4\n",
    "    #                        }, inplace=True)\n",
    "    # df['BusinessTravel'].replace({'Non-Travel': 0,\n",
    "    #                                'Travel_Rarely': 1,\n",
    "    #                                'TravelRarely': 1,\n",
    "    #                                'Travel_Frequently': 2\n",
    "    #                               }, inplace=True)\n",
    "    # df['Gender'].replace({'Male': 1, 'Female': 0}, inplace=True)   # potentially better to one-hot encode\n",
    "    # df['MaritalStatus'].replace({'Single': 0,\n",
    "    #                              'Divorced': 1,\n",
    "    #                              'Married': 2\n",
    "    #                             }, inplace=True)\n",
    "    # df['SalarySlab'].replace({'Upto 5k': 0,\n",
    "    #                           '5k-10k': 1,\n",
    "    #                           '10k-15k': 2,\n",
    "    #                           '15k+': 3}, inplace=True)\n",
    "    # df['OverTime'].replace({'Yes': 1, 'No': 0}, inplace=True)\n",
    "    # df['PerformanceRating'].replace({3: 0, 4: 1}, inplace=True)\n",
    "    \n",
    "    # - - - - - - - - - - - - - - - - - - - - - - - - - - - - - -\n",
    "    # Encoding as in SVC\n",
    "    \n",
    "    df = df.replace({\"Yes\": 1,\n",
    "                     \"No\": 0,\n",
    "                     \"Non-Travel\": 0,\n",
    "                     \"TravelRarely\": 1,\n",
    "                     \"Travel_Rarely\": 1,\n",
    "                     \"Travel_Frequently\": 2})\n",
    "    \n",
    "    # - - - - - - - - - - - - - - - - - - - - - - - - - - - - - -\n",
    "    # NaN handling: fillna with median (temp)\n",
    "        \n",
    "    #df = df.dropna(axis=0)\n",
    "    df = df.fillna(value={'YearsWithCurrManager': df.loc[:,'YearsWithCurrManager'].median()})\n",
    "    \n",
    "    # - - - - - - - - - - - - - - - - - - - - - - - - - - - - - -\n",
    "    # Data Types Conversion\n",
    "    \n",
    "    col_dtypes = {'YearsWithCurrManager': 'int8',\n",
    "                  # 'Department': 'category',\n",
    "                  # 'EducationField': 'category',\n",
    "                  # 'JobRole': 'category'\n",
    "                 }\n",
    "\n",
    "    for key in col_dtypes:\n",
    "        df[key] = df[key].astype(col_dtypes[key])\n",
    "    \n",
    "    return df"
   ]
  },
  {
   "cell_type": "code",
   "execution_count": 14,
   "id": "674d3625-1331-4aeb-8fd3-d33d9f4e0631",
   "metadata": {
    "tags": []
   },
   "outputs": [],
   "source": [
    "Xtrain = clean_data(Xtrain)\n",
    "Xtest = clean_data(Xtest)"
   ]
  },
  {
   "cell_type": "code",
   "execution_count": 15,
   "id": "8b028af2-2afb-43b8-b287-ef588912187a",
   "metadata": {
    "tags": []
   },
   "outputs": [
    {
     "data": {
      "text/html": [
       "<div>\n",
       "<style scoped>\n",
       "    .dataframe tbody tr th:only-of-type {\n",
       "        vertical-align: middle;\n",
       "    }\n",
       "\n",
       "    .dataframe tbody tr th {\n",
       "        vertical-align: top;\n",
       "    }\n",
       "\n",
       "    .dataframe thead th {\n",
       "        text-align: right;\n",
       "    }\n",
       "</style>\n",
       "<table border=\"1\" class=\"dataframe\">\n",
       "  <thead>\n",
       "    <tr style=\"text-align: right;\">\n",
       "      <th>col_0</th>\n",
       "      <th>count</th>\n",
       "    </tr>\n",
       "    <tr>\n",
       "      <th>Attrition</th>\n",
       "      <th></th>\n",
       "    </tr>\n",
       "  </thead>\n",
       "  <tbody>\n",
       "    <tr>\n",
       "      <th>0</th>\n",
       "      <td>190</td>\n",
       "    </tr>\n",
       "    <tr>\n",
       "      <th>1</th>\n",
       "      <td>190</td>\n",
       "    </tr>\n",
       "  </tbody>\n",
       "</table>\n",
       "</div>"
      ],
      "text/plain": [
       "col_0      count\n",
       "Attrition       \n",
       "0            190\n",
       "1            190"
      ]
     },
     "execution_count": 15,
     "metadata": {},
     "output_type": "execute_result"
    }
   ],
   "source": [
    "# Undersampling - reducing the number of Attrition = 0 / No\n",
    "\n",
    "from imblearn.under_sampling import RandomUnderSampler\n",
    "undersampler = RandomUnderSampler(random_state=random_seed)\n",
    "\n",
    "X_under, y_under = undersampler.fit_resample(Xtrain, ytrain)\n",
    "\n",
    "# class distribution\n",
    "pd.crosstab(y_under, columns='count')"
   ]
  },
  {
   "cell_type": "code",
   "execution_count": 16,
   "id": "ee3aee63-4782-4b57-90eb-ac79e0e40c74",
   "metadata": {
    "tags": []
   },
   "outputs": [
    {
     "data": {
      "text/html": [
       "<div>\n",
       "<style scoped>\n",
       "    .dataframe tbody tr th:only-of-type {\n",
       "        vertical-align: middle;\n",
       "    }\n",
       "\n",
       "    .dataframe tbody tr th {\n",
       "        vertical-align: top;\n",
       "    }\n",
       "\n",
       "    .dataframe thead th {\n",
       "        text-align: right;\n",
       "    }\n",
       "</style>\n",
       "<table border=\"1\" class=\"dataframe\">\n",
       "  <thead>\n",
       "    <tr style=\"text-align: right;\">\n",
       "      <th>col_0</th>\n",
       "      <th>count</th>\n",
       "    </tr>\n",
       "    <tr>\n",
       "      <th>Attrition</th>\n",
       "      <th></th>\n",
       "    </tr>\n",
       "  </thead>\n",
       "  <tbody>\n",
       "    <tr>\n",
       "      <th>0</th>\n",
       "      <td>988</td>\n",
       "    </tr>\n",
       "    <tr>\n",
       "      <th>1</th>\n",
       "      <td>988</td>\n",
       "    </tr>\n",
       "  </tbody>\n",
       "</table>\n",
       "</div>"
      ],
      "text/plain": [
       "col_0      count\n",
       "Attrition       \n",
       "0            988\n",
       "1            988"
      ]
     },
     "execution_count": 16,
     "metadata": {},
     "output_type": "execute_result"
    }
   ],
   "source": [
    "# Oversampling - increasing the minority class\n",
    "\n",
    "from imblearn.over_sampling import RandomOverSampler\n",
    "oversampler = RandomOverSampler(random_state=42)\n",
    "\n",
    "X_over, y_over = oversampler.fit_resample(Xtrain, ytrain)\n",
    "\n",
    "# class distribution\n",
    "pd.crosstab(y_over, columns='count')"
   ]
  },
  {
   "cell_type": "code",
   "execution_count": 17,
   "id": "e387ea1d-05fd-47c9-8ed0-1c5d06135263",
   "metadata": {
    "tags": []
   },
   "outputs": [
    {
     "name": "stdout",
     "output_type": "stream",
     "text": [
      "<class 'pandas.core.frame.DataFrame'>\n",
      "Int64Index: 1178 entries, 1278 to 640\n",
      "Data columns (total 32 columns):\n",
      " #   Column                    Non-Null Count  Dtype \n",
      "---  ------                    --------------  ----- \n",
      " 0   Age                       1178 non-null   int64 \n",
      " 1   AgeGroup                  1178 non-null   object\n",
      " 2   BusinessTravel            1178 non-null   int64 \n",
      " 3   DailyRate                 1178 non-null   int64 \n",
      " 4   Department                1178 non-null   object\n",
      " 5   DistanceFromHome          1178 non-null   int64 \n",
      " 6   Education                 1178 non-null   int64 \n",
      " 7   EducationField            1178 non-null   object\n",
      " 8   EnvironmentSatisfaction   1178 non-null   int64 \n",
      " 9   Gender                    1178 non-null   object\n",
      " 10  HourlyRate                1178 non-null   int64 \n",
      " 11  JobInvolvement            1178 non-null   int64 \n",
      " 12  JobLevel                  1178 non-null   int64 \n",
      " 13  JobRole                   1178 non-null   object\n",
      " 14  JobSatisfaction           1178 non-null   int64 \n",
      " 15  MaritalStatus             1178 non-null   object\n",
      " 16  MonthlyIncome             1178 non-null   int64 \n",
      " 17  SalarySlab                1178 non-null   object\n",
      " 18  MonthlyRate               1178 non-null   int64 \n",
      " 19  NumCompaniesWorked        1178 non-null   int64 \n",
      " 20  OverTime                  1178 non-null   int64 \n",
      " 21  PercentSalaryHike         1178 non-null   int64 \n",
      " 22  PerformanceRating         1178 non-null   int64 \n",
      " 23  RelationshipSatisfaction  1178 non-null   int64 \n",
      " 24  StockOptionLevel          1178 non-null   int64 \n",
      " 25  TotalWorkingYears         1178 non-null   int64 \n",
      " 26  TrainingTimesLastYear     1178 non-null   int64 \n",
      " 27  WorkLifeBalance           1178 non-null   int64 \n",
      " 28  YearsAtCompany            1178 non-null   int64 \n",
      " 29  YearsInCurrentRole        1178 non-null   int64 \n",
      " 30  YearsSinceLastPromotion   1178 non-null   int64 \n",
      " 31  YearsWithCurrManager      1178 non-null   int8  \n",
      "dtypes: int64(24), int8(1), object(7)\n",
      "memory usage: 295.7+ KB\n"
     ]
    }
   ],
   "source": [
    "Xtrain.info()"
   ]
  },
  {
   "cell_type": "markdown",
   "id": "b8147ffb-9a24-49da-a4fa-75e4e524901f",
   "metadata": {},
   "source": [
    "### Prepare preprocessing"
   ]
  },
  {
   "cell_type": "code",
   "execution_count": 18,
   "id": "1794bfa6-c42e-4e86-86f5-04d9ac354c52",
   "metadata": {
    "tags": []
   },
   "outputs": [],
   "source": [
    "# define num_cols and cat_cols\n",
    "\n",
    "num_cols = list(Xtrain.select_dtypes(include='number').columns.values)\n",
    "# cat_cols = list(Xtrain.select_dtypes(include='category').columns.values)\n",
    "cat_cols = list(Xtrain.select_dtypes(include='object').columns.values)"
   ]
  },
  {
   "cell_type": "code",
   "execution_count": 19,
   "id": "7bb2c5a6-9909-438c-adbe-9098b6e380f7",
   "metadata": {
    "tags": []
   },
   "outputs": [],
   "source": [
    "# main pipeline\n",
    "\n",
    "encoder = OneHotEncoder(handle_unknown='ignore', sparse_output=False)\n",
    "knnimp = KNNImputer(add_indicator=True)\n",
    "simpimp = SimpleImputer(strategy='median')\n",
    "std = StandardScaler()\n",
    "\n",
    "imputer = simpimp\n",
    "\n",
    "catpipe = make_pipeline(encoder)\n",
    "numpipe = Pipeline([('imputer', simpimp),\n",
    "                    ('scaler', std)])\n",
    "\n",
    "coltrans = ColumnTransformer(transformers=[('encoder', encoder, cat_cols),\n",
    "                                           ('numpipe', numpipe, num_cols)], remainder='drop')\n",
    "selection = SelectPercentile(percentile=90) # percentile=10"
   ]
  },
  {
   "cell_type": "markdown",
   "id": "04ccfeec-b708-483b-b59e-d46e98fed8e1",
   "metadata": {},
   "source": [
    "### Instantiate classifier"
   ]
  },
  {
   "cell_type": "code",
   "execution_count": 20,
   "id": "37c39270-b85b-4895-a49c-ffdb993531a3",
   "metadata": {
    "tags": []
   },
   "outputs": [],
   "source": [
    "model_name = 'Logistic Regression'\n",
    "log = LogisticRegression(solver='saga',  \n",
    "                         class_weight='balanced',\n",
    "                         max_iter=int(1e4),\n",
    "                         random_state=random_seed)\n",
    "\n",
    "# check:\n",
    "# solver='liblinear'"
   ]
  },
  {
   "cell_type": "markdown",
   "id": "85b8dabb-829a-47d1-a6f1-d549010e5278",
   "metadata": {},
   "source": [
    "### Set search space"
   ]
  },
  {
   "cell_type": "code",
   "execution_count": 21,
   "id": "c948b1d8-02db-49ca-ab33-cb967711f664",
   "metadata": {
    "tags": []
   },
   "outputs": [
    {
     "name": "stdout",
     "output_type": "stream",
     "text": [
      "[1.00000000e-03 2.89426612e-03 8.37677640e-03 2.42446202e-02\n",
      " 7.01703829e-02 2.03091762e-01 5.87801607e-01 1.70125428e+00\n",
      " 4.92388263e+00 1.42510267e+01 4.12462638e+01 1.19377664e+02\n",
      " 3.45510729e+02 1.00000000e+03]\n"
     ]
    }
   ],
   "source": [
    "# np.set_printoptions(suppress=True) # to avoid scientific notation\n",
    "# temp_C = np.linspace(start=0.01, stop=1, num=10, dtype='float')\n",
    "# with logistic reg. you want to try the reg. values with increasing steps, not jump straight from the \n",
    "# little regul. to a lot\n",
    "\n",
    "temp_C = np.geomspace(start=0.001, stop=1000, num=14, dtype='float')\n",
    "print(temp_C)"
   ]
  },
  {
   "cell_type": "code",
   "execution_count": 22,
   "id": "b46b3a1b-fa31-49f3-a36e-351cbc869a50",
   "metadata": {
    "tags": []
   },
   "outputs": [],
   "source": [
    "search_space = {'estimator__C': np.geomspace(start=0.136, stop=0.138, num=20, dtype='float'),\n",
    "                'estimator__penalty': ['l1', 'l2']  # l1 - lasso; l2 - ridge\n",
    "                \n",
    "                #'estimator__solver': ['saga', 'liblinear']\n",
    "                #'selector__percentile': [90]\n",
    "                #'prepper__numpipe__imputer__strategy': ['mean', 'median']\n",
    "               }\n",
    "# start=0.08, stop=0.085\n",
    "# np.geomspace(start=0.0041, stop=0.00416, num=20, dtype='float')  # best for 'saga'\n",
    "# np.geomspace(start=0.21, stop=0.3, num=20, dtype='float')  # beginning of tunning of 'liblinear' 0.001 1000"
   ]
  },
  {
   "cell_type": "markdown",
   "id": "6dd3a472-003a-4301-8a51-9c342822a410",
   "metadata": {},
   "source": [
    "## Pipeline finalization and grid search"
   ]
  },
  {
   "cell_type": "code",
   "execution_count": 23,
   "id": "61fb3f6b-3a3a-480f-a5aa-fd1097803805",
   "metadata": {
    "tags": []
   },
   "outputs": [
    {
     "name": "stdout",
     "output_type": "stream",
     "text": [
      "Fitting 6 folds for each of 40 candidates, totalling 240 fits\n",
      "{'estimator__C': 0.13662842747580378, 'estimator__penalty': 'l2'}\n",
      "Best F2 score: 64.04%\n",
      "\n",
      "- - - - - - - - - - - - - - - - - - - - - - - - - - - - - - - - - - - - - - - - \n",
      "\n",
      "F2 score on test set:\t70.67%\n",
      "Recall on test set:\t85.11%\n",
      "Precision on test set:\t42.11%\n"
     ]
    }
   ],
   "source": [
    "pipe_log = Pipeline([('preproc', coltrans),\n",
    "                     ('selector', selection),\n",
    "                     ('estimator', log)])\n",
    "\n",
    "pipe_log = GridSearchCV(estimator=pipe_log,\n",
    "                        param_grid=search_space,\n",
    "                        scoring=f2(),\n",
    "                        cv=6,\n",
    "                        verbose=3,\n",
    "                        n_jobs=-1)\n",
    "pipe_log.fit(Xtrain, ytrain)\n",
    "#model_svc = pipe_svc.best_estimator_\n",
    "#print(grid_svc.best_estimator_)\n",
    "\n",
    "print(pipe_log.best_params_)\n",
    "print(f'Best F2 score: {pipe_log.best_score_.mean():.2%}')\n",
    "f_divline()\n",
    "\n",
    "# - - - - - - - - - - - - - - - - - - - - - - - - - - - - - - - -\n",
    "# prediction on the test set\n",
    "\n",
    "ypred = pipe_log.best_estimator_.predict(Xtest)\n",
    "\n",
    "print(f'F2 score on test set:\\t{f2_score(ytest, ypred):.2%}')\n",
    "print(f'Recall on test set:\\t{recall_score(ytest, ypred):.2%}')\n",
    "print(f'Precision on test set:\\t{precision_score(ytest, ypred):.2%}')"
   ]
  },
  {
   "cell_type": "code",
   "execution_count": 24,
   "id": "219d7b55-953d-4517-9e1f-5d50a0af197a",
   "metadata": {
    "tags": []
   },
   "outputs": [
    {
     "data": {
      "text/html": [
       "<style>#sk-container-id-1 {color: black;background-color: white;}#sk-container-id-1 pre{padding: 0;}#sk-container-id-1 div.sk-toggleable {background-color: white;}#sk-container-id-1 label.sk-toggleable__label {cursor: pointer;display: block;width: 100%;margin-bottom: 0;padding: 0.3em;box-sizing: border-box;text-align: center;}#sk-container-id-1 label.sk-toggleable__label-arrow:before {content: \"▸\";float: left;margin-right: 0.25em;color: #696969;}#sk-container-id-1 label.sk-toggleable__label-arrow:hover:before {color: black;}#sk-container-id-1 div.sk-estimator:hover label.sk-toggleable__label-arrow:before {color: black;}#sk-container-id-1 div.sk-toggleable__content {max-height: 0;max-width: 0;overflow: hidden;text-align: left;background-color: #f0f8ff;}#sk-container-id-1 div.sk-toggleable__content pre {margin: 0.2em;color: black;border-radius: 0.25em;background-color: #f0f8ff;}#sk-container-id-1 input.sk-toggleable__control:checked~div.sk-toggleable__content {max-height: 200px;max-width: 100%;overflow: auto;}#sk-container-id-1 input.sk-toggleable__control:checked~label.sk-toggleable__label-arrow:before {content: \"▾\";}#sk-container-id-1 div.sk-estimator input.sk-toggleable__control:checked~label.sk-toggleable__label {background-color: #d4ebff;}#sk-container-id-1 div.sk-label input.sk-toggleable__control:checked~label.sk-toggleable__label {background-color: #d4ebff;}#sk-container-id-1 input.sk-hidden--visually {border: 0;clip: rect(1px 1px 1px 1px);clip: rect(1px, 1px, 1px, 1px);height: 1px;margin: -1px;overflow: hidden;padding: 0;position: absolute;width: 1px;}#sk-container-id-1 div.sk-estimator {font-family: monospace;background-color: #f0f8ff;border: 1px dotted black;border-radius: 0.25em;box-sizing: border-box;margin-bottom: 0.5em;}#sk-container-id-1 div.sk-estimator:hover {background-color: #d4ebff;}#sk-container-id-1 div.sk-parallel-item::after {content: \"\";width: 100%;border-bottom: 1px solid gray;flex-grow: 1;}#sk-container-id-1 div.sk-label:hover label.sk-toggleable__label {background-color: #d4ebff;}#sk-container-id-1 div.sk-serial::before {content: \"\";position: absolute;border-left: 1px solid gray;box-sizing: border-box;top: 0;bottom: 0;left: 50%;z-index: 0;}#sk-container-id-1 div.sk-serial {display: flex;flex-direction: column;align-items: center;background-color: white;padding-right: 0.2em;padding-left: 0.2em;position: relative;}#sk-container-id-1 div.sk-item {position: relative;z-index: 1;}#sk-container-id-1 div.sk-parallel {display: flex;align-items: stretch;justify-content: center;background-color: white;position: relative;}#sk-container-id-1 div.sk-item::before, #sk-container-id-1 div.sk-parallel-item::before {content: \"\";position: absolute;border-left: 1px solid gray;box-sizing: border-box;top: 0;bottom: 0;left: 50%;z-index: -1;}#sk-container-id-1 div.sk-parallel-item {display: flex;flex-direction: column;z-index: 1;position: relative;background-color: white;}#sk-container-id-1 div.sk-parallel-item:first-child::after {align-self: flex-end;width: 50%;}#sk-container-id-1 div.sk-parallel-item:last-child::after {align-self: flex-start;width: 50%;}#sk-container-id-1 div.sk-parallel-item:only-child::after {width: 0;}#sk-container-id-1 div.sk-dashed-wrapped {border: 1px dashed gray;margin: 0 0.4em 0.5em 0.4em;box-sizing: border-box;padding-bottom: 0.4em;background-color: white;}#sk-container-id-1 div.sk-label label {font-family: monospace;font-weight: bold;display: inline-block;line-height: 1.2em;}#sk-container-id-1 div.sk-label-container {text-align: center;}#sk-container-id-1 div.sk-container {/* jupyter's `normalize.less` sets `[hidden] { display: none; }` but bootstrap.min.css set `[hidden] { display: none !important; }` so we also need the `!important` here to be able to override the default hidden behavior on the sphinx rendered scikit-learn.org. See: https://github.com/scikit-learn/scikit-learn/issues/21755 */display: inline-block !important;position: relative;}#sk-container-id-1 div.sk-text-repr-fallback {display: none;}</style><div id=\"sk-container-id-1\" class=\"sk-top-container\"><div class=\"sk-text-repr-fallback\"><pre>LogisticRegression(class_weight=&#x27;balanced&#x27;, max_iter=10000, random_state=42,\n",
       "                   solver=&#x27;saga&#x27;)</pre><b>In a Jupyter environment, please rerun this cell to show the HTML representation or trust the notebook. <br />On GitHub, the HTML representation is unable to render, please try loading this page with nbviewer.org.</b></div><div class=\"sk-container\" hidden><div class=\"sk-item\"><div class=\"sk-estimator sk-toggleable\"><input class=\"sk-toggleable__control sk-hidden--visually\" id=\"sk-estimator-id-1\" type=\"checkbox\" checked><label for=\"sk-estimator-id-1\" class=\"sk-toggleable__label sk-toggleable__label-arrow\">LogisticRegression</label><div class=\"sk-toggleable__content\"><pre>LogisticRegression(class_weight=&#x27;balanced&#x27;, max_iter=10000, random_state=42,\n",
       "                   solver=&#x27;saga&#x27;)</pre></div></div></div></div></div>"
      ],
      "text/plain": [
       "LogisticRegression(class_weight='balanced', max_iter=10000, random_state=42,\n",
       "                   solver='saga')"
      ]
     },
     "metadata": {},
     "output_type": "display_data"
    },
    {
     "name": "stdout",
     "output_type": "stream",
     "text": [
      "Best parameters:\n",
      "\n",
      "{'estimator__C': 0.13662842747580378, 'estimator__penalty': 'l2'}\n",
      "\n",
      "- - - - - - - - - - - - - - - - - - - - - - - - - - - - - - - - - - - - - - - - \n",
      "\n",
      "              precision    recall  f1-score   support\n",
      "\n",
      "  Stayed (0)     0.9650    0.7782    0.8616       248\n",
      "    Left (1)     0.4211    0.8511    0.5634        47\n",
      "\n",
      "    accuracy                         0.7898       295\n",
      "   macro avg     0.6930    0.8146    0.7125       295\n",
      "weighted avg     0.8783    0.7898    0.8141       295\n",
      "\n",
      "\n",
      "- - - - - - - - - - - - - - - - - - - - - - - - - - - - - - - - - - - - - - - - \n",
      "\n"
     ]
    },
    {
     "data": {
      "image/png": "[encoded data removed]",
      "text/plain": [
       "<Figure size 600x480 with 2 Axes>"
      ]
     },
     "metadata": {},
     "output_type": "display_data"
    }
   ],
   "source": [
    "labels = ['Stayed (0)', 'Left (1)']\n",
    "\n",
    "# - - - - - - - - - - - - - - - - - - - - - - - - - - - - - - - -\n",
    "# classification report\n",
    "\n",
    "display(log)\n",
    "print('Best parameters:\\n\\n{}'.format(pipe_log.best_params_))\n",
    "f_divline()\n",
    "print(classification_report(ytest, ypred, target_names=labels, digits=4))\n",
    "f_divline()\n",
    "\n",
    "# - - - - - - - - - - - - - - - - - - - - - - - - - - - - - - - -\n",
    "# confusion matrix\n",
    "\n",
    "plt.subplots(figsize=(6,4.8))\n",
    "\n",
    "confusion_matrix_base = confusion_matrix(ytest, ypred)\n",
    "conf_plot = sns.heatmap(confusion_matrix_base, annot=True, fmt='d')\n",
    "\n",
    "plt.title('Confusion matrix of the classifier')\n",
    "conf_plot.set_xticklabels(labels)\n",
    "conf_plot.set_yticklabels(labels)\n",
    "plt.xlabel('Predicted')\n",
    "plt.ylabel('True');"
   ]
  },
  {
   "cell_type": "code",
   "execution_count": 32,
   "id": "46c29da8-7080-49df-8c7b-f97649c81133",
   "metadata": {
    "tags": []
   },
   "outputs": [
    {
     "data": {
      "image/png": "[encoded data removed]",
      "text/plain": [
       "<Figure size 600x600 with 1 Axes>"
      ]
     },
     "metadata": {},
     "output_type": "display_data"
    }
   ],
   "source": [
    "# - - - - - - - - - - - - - - - - - - - - - - - - - - - - - - - -\n",
    "# ROC plot\n",
    "\n",
    "graph_roc = plot_roc(pipe_log, Xtest, ytest)"
   ]
  },
  {
   "cell_type": "code",
   "execution_count": 33,
   "id": "2779b41c-bb56-41c3-a7bc-c237be6ad37b",
   "metadata": {
    "tags": []
   },
   "outputs": [
    {
     "data": {
      "text/html": [
       "<div>\n",
       "<style scoped>\n",
       "    .dataframe tbody tr th:only-of-type {\n",
       "        vertical-align: middle;\n",
       "    }\n",
       "\n",
       "    .dataframe tbody tr th {\n",
       "        vertical-align: top;\n",
       "    }\n",
       "\n",
       "    .dataframe thead th {\n",
       "        text-align: right;\n",
       "    }\n",
       "</style>\n",
       "<table border=\"1\" class=\"dataframe\">\n",
       "  <thead>\n",
       "    <tr style=\"text-align: right;\">\n",
       "      <th></th>\n",
       "      <th>39</th>\n",
       "      <th>27</th>\n",
       "      <th>21</th>\n",
       "      <th>17</th>\n",
       "      <th>23</th>\n",
       "      <th>15</th>\n",
       "      <th>25</th>\n",
       "      <th>13</th>\n",
       "    </tr>\n",
       "  </thead>\n",
       "  <tbody>\n",
       "    <tr>\n",
       "      <th>mean_fit_time</th>\n",
       "      <td>0.03184</td>\n",
       "      <td>0.02958</td>\n",
       "      <td>0.03143</td>\n",
       "      <td>0.03147</td>\n",
       "      <td>0.03411</td>\n",
       "      <td>0.03069</td>\n",
       "      <td>0.03063</td>\n",
       "      <td>0.03103</td>\n",
       "    </tr>\n",
       "    <tr>\n",
       "      <th>std_fit_time</th>\n",
       "      <td>0.00394</td>\n",
       "      <td>0.00330</td>\n",
       "      <td>0.00432</td>\n",
       "      <td>0.00207</td>\n",
       "      <td>0.01351</td>\n",
       "      <td>0.00478</td>\n",
       "      <td>0.00496</td>\n",
       "      <td>0.00491</td>\n",
       "    </tr>\n",
       "    <tr>\n",
       "      <th>mean_score_time</th>\n",
       "      <td>0.00228</td>\n",
       "      <td>0.00298</td>\n",
       "      <td>0.00225</td>\n",
       "      <td>0.00278</td>\n",
       "      <td>0.00222</td>\n",
       "      <td>0.00224</td>\n",
       "      <td>0.00224</td>\n",
       "      <td>0.00230</td>\n",
       "    </tr>\n",
       "    <tr>\n",
       "      <th>std_score_time</th>\n",
       "      <td>0.00011</td>\n",
       "      <td>0.00175</td>\n",
       "      <td>0.00006</td>\n",
       "      <td>0.00079</td>\n",
       "      <td>0.00011</td>\n",
       "      <td>0.00005</td>\n",
       "      <td>0.00014</td>\n",
       "      <td>0.00016</td>\n",
       "    </tr>\n",
       "    <tr>\n",
       "      <th>param_estimator__C</th>\n",
       "      <td>0.13800</td>\n",
       "      <td>0.13737</td>\n",
       "      <td>0.13705</td>\n",
       "      <td>0.13684</td>\n",
       "      <td>0.13715</td>\n",
       "      <td>0.13673</td>\n",
       "      <td>0.13726</td>\n",
       "      <td>0.13663</td>\n",
       "    </tr>\n",
       "    <tr>\n",
       "      <th>param_estimator__penalty</th>\n",
       "      <td>l2</td>\n",
       "      <td>l2</td>\n",
       "      <td>l2</td>\n",
       "      <td>l2</td>\n",
       "      <td>l2</td>\n",
       "      <td>l2</td>\n",
       "      <td>l2</td>\n",
       "      <td>l2</td>\n",
       "    </tr>\n",
       "    <tr>\n",
       "      <th>params</th>\n",
       "      <td>{'estimator__C': 0.138, 'estimator__penalty': ...</td>\n",
       "      <td>{'estimator__C': 0.13736526392594048, 'estimat...</td>\n",
       "      <td>{'estimator__C': 0.1370489915390976, 'estimato...</td>\n",
       "      <td>{'estimator__C': 0.13683854793562977, 'estimat...</td>\n",
       "      <td>{'estimator__C': 0.1371543346749679, 'estimato...</td>\n",
       "      <td>{'estimator__C': 0.13673344734379184, 'estimat...</td>\n",
       "      <td>{'estimator__C': 0.13725975878316898, 'estimat...</td>\n",
       "      <td>{'estimator__C': 0.13662842747580378, 'estimat...</td>\n",
       "    </tr>\n",
       "    <tr>\n",
       "      <th>split0_test_score</th>\n",
       "      <td>0.62827</td>\n",
       "      <td>0.62827</td>\n",
       "      <td>0.62827</td>\n",
       "      <td>0.62827</td>\n",
       "      <td>0.62827</td>\n",
       "      <td>0.62827</td>\n",
       "      <td>0.62827</td>\n",
       "      <td>0.62827</td>\n",
       "    </tr>\n",
       "    <tr>\n",
       "      <th>split1_test_score</th>\n",
       "      <td>0.61856</td>\n",
       "      <td>0.61856</td>\n",
       "      <td>0.61856</td>\n",
       "      <td>0.61856</td>\n",
       "      <td>0.61856</td>\n",
       "      <td>0.61856</td>\n",
       "      <td>0.61856</td>\n",
       "      <td>0.61856</td>\n",
       "    </tr>\n",
       "    <tr>\n",
       "      <th>split2_test_score</th>\n",
       "      <td>0.72581</td>\n",
       "      <td>0.72581</td>\n",
       "      <td>0.72581</td>\n",
       "      <td>0.72581</td>\n",
       "      <td>0.72581</td>\n",
       "      <td>0.72581</td>\n",
       "      <td>0.72581</td>\n",
       "      <td>0.72581</td>\n",
       "    </tr>\n",
       "    <tr>\n",
       "      <th>split3_test_score</th>\n",
       "      <td>0.58824</td>\n",
       "      <td>0.58824</td>\n",
       "      <td>0.58824</td>\n",
       "      <td>0.58824</td>\n",
       "      <td>0.58824</td>\n",
       "      <td>0.58824</td>\n",
       "      <td>0.58824</td>\n",
       "      <td>0.58824</td>\n",
       "    </tr>\n",
       "    <tr>\n",
       "      <th>split4_test_score</th>\n",
       "      <td>0.61497</td>\n",
       "      <td>0.61497</td>\n",
       "      <td>0.61497</td>\n",
       "      <td>0.61497</td>\n",
       "      <td>0.61497</td>\n",
       "      <td>0.61497</td>\n",
       "      <td>0.61497</td>\n",
       "      <td>0.61497</td>\n",
       "    </tr>\n",
       "    <tr>\n",
       "      <th>split5_test_score</th>\n",
       "      <td>0.66667</td>\n",
       "      <td>0.66667</td>\n",
       "      <td>0.66667</td>\n",
       "      <td>0.66667</td>\n",
       "      <td>0.66667</td>\n",
       "      <td>0.66667</td>\n",
       "      <td>0.66667</td>\n",
       "      <td>0.66667</td>\n",
       "    </tr>\n",
       "    <tr>\n",
       "      <th>mean_test_score</th>\n",
       "      <td>0.64042</td>\n",
       "      <td>0.64042</td>\n",
       "      <td>0.64042</td>\n",
       "      <td>0.64042</td>\n",
       "      <td>0.64042</td>\n",
       "      <td>0.64042</td>\n",
       "      <td>0.64042</td>\n",
       "      <td>0.64042</td>\n",
       "    </tr>\n",
       "    <tr>\n",
       "      <th>std_test_score</th>\n",
       "      <td>0.04468</td>\n",
       "      <td>0.04468</td>\n",
       "      <td>0.04468</td>\n",
       "      <td>0.04468</td>\n",
       "      <td>0.04468</td>\n",
       "      <td>0.04468</td>\n",
       "      <td>0.04468</td>\n",
       "      <td>0.04468</td>\n",
       "    </tr>\n",
       "    <tr>\n",
       "      <th>rank_test_score</th>\n",
       "      <td>1</td>\n",
       "      <td>1</td>\n",
       "      <td>1</td>\n",
       "      <td>1</td>\n",
       "      <td>1</td>\n",
       "      <td>1</td>\n",
       "      <td>1</td>\n",
       "      <td>1</td>\n",
       "    </tr>\n",
       "  </tbody>\n",
       "</table>\n",
       "</div>"
      ],
      "text/plain": [
       "                                                                         39  \\\n",
       "mean_fit_time                                                       0.03184   \n",
       "std_fit_time                                                        0.00394   \n",
       "mean_score_time                                                     0.00228   \n",
       "std_score_time                                                      0.00011   \n",
       "param_estimator__C                                                  0.13800   \n",
       "param_estimator__penalty                                                 l2   \n",
       "params                    {'estimator__C': 0.138, 'estimator__penalty': ...   \n",
       "split0_test_score                                                   0.62827   \n",
       "split1_test_score                                                   0.61856   \n",
       "split2_test_score                                                   0.72581   \n",
       "split3_test_score                                                   0.58824   \n",
       "split4_test_score                                                   0.61497   \n",
       "split5_test_score                                                   0.66667   \n",
       "mean_test_score                                                     0.64042   \n",
       "std_test_score                                                      0.04468   \n",
       "rank_test_score                                                           1   \n",
       "\n",
       "                                                                         27  \\\n",
       "mean_fit_time                                                       0.02958   \n",
       "std_fit_time                                                        0.00330   \n",
       "mean_score_time                                                     0.00298   \n",
       "std_score_time                                                      0.00175   \n",
       "param_estimator__C                                                  0.13737   \n",
       "param_estimator__penalty                                                 l2   \n",
       "params                    {'estimator__C': 0.13736526392594048, 'estimat...   \n",
       "split0_test_score                                                   0.62827   \n",
       "split1_test_score                                                   0.61856   \n",
       "split2_test_score                                                   0.72581   \n",
       "split3_test_score                                                   0.58824   \n",
       "split4_test_score                                                   0.61497   \n",
       "split5_test_score                                                   0.66667   \n",
       "mean_test_score                                                     0.64042   \n",
       "std_test_score                                                      0.04468   \n",
       "rank_test_score                                                           1   \n",
       "\n",
       "                                                                         21  \\\n",
       "mean_fit_time                                                       0.03143   \n",
       "std_fit_time                                                        0.00432   \n",
       "mean_score_time                                                     0.00225   \n",
       "std_score_time                                                      0.00006   \n",
       "param_estimator__C                                                  0.13705   \n",
       "param_estimator__penalty                                                 l2   \n",
       "params                    {'estimator__C': 0.1370489915390976, 'estimato...   \n",
       "split0_test_score                                                   0.62827   \n",
       "split1_test_score                                                   0.61856   \n",
       "split2_test_score                                                   0.72581   \n",
       "split3_test_score                                                   0.58824   \n",
       "split4_test_score                                                   0.61497   \n",
       "split5_test_score                                                   0.66667   \n",
       "mean_test_score                                                     0.64042   \n",
       "std_test_score                                                      0.04468   \n",
       "rank_test_score                                                           1   \n",
       "\n",
       "                                                                         17  \\\n",
       "mean_fit_time                                                       0.03147   \n",
       "std_fit_time                                                        0.00207   \n",
       "mean_score_time                                                     0.00278   \n",
       "std_score_time                                                      0.00079   \n",
       "param_estimator__C                                                  0.13684   \n",
       "param_estimator__penalty                                                 l2   \n",
       "params                    {'estimator__C': 0.13683854793562977, 'estimat...   \n",
       "split0_test_score                                                   0.62827   \n",
       "split1_test_score                                                   0.61856   \n",
       "split2_test_score                                                   0.72581   \n",
       "split3_test_score                                                   0.58824   \n",
       "split4_test_score                                                   0.61497   \n",
       "split5_test_score                                                   0.66667   \n",
       "mean_test_score                                                     0.64042   \n",
       "std_test_score                                                      0.04468   \n",
       "rank_test_score                                                           1   \n",
       "\n",
       "                                                                         23  \\\n",
       "mean_fit_time                                                       0.03411   \n",
       "std_fit_time                                                        0.01351   \n",
       "mean_score_time                                                     0.00222   \n",
       "std_score_time                                                      0.00011   \n",
       "param_estimator__C                                                  0.13715   \n",
       "param_estimator__penalty                                                 l2   \n",
       "params                    {'estimator__C': 0.1371543346749679, 'estimato...   \n",
       "split0_test_score                                                   0.62827   \n",
       "split1_test_score                                                   0.61856   \n",
       "split2_test_score                                                   0.72581   \n",
       "split3_test_score                                                   0.58824   \n",
       "split4_test_score                                                   0.61497   \n",
       "split5_test_score                                                   0.66667   \n",
       "mean_test_score                                                     0.64042   \n",
       "std_test_score                                                      0.04468   \n",
       "rank_test_score                                                           1   \n",
       "\n",
       "                                                                         15  \\\n",
       "mean_fit_time                                                       0.03069   \n",
       "std_fit_time                                                        0.00478   \n",
       "mean_score_time                                                     0.00224   \n",
       "std_score_time                                                      0.00005   \n",
       "param_estimator__C                                                  0.13673   \n",
       "param_estimator__penalty                                                 l2   \n",
       "params                    {'estimator__C': 0.13673344734379184, 'estimat...   \n",
       "split0_test_score                                                   0.62827   \n",
       "split1_test_score                                                   0.61856   \n",
       "split2_test_score                                                   0.72581   \n",
       "split3_test_score                                                   0.58824   \n",
       "split4_test_score                                                   0.61497   \n",
       "split5_test_score                                                   0.66667   \n",
       "mean_test_score                                                     0.64042   \n",
       "std_test_score                                                      0.04468   \n",
       "rank_test_score                                                           1   \n",
       "\n",
       "                                                                         25  \\\n",
       "mean_fit_time                                                       0.03063   \n",
       "std_fit_time                                                        0.00496   \n",
       "mean_score_time                                                     0.00224   \n",
       "std_score_time                                                      0.00014   \n",
       "param_estimator__C                                                  0.13726   \n",
       "param_estimator__penalty                                                 l2   \n",
       "params                    {'estimator__C': 0.13725975878316898, 'estimat...   \n",
       "split0_test_score                                                   0.62827   \n",
       "split1_test_score                                                   0.61856   \n",
       "split2_test_score                                                   0.72581   \n",
       "split3_test_score                                                   0.58824   \n",
       "split4_test_score                                                   0.61497   \n",
       "split5_test_score                                                   0.66667   \n",
       "mean_test_score                                                     0.64042   \n",
       "std_test_score                                                      0.04468   \n",
       "rank_test_score                                                           1   \n",
       "\n",
       "                                                                         13  \n",
       "mean_fit_time                                                       0.03103  \n",
       "std_fit_time                                                        0.00491  \n",
       "mean_score_time                                                     0.00230  \n",
       "std_score_time                                                      0.00016  \n",
       "param_estimator__C                                                  0.13663  \n",
       "param_estimator__penalty                                                 l2  \n",
       "params                    {'estimator__C': 0.13662842747580378, 'estimat...  \n",
       "split0_test_score                                                   0.62827  \n",
       "split1_test_score                                                   0.61856  \n",
       "split2_test_score                                                   0.72581  \n",
       "split3_test_score                                                   0.58824  \n",
       "split4_test_score                                                   0.61497  \n",
       "split5_test_score                                                   0.66667  \n",
       "mean_test_score                                                     0.64042  \n",
       "std_test_score                                                      0.04468  \n",
       "rank_test_score                                                           1  "
      ]
     },
     "execution_count": 33,
     "metadata": {},
     "output_type": "execute_result"
    }
   ],
   "source": [
    "# increase the precision of result's display\n",
    "pd.options.display.float_format = '{:.5f}'.format\n",
    "\n",
    "# - - - - - - - - - - - - - - - - - - - - - - - - - - - - - - - -\n",
    "# Best results of Cross Validation on GridSearch\n",
    "\n",
    "results = pd.DataFrame(pipe_log.cv_results_).sort_values(by='mean_test_score', ascending=False).head(8).T\n",
    "results"
   ]
  },
  {
   "cell_type": "markdown",
   "id": "fdcf61b6-664c-471b-a7d6-153af52e4db5",
   "metadata": {},
   "source": [
    "## Feature importance"
   ]
  },
  {
   "cell_type": "code",
   "execution_count": 34,
   "id": "7a415ee7-243c-4a9d-8592-4d05a6aa233b",
   "metadata": {
    "tags": []
   },
   "outputs": [],
   "source": [
    "# - - - - - - - - - - - - - - - - - - - - - - - - - - - - - - - -\n",
    "# Estimate feature importance through permutation importance\n",
    "\n",
    "result = permutation_importance(pipe_log, Xtrain, ytrain, n_repeats=50, random_state=random_seed)\n",
    "importance_scores = result.importances_mean # abs\n",
    "\n",
    "original_columns = Xtrain.columns\n",
    "feature_importance_list = list(zip(original_columns, importance_scores))\n",
    "sorted_feature_importance = sorted(feature_importance_list, key=lambda x: x[1], reverse=False)\n",
    "orig_sorted_features, orig_sorted_importance = zip(*sorted_feature_importance)"
   ]
  },
  {
   "cell_type": "code",
   "execution_count": 35,
   "id": "e5366098-fa90-44d3-a3c6-2843a96eecdb",
   "metadata": {
    "tags": []
   },
   "outputs": [
    {
     "data": {
      "image/png": "[encoded data removed]",
      "text/plain": [
       "<Figure size 1100x1000 with 1 Axes>"
      ]
     },
     "metadata": {},
     "output_type": "display_data"
    }
   ],
   "source": [
    "plt.rc('ytick', labelsize=10)\n",
    "\n",
    "# - - - - - - - - - - - - - - - - - - - - - - - - - - - - - - - -\n",
    "# Visualization\n",
    "\n",
    "import matplotlib as mpl\n",
    "from matplotlib.cm import get_cmap\n",
    "\n",
    "colors = []\n",
    "cmap = mpl.colormaps['coolwarm']\n",
    "\n",
    "# scale data\n",
    "data = orig_sorted_importance\n",
    "denominator = max(data) - min(data) # max(data) - min(data)\n",
    "scaled_data = [(datum - min(data)) / denominator for datum in data]\n",
    "\n",
    "for decimal in scaled_data:\n",
    "    colors.append(cmap(decimal))\n",
    "\n",
    "\n",
    "fig_feature_importance, ax = plt.subplots(figsize=(11,10))\n",
    "\n",
    "ax.barh(orig_sorted_features, orig_sorted_importance, color=colors)\n",
    "ax.set(title='Features sorted by permutation importance',\n",
    "      xlabel='Permutation Importance');\n",
    "\n",
    "#ax.set_xticklabels({:.2%})"
   ]
  },
  {
   "cell_type": "markdown",
   "id": "a8450be7-3e53-4b46-8e60-93144dc241f9",
   "metadata": {},
   "source": [
    "# Feature Selection"
   ]
  },
  {
   "cell_type": "markdown",
   "id": "98d44393-b327-478c-8bf1-7661f1abff10",
   "metadata": {},
   "source": [
    "## Importance threshold"
   ]
  },
  {
   "cell_type": "code",
   "execution_count": 36,
   "id": "0ff8e1b8-815d-4486-af9e-fad604ec0214",
   "metadata": {
    "tags": []
   },
   "outputs": [
    {
     "name": "stdout",
     "output_type": "stream",
     "text": [
      "Num of features selected: 25 out of 32\n",
      "- - - - - - - - - - - - - - - - - - - - - - - - - - - - - - - - - - - - - - - - \n",
      "['Age', 'AgeGroup', 'BusinessTravel', 'DistanceFromHome', 'EducationField', 'EnvironmentSatisfaction', 'Gender', 'JobInvolvement', 'JobRole', 'JobSatisfaction', 'MaritalStatus', 'MonthlyIncome', 'SalarySlab', 'NumCompaniesWorked', 'OverTime', 'PercentSalaryHike', 'RelationshipSatisfaction', 'StockOptionLevel', 'TotalWorkingYears', 'TrainingTimesLastYear', 'WorkLifeBalance', 'YearsAtCompany', 'YearsInCurrentRole', 'YearsSinceLastPromotion', 'YearsWithCurrManager']\n"
     ]
    }
   ],
   "source": [
    "importance_threshold = 0.002\n",
    "selected_features = []\n",
    "\n",
    "for feature in feature_importance_list:\n",
    "    if feature[1] > importance_threshold:\n",
    "        selected_features.append(feature[0])\n",
    "\n",
    "print('Num of features selected: {} out of {}'.format(len(selected_features), len(feature_importance_list)))\n",
    "f_divline(False, False)\n",
    "print(selected_features)"
   ]
  },
  {
   "cell_type": "code",
   "execution_count": 37,
   "id": "be7a2481-61f0-4f2b-a16d-b297ef704109",
   "metadata": {
    "tags": []
   },
   "outputs": [
    {
     "name": "stdout",
     "output_type": "stream",
     "text": [
      "24\n"
     ]
    }
   ],
   "source": [
    "# additional features to be excluded\n",
    "exclude_features = ['YearsSinceLastPromotion']\n",
    "\n",
    "for feature in exclude_features:\n",
    "    if feature in selected_features:\n",
    "        selected_features.remove(feature)\n",
    "        \n",
    "print(len(selected_features))"
   ]
  },
  {
   "cell_type": "markdown",
   "id": "5ba48119-2d44-4ee8-ba10-540dd851354a",
   "metadata": {},
   "source": [
    "### Preprocessing"
   ]
  },
  {
   "cell_type": "code",
   "execution_count": 38,
   "id": "b0232181-a594-4ac2-a87a-c02f67f7af6a",
   "metadata": {
    "tags": []
   },
   "outputs": [
    {
     "name": "stdout",
     "output_type": "stream",
     "text": [
      "Num of features in Xtrain:\t24\n",
      "Num of features in Xtest:\t24\n"
     ]
    }
   ],
   "source": [
    "Xtrain_feat_sel = Xtrain.copy()\n",
    "Xtest_feat_sel = Xtest.copy()\n",
    "\n",
    "Xtrain_feat_sel = Xtrain_feat_sel.loc[:, selected_features]\n",
    "Xtest_feat_sel = Xtest_feat_sel.loc[:, selected_features]\n",
    "\n",
    "print('Num of features in Xtrain:\\t{}'.format(Xtrain_feat_sel.shape[1]))\n",
    "print('Num of features in Xtest:\\t{}'.format(Xtest_feat_sel.shape[1]))\n",
    "\n",
    "# - - - - - - - - - - - - - - - - - - - - - - - - - - - - - - - -\n",
    "# Define num_cols and cat_cols\n",
    "\n",
    "num_cols = list(Xtrain_feat_sel.select_dtypes(include='number').columns.values)\n",
    "# cat_cols = list(Xtrain_feat_sel.select_dtypes(include='category').columns.values)\n",
    "cat_cols = list(Xtrain_feat_sel.select_dtypes(include='object').columns.values)"
   ]
  },
  {
   "cell_type": "code",
   "execution_count": 39,
   "id": "79d68c94-9302-442f-9e96-5dbf7e701876",
   "metadata": {
    "tags": []
   },
   "outputs": [],
   "source": [
    "# - - - - - - - - - - - - - - - - - - - - - - - - - - - - - - - -\n",
    "# main pipeline\n",
    "\n",
    "encoder = OneHotEncoder(handle_unknown='ignore', sparse_output=False)\n",
    "knnimp = KNNImputer(add_indicator=True)\n",
    "simpimp = SimpleImputer(strategy='median')\n",
    "std = StandardScaler()\n",
    "\n",
    "imputer = simpimp\n",
    "\n",
    "catpipe = make_pipeline(encoder)\n",
    "numpipe = Pipeline([('imputer', simpimp),\n",
    "                    ('scaler', std)])\n",
    "\n",
    "coltrans = ColumnTransformer(transformers=[('encoder', encoder, cat_cols),\n",
    "                                           ('numpipe', numpipe, num_cols)], remainder='drop')\n",
    "selection = SelectPercentile(percentile=90) # percentile=10"
   ]
  },
  {
   "cell_type": "markdown",
   "id": "6c120da2-55a6-4e2c-8324-9a4f77ea3e23",
   "metadata": {},
   "source": [
    "### Instantiate classifier"
   ]
  },
  {
   "cell_type": "code",
   "execution_count": 40,
   "id": "a8256866-a55f-46fc-a35d-aa14d14b468f",
   "metadata": {
    "tags": []
   },
   "outputs": [],
   "source": [
    "model_name = 'Logistic Regression'\n",
    "log = LogisticRegression(solver='saga',  \n",
    "                         class_weight='balanced',\n",
    "                         max_iter=int(1e4),\n",
    "                         random_state=random_seed)\n",
    "\n",
    "# check:\n",
    "# solver='liblinear'"
   ]
  },
  {
   "cell_type": "markdown",
   "id": "e5d12ef0-37ef-45a8-8dde-1a7788046666",
   "metadata": {},
   "source": [
    "### Set search space"
   ]
  },
  {
   "cell_type": "code",
   "execution_count": 41,
   "id": "3b62d7aa-889f-41f5-a36a-0080a71734a2",
   "metadata": {
    "tags": []
   },
   "outputs": [
    {
     "name": "stdout",
     "output_type": "stream",
     "text": [
      "[1.00000000e-03 2.89426612e-03 8.37677640e-03 2.42446202e-02\n",
      " 7.01703829e-02 2.03091762e-01 5.87801607e-01 1.70125428e+00\n",
      " 4.92388263e+00 1.42510267e+01 4.12462638e+01 1.19377664e+02\n",
      " 3.45510729e+02 1.00000000e+03]\n"
     ]
    }
   ],
   "source": [
    "# np.set_printoptions(suppress=True) # to avoid scientific notation\n",
    "# temp_C = np.linspace(start=0.01, stop=1, num=10, dtype='float')\n",
    "# with logistic reg. you want to try the reg. values with increasing steps, not jump straight from the \n",
    "# little regul. to a lot\n",
    "\n",
    "temp_C = np.geomspace(start=0.001, stop=1000, num=14, dtype='float')\n",
    "print(temp_C)"
   ]
  },
  {
   "cell_type": "code",
   "execution_count": 42,
   "id": "81221af5-1cc9-4518-a976-976a94a4b115",
   "metadata": {
    "tags": []
   },
   "outputs": [],
   "source": [
    "search_space = {'estimator__C': np.geomspace(start=0.0185, stop=0.0189, num=20, dtype='float'),\n",
    "                'estimator__penalty': ['l1', 'l2'],  # l1 - lasso; l2 - ridge\n",
    "                'estimator__solver': ['saga', 'liblinear']\n",
    "                #'selector__percentile': [90]\n",
    "                #'prepper__numpipe__imputer__strategy': ['mean', 'median']\n",
    "               }\n",
    "# start=0.0723, stop=0.0725\n",
    "# start=0.08, stop=0.085\n",
    "# np.geomspace(start=0.0041, stop=0.00416, num=20, dtype='float')  # best for 'saga'\n",
    "# np.geomspace(start=0.21, stop=0.3, num=20, dtype='float')  # beginning of tunning of 'liblinear' 0.001 1000"
   ]
  },
  {
   "cell_type": "markdown",
   "id": "f3a2f3dd-637c-453e-9d50-d4d649f0e124",
   "metadata": {},
   "source": [
    "## Pipeline finalization and grid search"
   ]
  },
  {
   "cell_type": "code",
   "execution_count": 43,
   "id": "8ae7e3ab-9898-4bc0-9820-873abc0a035c",
   "metadata": {
    "tags": []
   },
   "outputs": [
    {
     "name": "stdout",
     "output_type": "stream",
     "text": [
      "Fitting 6 folds for each of 80 candidates, totalling 480 fits\n",
      "{'estimator__C': 0.018541703462168678, 'estimator__penalty': 'l2', 'estimator__solver': 'saga'}\n",
      "Best F2 score: 63.09%\n",
      "\n",
      "- - - - - - - - - - - - - - - - - - - - - - - - - - - - - - - - - - - - - - - - \n",
      "\n",
      "F2 score on test set:\t72.44%\n",
      "Recall on test set:\t87.23%\n",
      "Precision on test set:\t43.16%\n"
     ]
    }
   ],
   "source": [
    "pipe_log = Pipeline([('preproc', coltrans),\n",
    "                     ('selector', selection),\n",
    "                     ('estimator', log)])\n",
    "\n",
    "pipe_log = GridSearchCV(estimator=pipe_log,\n",
    "                        param_grid=search_space,\n",
    "                        scoring=f2(),\n",
    "                        cv=6,\n",
    "                        verbose=3,\n",
    "                        n_jobs=-1)\n",
    "pipe_log.fit(Xtrain_feat_sel, ytrain)\n",
    "#model_svc = pipe_svc.best_estimator_\n",
    "#print(grid_svc.best_estimator_)\n",
    "\n",
    "print(pipe_log.best_params_)\n",
    "print(f'Best F2 score: {pipe_log.best_score_.mean():.2%}')\n",
    "f_divline()\n",
    "\n",
    "# - - - - - - - - - - - - - - - - - - - - - - - - - - - - - - - -\n",
    "# prediction on the test set\n",
    "\n",
    "ypred = pipe_log.best_estimator_.predict(Xtest_feat_sel)\n",
    "\n",
    "print(f'F2 score on test set:\\t{f2_score(ytest, ypred):.2%}')\n",
    "print(f'Recall on test set:\\t{recall_score(ytest, ypred):.2%}')\n",
    "print(f'Precision on test set:\\t{precision_score(ytest, ypred):.2%}')"
   ]
  },
  {
   "cell_type": "code",
   "execution_count": 44,
   "id": "cae41575-cc64-4f4d-80b6-dbeaad01bd3b",
   "metadata": {
    "tags": []
   },
   "outputs": [
    {
     "data": {
      "text/html": [
       "<style>#sk-container-id-2 {color: black;background-color: white;}#sk-container-id-2 pre{padding: 0;}#sk-container-id-2 div.sk-toggleable {background-color: white;}#sk-container-id-2 label.sk-toggleable__label {cursor: pointer;display: block;width: 100%;margin-bottom: 0;padding: 0.3em;box-sizing: border-box;text-align: center;}#sk-container-id-2 label.sk-toggleable__label-arrow:before {content: \"▸\";float: left;margin-right: 0.25em;color: #696969;}#sk-container-id-2 label.sk-toggleable__label-arrow:hover:before {color: black;}#sk-container-id-2 div.sk-estimator:hover label.sk-toggleable__label-arrow:before {color: black;}#sk-container-id-2 div.sk-toggleable__content {max-height: 0;max-width: 0;overflow: hidden;text-align: left;background-color: #f0f8ff;}#sk-container-id-2 div.sk-toggleable__content pre {margin: 0.2em;color: black;border-radius: 0.25em;background-color: #f0f8ff;}#sk-container-id-2 input.sk-toggleable__control:checked~div.sk-toggleable__content {max-height: 200px;max-width: 100%;overflow: auto;}#sk-container-id-2 input.sk-toggleable__control:checked~label.sk-toggleable__label-arrow:before {content: \"▾\";}#sk-container-id-2 div.sk-estimator input.sk-toggleable__control:checked~label.sk-toggleable__label {background-color: #d4ebff;}#sk-container-id-2 div.sk-label input.sk-toggleable__control:checked~label.sk-toggleable__label {background-color: #d4ebff;}#sk-container-id-2 input.sk-hidden--visually {border: 0;clip: rect(1px 1px 1px 1px);clip: rect(1px, 1px, 1px, 1px);height: 1px;margin: -1px;overflow: hidden;padding: 0;position: absolute;width: 1px;}#sk-container-id-2 div.sk-estimator {font-family: monospace;background-color: #f0f8ff;border: 1px dotted black;border-radius: 0.25em;box-sizing: border-box;margin-bottom: 0.5em;}#sk-container-id-2 div.sk-estimator:hover {background-color: #d4ebff;}#sk-container-id-2 div.sk-parallel-item::after {content: \"\";width: 100%;border-bottom: 1px solid gray;flex-grow: 1;}#sk-container-id-2 div.sk-label:hover label.sk-toggleable__label {background-color: #d4ebff;}#sk-container-id-2 div.sk-serial::before {content: \"\";position: absolute;border-left: 1px solid gray;box-sizing: border-box;top: 0;bottom: 0;left: 50%;z-index: 0;}#sk-container-id-2 div.sk-serial {display: flex;flex-direction: column;align-items: center;background-color: white;padding-right: 0.2em;padding-left: 0.2em;position: relative;}#sk-container-id-2 div.sk-item {position: relative;z-index: 1;}#sk-container-id-2 div.sk-parallel {display: flex;align-items: stretch;justify-content: center;background-color: white;position: relative;}#sk-container-id-2 div.sk-item::before, #sk-container-id-2 div.sk-parallel-item::before {content: \"\";position: absolute;border-left: 1px solid gray;box-sizing: border-box;top: 0;bottom: 0;left: 50%;z-index: -1;}#sk-container-id-2 div.sk-parallel-item {display: flex;flex-direction: column;z-index: 1;position: relative;background-color: white;}#sk-container-id-2 div.sk-parallel-item:first-child::after {align-self: flex-end;width: 50%;}#sk-container-id-2 div.sk-parallel-item:last-child::after {align-self: flex-start;width: 50%;}#sk-container-id-2 div.sk-parallel-item:only-child::after {width: 0;}#sk-container-id-2 div.sk-dashed-wrapped {border: 1px dashed gray;margin: 0 0.4em 0.5em 0.4em;box-sizing: border-box;padding-bottom: 0.4em;background-color: white;}#sk-container-id-2 div.sk-label label {font-family: monospace;font-weight: bold;display: inline-block;line-height: 1.2em;}#sk-container-id-2 div.sk-label-container {text-align: center;}#sk-container-id-2 div.sk-container {/* jupyter's `normalize.less` sets `[hidden] { display: none; }` but bootstrap.min.css set `[hidden] { display: none !important; }` so we also need the `!important` here to be able to override the default hidden behavior on the sphinx rendered scikit-learn.org. See: https://github.com/scikit-learn/scikit-learn/issues/21755 */display: inline-block !important;position: relative;}#sk-container-id-2 div.sk-text-repr-fallback {display: none;}</style><div id=\"sk-container-id-2\" class=\"sk-top-container\"><div class=\"sk-text-repr-fallback\"><pre>LogisticRegression(class_weight=&#x27;balanced&#x27;, max_iter=10000, random_state=42,\n",
       "                   solver=&#x27;saga&#x27;)</pre><b>In a Jupyter environment, please rerun this cell to show the HTML representation or trust the notebook. <br />On GitHub, the HTML representation is unable to render, please try loading this page with nbviewer.org.</b></div><div class=\"sk-container\" hidden><div class=\"sk-item\"><div class=\"sk-estimator sk-toggleable\"><input class=\"sk-toggleable__control sk-hidden--visually\" id=\"sk-estimator-id-2\" type=\"checkbox\" checked><label for=\"sk-estimator-id-2\" class=\"sk-toggleable__label sk-toggleable__label-arrow\">LogisticRegression</label><div class=\"sk-toggleable__content\"><pre>LogisticRegression(class_weight=&#x27;balanced&#x27;, max_iter=10000, random_state=42,\n",
       "                   solver=&#x27;saga&#x27;)</pre></div></div></div></div></div>"
      ],
      "text/plain": [
       "LogisticRegression(class_weight='balanced', max_iter=10000, random_state=42,\n",
       "                   solver='saga')"
      ]
     },
     "metadata": {},
     "output_type": "display_data"
    },
    {
     "name": "stdout",
     "output_type": "stream",
     "text": [
      "Best parameters:\n",
      "\n",
      "{'estimator__C': 0.018541703462168678, 'estimator__penalty': 'l2', 'estimator__solver': 'saga'}\n",
      "\n",
      "- - - - - - - - - - - - - - - - - - - - - - - - - - - - - - - - - - - - - - - - \n",
      "\n",
      "              precision    recall  f1-score   support\n",
      "\n",
      "  Stayed (0)     0.9700    0.7823    0.8661       248\n",
      "    Left (1)     0.4316    0.8723    0.5775        47\n",
      "\n",
      "    accuracy                         0.7966       295\n",
      "   macro avg     0.7008    0.8273    0.7218       295\n",
      "weighted avg     0.8842    0.7966    0.8201       295\n",
      "\n",
      "\n",
      "- - - - - - - - - - - - - - - - - - - - - - - - - - - - - - - - - - - - - - - - \n",
      "\n"
     ]
    },
    {
     "data": {
      "image/png": "[encoded data removed]",
      "text/plain": [
       "<Figure size 600x480 with 2 Axes>"
      ]
     },
     "metadata": {},
     "output_type": "display_data"
    }
   ],
   "source": [
    "labels = ['Stayed (0)', 'Left (1)']\n",
    "\n",
    "# - - - - - - - - - - - - - - - - - - - - - - - - - - - - - - - -\n",
    "# classification report\n",
    "\n",
    "display(log)\n",
    "print('Best parameters:\\n\\n{}'.format(pipe_log.best_params_))\n",
    "f_divline()\n",
    "print(classification_report(ytest, ypred, target_names=labels, digits=4))\n",
    "f_divline()\n",
    "\n",
    "# - - - - - - - - - - - - - - - - - - - - - - - - - - - - - - - -\n",
    "# confusion matrix\n",
    "\n",
    "plt.subplots(figsize=(6,4.8))\n",
    "\n",
    "confusion_matrix_base = confusion_matrix(ytest, ypred)\n",
    "conf_plot = sns.heatmap(confusion_matrix_base, annot=True, fmt='d')\n",
    "\n",
    "plt.title('Confusion matrix of the classifier')\n",
    "conf_plot.set_xticklabels(labels)\n",
    "conf_plot.set_yticklabels(labels)\n",
    "plt.xlabel('Predicted')\n",
    "plt.ylabel('True');"
   ]
  },
  {
   "cell_type": "code",
   "execution_count": 45,
   "id": "8cb2a41f-9fbd-4fb3-80d8-8eb9611dcf02",
   "metadata": {
    "tags": []
   },
   "outputs": [
    {
     "data": {
      "image/png": "[encoded data removed]",
      "text/plain": [
       "<Figure size 600x600 with 1 Axes>"
      ]
     },
     "metadata": {},
     "output_type": "display_data"
    }
   ],
   "source": [
    "# - - - - - - - - - - - - - - - - - - - - - - - - - - - - - - - -\n",
    "# ROC plot\n",
    "\n",
    "graph_roc = plot_roc(pipe_log, Xtest_feat_sel, ytest)"
   ]
  },
  {
   "cell_type": "code",
   "execution_count": 46,
   "id": "f419a121-1ff6-4174-b925-fae1cf80d403",
   "metadata": {
    "tags": []
   },
   "outputs": [
    {
     "data": {
      "text/html": [
       "<div>\n",
       "<style scoped>\n",
       "    .dataframe tbody tr th:only-of-type {\n",
       "        vertical-align: middle;\n",
       "    }\n",
       "\n",
       "    .dataframe tbody tr th {\n",
       "        vertical-align: top;\n",
       "    }\n",
       "\n",
       "    .dataframe thead th {\n",
       "        text-align: right;\n",
       "    }\n",
       "</style>\n",
       "<table border=\"1\" class=\"dataframe\">\n",
       "  <thead>\n",
       "    <tr style=\"text-align: right;\">\n",
       "      <th></th>\n",
       "      <th>50</th>\n",
       "      <th>54</th>\n",
       "      <th>34</th>\n",
       "      <th>26</th>\n",
       "      <th>38</th>\n",
       "      <th>74</th>\n",
       "      <th>22</th>\n",
       "      <th>42</th>\n",
       "    </tr>\n",
       "  </thead>\n",
       "  <tbody>\n",
       "    <tr>\n",
       "      <th>mean_fit_time</th>\n",
       "      <td>0.01048</td>\n",
       "      <td>0.00945</td>\n",
       "      <td>0.01050</td>\n",
       "      <td>0.01050</td>\n",
       "      <td>0.00986</td>\n",
       "      <td>0.01013</td>\n",
       "      <td>0.01016</td>\n",
       "      <td>0.00954</td>\n",
       "    </tr>\n",
       "    <tr>\n",
       "      <th>std_fit_time</th>\n",
       "      <td>0.00184</td>\n",
       "      <td>0.00018</td>\n",
       "      <td>0.00227</td>\n",
       "      <td>0.00217</td>\n",
       "      <td>0.00050</td>\n",
       "      <td>0.00031</td>\n",
       "      <td>0.00107</td>\n",
       "      <td>0.00018</td>\n",
       "    </tr>\n",
       "    <tr>\n",
       "      <th>mean_score_time</th>\n",
       "      <td>0.00254</td>\n",
       "      <td>0.00211</td>\n",
       "      <td>0.00211</td>\n",
       "      <td>0.00209</td>\n",
       "      <td>0.00217</td>\n",
       "      <td>0.00218</td>\n",
       "      <td>0.00211</td>\n",
       "      <td>0.00208</td>\n",
       "    </tr>\n",
       "    <tr>\n",
       "      <th>std_score_time</th>\n",
       "      <td>0.00063</td>\n",
       "      <td>0.00008</td>\n",
       "      <td>0.00012</td>\n",
       "      <td>0.00004</td>\n",
       "      <td>0.00015</td>\n",
       "      <td>0.00003</td>\n",
       "      <td>0.00004</td>\n",
       "      <td>0.00005</td>\n",
       "    </tr>\n",
       "    <tr>\n",
       "      <th>param_estimator__C</th>\n",
       "      <td>0.01875</td>\n",
       "      <td>0.01877</td>\n",
       "      <td>0.01867</td>\n",
       "      <td>0.01863</td>\n",
       "      <td>0.01869</td>\n",
       "      <td>0.01888</td>\n",
       "      <td>0.01860</td>\n",
       "      <td>0.01871</td>\n",
       "    </tr>\n",
       "    <tr>\n",
       "      <th>param_estimator__penalty</th>\n",
       "      <td>l2</td>\n",
       "      <td>l2</td>\n",
       "      <td>l2</td>\n",
       "      <td>l2</td>\n",
       "      <td>l2</td>\n",
       "      <td>l2</td>\n",
       "      <td>l2</td>\n",
       "      <td>l2</td>\n",
       "    </tr>\n",
       "    <tr>\n",
       "      <th>param_estimator__solver</th>\n",
       "      <td>saga</td>\n",
       "      <td>saga</td>\n",
       "      <td>saga</td>\n",
       "      <td>saga</td>\n",
       "      <td>saga</td>\n",
       "      <td>saga</td>\n",
       "      <td>saga</td>\n",
       "      <td>saga</td>\n",
       "    </tr>\n",
       "    <tr>\n",
       "      <th>params</th>\n",
       "      <td>{'estimator__C': 0.018751635163531444, 'estima...</td>\n",
       "      <td>{'estimator__C': 0.0187727586201518, 'estimato...</td>\n",
       "      <td>{'estimator__C': 0.018667378754809467, 'estima...</td>\n",
       "      <td>{'estimator__C': 0.018625392627414104, 'estima...</td>\n",
       "      <td>{'estimator__C': 0.018688407297755408, 'estima...</td>\n",
       "      <td>{'estimator__C': 0.01887873336901609, 'estimat...</td>\n",
       "      <td>{'estimator__C': 0.01860443498974545, 'estimat...</td>\n",
       "      <td>{'estimator__C': 0.01870945952906297, 'estimat...</td>\n",
       "    </tr>\n",
       "    <tr>\n",
       "      <th>split0_test_score</th>\n",
       "      <td>0.63830</td>\n",
       "      <td>0.63830</td>\n",
       "      <td>0.63830</td>\n",
       "      <td>0.63830</td>\n",
       "      <td>0.63830</td>\n",
       "      <td>0.63830</td>\n",
       "      <td>0.63830</td>\n",
       "      <td>0.63830</td>\n",
       "    </tr>\n",
       "    <tr>\n",
       "      <th>split1_test_score</th>\n",
       "      <td>0.60606</td>\n",
       "      <td>0.60606</td>\n",
       "      <td>0.60606</td>\n",
       "      <td>0.60606</td>\n",
       "      <td>0.60606</td>\n",
       "      <td>0.60606</td>\n",
       "      <td>0.60606</td>\n",
       "      <td>0.60606</td>\n",
       "    </tr>\n",
       "    <tr>\n",
       "      <th>split2_test_score</th>\n",
       "      <td>0.66667</td>\n",
       "      <td>0.66667</td>\n",
       "      <td>0.66667</td>\n",
       "      <td>0.66667</td>\n",
       "      <td>0.66667</td>\n",
       "      <td>0.66667</td>\n",
       "      <td>0.66667</td>\n",
       "      <td>0.66667</td>\n",
       "    </tr>\n",
       "    <tr>\n",
       "      <th>split3_test_score</th>\n",
       "      <td>0.64433</td>\n",
       "      <td>0.64433</td>\n",
       "      <td>0.64433</td>\n",
       "      <td>0.64433</td>\n",
       "      <td>0.64433</td>\n",
       "      <td>0.64433</td>\n",
       "      <td>0.64433</td>\n",
       "      <td>0.64433</td>\n",
       "    </tr>\n",
       "    <tr>\n",
       "      <th>split4_test_score</th>\n",
       "      <td>0.52764</td>\n",
       "      <td>0.52764</td>\n",
       "      <td>0.52764</td>\n",
       "      <td>0.52764</td>\n",
       "      <td>0.52764</td>\n",
       "      <td>0.52764</td>\n",
       "      <td>0.52764</td>\n",
       "      <td>0.52764</td>\n",
       "    </tr>\n",
       "    <tr>\n",
       "      <th>split5_test_score</th>\n",
       "      <td>0.70270</td>\n",
       "      <td>0.70270</td>\n",
       "      <td>0.70270</td>\n",
       "      <td>0.70270</td>\n",
       "      <td>0.70270</td>\n",
       "      <td>0.70270</td>\n",
       "      <td>0.70270</td>\n",
       "      <td>0.70270</td>\n",
       "    </tr>\n",
       "    <tr>\n",
       "      <th>mean_test_score</th>\n",
       "      <td>0.63095</td>\n",
       "      <td>0.63095</td>\n",
       "      <td>0.63095</td>\n",
       "      <td>0.63095</td>\n",
       "      <td>0.63095</td>\n",
       "      <td>0.63095</td>\n",
       "      <td>0.63095</td>\n",
       "      <td>0.63095</td>\n",
       "    </tr>\n",
       "    <tr>\n",
       "      <th>std_test_score</th>\n",
       "      <td>0.05470</td>\n",
       "      <td>0.05470</td>\n",
       "      <td>0.05470</td>\n",
       "      <td>0.05470</td>\n",
       "      <td>0.05470</td>\n",
       "      <td>0.05470</td>\n",
       "      <td>0.05470</td>\n",
       "      <td>0.05470</td>\n",
       "    </tr>\n",
       "    <tr>\n",
       "      <th>rank_test_score</th>\n",
       "      <td>1</td>\n",
       "      <td>1</td>\n",
       "      <td>1</td>\n",
       "      <td>1</td>\n",
       "      <td>1</td>\n",
       "      <td>1</td>\n",
       "      <td>1</td>\n",
       "      <td>1</td>\n",
       "    </tr>\n",
       "  </tbody>\n",
       "</table>\n",
       "</div>"
      ],
      "text/plain": [
       "                                                                         50  \\\n",
       "mean_fit_time                                                       0.01048   \n",
       "std_fit_time                                                        0.00184   \n",
       "mean_score_time                                                     0.00254   \n",
       "std_score_time                                                      0.00063   \n",
       "param_estimator__C                                                  0.01875   \n",
       "param_estimator__penalty                                                 l2   \n",
       "param_estimator__solver                                                saga   \n",
       "params                    {'estimator__C': 0.018751635163531444, 'estima...   \n",
       "split0_test_score                                                   0.63830   \n",
       "split1_test_score                                                   0.60606   \n",
       "split2_test_score                                                   0.66667   \n",
       "split3_test_score                                                   0.64433   \n",
       "split4_test_score                                                   0.52764   \n",
       "split5_test_score                                                   0.70270   \n",
       "mean_test_score                                                     0.63095   \n",
       "std_test_score                                                      0.05470   \n",
       "rank_test_score                                                           1   \n",
       "\n",
       "                                                                         54  \\\n",
       "mean_fit_time                                                       0.00945   \n",
       "std_fit_time                                                        0.00018   \n",
       "mean_score_time                                                     0.00211   \n",
       "std_score_time                                                      0.00008   \n",
       "param_estimator__C                                                  0.01877   \n",
       "param_estimator__penalty                                                 l2   \n",
       "param_estimator__solver                                                saga   \n",
       "params                    {'estimator__C': 0.0187727586201518, 'estimato...   \n",
       "split0_test_score                                                   0.63830   \n",
       "split1_test_score                                                   0.60606   \n",
       "split2_test_score                                                   0.66667   \n",
       "split3_test_score                                                   0.64433   \n",
       "split4_test_score                                                   0.52764   \n",
       "split5_test_score                                                   0.70270   \n",
       "mean_test_score                                                     0.63095   \n",
       "std_test_score                                                      0.05470   \n",
       "rank_test_score                                                           1   \n",
       "\n",
       "                                                                         34  \\\n",
       "mean_fit_time                                                       0.01050   \n",
       "std_fit_time                                                        0.00227   \n",
       "mean_score_time                                                     0.00211   \n",
       "std_score_time                                                      0.00012   \n",
       "param_estimator__C                                                  0.01867   \n",
       "param_estimator__penalty                                                 l2   \n",
       "param_estimator__solver                                                saga   \n",
       "params                    {'estimator__C': 0.018667378754809467, 'estima...   \n",
       "split0_test_score                                                   0.63830   \n",
       "split1_test_score                                                   0.60606   \n",
       "split2_test_score                                                   0.66667   \n",
       "split3_test_score                                                   0.64433   \n",
       "split4_test_score                                                   0.52764   \n",
       "split5_test_score                                                   0.70270   \n",
       "mean_test_score                                                     0.63095   \n",
       "std_test_score                                                      0.05470   \n",
       "rank_test_score                                                           1   \n",
       "\n",
       "                                                                         26  \\\n",
       "mean_fit_time                                                       0.01050   \n",
       "std_fit_time                                                        0.00217   \n",
       "mean_score_time                                                     0.00209   \n",
       "std_score_time                                                      0.00004   \n",
       "param_estimator__C                                                  0.01863   \n",
       "param_estimator__penalty                                                 l2   \n",
       "param_estimator__solver                                                saga   \n",
       "params                    {'estimator__C': 0.018625392627414104, 'estima...   \n",
       "split0_test_score                                                   0.63830   \n",
       "split1_test_score                                                   0.60606   \n",
       "split2_test_score                                                   0.66667   \n",
       "split3_test_score                                                   0.64433   \n",
       "split4_test_score                                                   0.52764   \n",
       "split5_test_score                                                   0.70270   \n",
       "mean_test_score                                                     0.63095   \n",
       "std_test_score                                                      0.05470   \n",
       "rank_test_score                                                           1   \n",
       "\n",
       "                                                                         38  \\\n",
       "mean_fit_time                                                       0.00986   \n",
       "std_fit_time                                                        0.00050   \n",
       "mean_score_time                                                     0.00217   \n",
       "std_score_time                                                      0.00015   \n",
       "param_estimator__C                                                  0.01869   \n",
       "param_estimator__penalty                                                 l2   \n",
       "param_estimator__solver                                                saga   \n",
       "params                    {'estimator__C': 0.018688407297755408, 'estima...   \n",
       "split0_test_score                                                   0.63830   \n",
       "split1_test_score                                                   0.60606   \n",
       "split2_test_score                                                   0.66667   \n",
       "split3_test_score                                                   0.64433   \n",
       "split4_test_score                                                   0.52764   \n",
       "split5_test_score                                                   0.70270   \n",
       "mean_test_score                                                     0.63095   \n",
       "std_test_score                                                      0.05470   \n",
       "rank_test_score                                                           1   \n",
       "\n",
       "                                                                         74  \\\n",
       "mean_fit_time                                                       0.01013   \n",
       "std_fit_time                                                        0.00031   \n",
       "mean_score_time                                                     0.00218   \n",
       "std_score_time                                                      0.00003   \n",
       "param_estimator__C                                                  0.01888   \n",
       "param_estimator__penalty                                                 l2   \n",
       "param_estimator__solver                                                saga   \n",
       "params                    {'estimator__C': 0.01887873336901609, 'estimat...   \n",
       "split0_test_score                                                   0.63830   \n",
       "split1_test_score                                                   0.60606   \n",
       "split2_test_score                                                   0.66667   \n",
       "split3_test_score                                                   0.64433   \n",
       "split4_test_score                                                   0.52764   \n",
       "split5_test_score                                                   0.70270   \n",
       "mean_test_score                                                     0.63095   \n",
       "std_test_score                                                      0.05470   \n",
       "rank_test_score                                                           1   \n",
       "\n",
       "                                                                         22  \\\n",
       "mean_fit_time                                                       0.01016   \n",
       "std_fit_time                                                        0.00107   \n",
       "mean_score_time                                                     0.00211   \n",
       "std_score_time                                                      0.00004   \n",
       "param_estimator__C                                                  0.01860   \n",
       "param_estimator__penalty                                                 l2   \n",
       "param_estimator__solver                                                saga   \n",
       "params                    {'estimator__C': 0.01860443498974545, 'estimat...   \n",
       "split0_test_score                                                   0.63830   \n",
       "split1_test_score                                                   0.60606   \n",
       "split2_test_score                                                   0.66667   \n",
       "split3_test_score                                                   0.64433   \n",
       "split4_test_score                                                   0.52764   \n",
       "split5_test_score                                                   0.70270   \n",
       "mean_test_score                                                     0.63095   \n",
       "std_test_score                                                      0.05470   \n",
       "rank_test_score                                                           1   \n",
       "\n",
       "                                                                         42  \n",
       "mean_fit_time                                                       0.00954  \n",
       "std_fit_time                                                        0.00018  \n",
       "mean_score_time                                                     0.00208  \n",
       "std_score_time                                                      0.00005  \n",
       "param_estimator__C                                                  0.01871  \n",
       "param_estimator__penalty                                                 l2  \n",
       "param_estimator__solver                                                saga  \n",
       "params                    {'estimator__C': 0.01870945952906297, 'estimat...  \n",
       "split0_test_score                                                   0.63830  \n",
       "split1_test_score                                                   0.60606  \n",
       "split2_test_score                                                   0.66667  \n",
       "split3_test_score                                                   0.64433  \n",
       "split4_test_score                                                   0.52764  \n",
       "split5_test_score                                                   0.70270  \n",
       "mean_test_score                                                     0.63095  \n",
       "std_test_score                                                      0.05470  \n",
       "rank_test_score                                                           1  "
      ]
     },
     "execution_count": 46,
     "metadata": {},
     "output_type": "execute_result"
    }
   ],
   "source": [
    "# increase the precision of result's display\n",
    "pd.options.display.float_format = '{:.5f}'.format\n",
    "\n",
    "# - - - - - - - - - - - - - - - - - - - - - - - - - - - - - - - -\n",
    "# Best results of Cross Validation on GridSearch\n",
    "\n",
    "results = pd.DataFrame(pipe_log.cv_results_).sort_values(by='mean_test_score', ascending=False).head(8).T\n",
    "results"
   ]
  },
  {
   "cell_type": "markdown",
   "id": "e62a4e79-b027-49b4-a241-9cbf91e75b62",
   "metadata": {},
   "source": [
    "## Feature importance"
   ]
  },
  {
   "cell_type": "code",
   "execution_count": 48,
   "id": "a5102b82-4c9e-4bb3-9a72-9010763e058c",
   "metadata": {
    "tags": []
   },
   "outputs": [],
   "source": [
    "# - - - - - - - - - - - - - - - - - - - - - - - - - - - - - - - -\n",
    "# Estimate feature importance through permutation importance\n",
    "\n",
    "result = permutation_importance(pipe_log, Xtrain_feat_sel, ytrain, n_repeats=50, random_state=random_seed)\n",
    "importance_scores = result.importances_mean # abs\n",
    "\n",
    "original_columns = Xtrain_feat_sel.columns\n",
    "feature_importance_list = list(zip(original_columns, importance_scores))\n",
    "sorted_feature_importance = sorted(feature_importance_list, key=lambda x: x[1], reverse=False)\n",
    "orig_sorted_features, orig_sorted_importance = zip(*sorted_feature_importance)"
   ]
  },
  {
   "cell_type": "code",
   "execution_count": 49,
   "id": "da9201b3-8f89-4cdc-b027-b7b399804cca",
   "metadata": {
    "tags": []
   },
   "outputs": [
    {
     "data": {
      "image/png": "[encoded data removed]",
      "text/plain": [
       "<Figure size 1100x1000 with 1 Axes>"
      ]
     },
     "metadata": {},
     "output_type": "display_data"
    }
   ],
   "source": [
    "plt.rc('ytick', labelsize=10)\n",
    "\n",
    "# - - - - - - - - - - - - - - - - - - - - - - - - - - - - - - - -\n",
    "# Visualization\n",
    "\n",
    "import matplotlib as mpl\n",
    "from matplotlib.cm import get_cmap\n",
    "\n",
    "colors = []\n",
    "cmap = mpl.colormaps['coolwarm']\n",
    "\n",
    "# scale data\n",
    "data = orig_sorted_importance\n",
    "denominator = max(data) - min(data) # max(data) - min(data)\n",
    "scaled_data = [(datum - min(data)) / denominator for datum in data]\n",
    "\n",
    "for decimal in scaled_data:\n",
    "    colors.append(cmap(decimal))\n",
    "\n",
    "\n",
    "fig_feature_importance, ax = plt.subplots(figsize=(11,10))\n",
    "\n",
    "ax.barh(orig_sorted_features, orig_sorted_importance, color=colors)\n",
    "ax.set(title='Features sorted by permutation importance',\n",
    "      xlabel='Permutation Importance');\n",
    "\n",
    "#ax.set_xticklabels({:.2%})"
   ]
  },
  {
   "cell_type": "markdown",
   "id": "720fce53-369d-4eb1-8a49-93553f722dbb",
   "metadata": {},
   "source": [
    "# Feature Engineering\n",
    "### Few initial ideas:\n",
    "- `'PercentSalaryHike'` ~ `'YearsSinceLastPromotion'`\\\n",
    "Lack of salary increase / promotions can impact the decission of an employee looking for a new employer\n",
    "\n",
    "- `'YearsAtCompany'` ~ `'YearsInCurrentRole'` or `'YearsSinceLastPromotion'`\\\n",
    "Not being promoted for a longer periods of time can have influence on employee's decision about leaving\n",
    "\n",
    "- `'MaritalStatus'` ~ `'Overtime'` and `'BusinesTravel'` or `'WorkLifeBalance'`\\\n",
    "All the factors which may have influence over the fact that an employee is married\n",
    "\n",
    "- `'YearsAtCompany'` ~ `'YearsWithCurrManager'`\\\n",
    "Changes in the management might impact person's decision about leaving\n",
    "\n",
    "- `'Age'` ~ `'YearsAtCompany'`\\\n",
    "Rather unlikely that older people are changing the job, while the young ones - do\n",
    "\n",
    "- `'Age'` ~ `'NumCompaniesWorked'`\\\n",
    "How often an employee changes the job (are they a \"dinosaurs\" or a \"jumpers\")\n"
   ]
  }
 ],
 "metadata": {
  "kernelspec": {
   "display_name": "Python 3 (ipykernel)",
   "language": "python",
   "name": "python3"
  },
  "language_info": {
   "codemirror_mode": {
    "name": "ipython",
    "version": 3
   },
   "file_extension": ".py",
   "mimetype": "text/x-python",
   "name": "python",
   "nbconvert_exporter": "python",
   "pygments_lexer": "ipython3",
   "version": "3.11.4"
  }
 },
 "nbformat": 4,
 "nbformat_minor": 5
}
