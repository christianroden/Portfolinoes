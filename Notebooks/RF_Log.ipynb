{
 "cells": [
  {
   "cell_type": "code",
   "execution_count": 1,
   "id": "12cefc04-3909-4aee-854e-bd0363d4f581",
   "metadata": {
    "tags": []
   },
   "outputs": [
    {
     "data": {
      "text/html": [
       "<style>.jp-Cell { width: 80% !important; }</style>"
      ],
      "text/plain": [
       "<IPython.core.display.HTML object>"
      ]
     },
     "metadata": {},
     "output_type": "display_data"
    }
   ],
   "source": [
    "# overwriting notebook style\n",
    "from IPython.display import display, HTML\n",
    "display(HTML(\"<style>.jp-Cell { width: 80% !important; }</style>\"))"
   ]
  },
  {
   "cell_type": "markdown",
   "id": "f800c048-b4bc-4af3-9263-51fae5511b91",
   "metadata": {},
   "source": [
    "## Import modules"
   ]
  },
  {
   "cell_type": "code",
   "execution_count": 38,
   "id": "60e84b77-a2e8-46ea-8578-b3714be9f8ec",
   "metadata": {
    "tags": []
   },
   "outputs": [],
   "source": [
    "# - - - - - - - - - - - - - - - - - - - - - - - - - - - - - - - -\n",
    "# fundamentals\n",
    "\n",
    "from importlib import reload\n",
    "\n",
    "# - - - - - - - - - - - - - - - - - - - - - - - - - - - - - - - -\n",
    "# global settings - global_settings.py\n",
    "\n",
    "if 'global_settings' in dir():\n",
    "    del global_settings\n",
    "\n",
    "from global_settings import *\n",
    "import global_settings\n",
    "global_settings = reload(global_settings)\n",
    "\n",
    "# - - - - - - - - - - - - - - - - - - - - - - - - - - - - - - - -\n",
    "# custom functions collection - functions.py\n",
    "\n",
    "if 'functions' in dir():\n",
    "    del functions\n",
    "\n",
    "from functions import *\n",
    "import functions\n",
    "functions = reload(functions)\n",
    "\n",
    "# - - - - - - - - - - - - - - - - - - - - - - - - - - - - - - - -\n",
    "# local variables\n",
    "\n",
    "debug_mode = False\n",
    "\n",
    "# - - - - - - - - - - - - - - - - - - - - - - - - - - - - - - - -\n",
    "# preprocessing\n",
    "\n",
    "from sklearn.model_selection import train_test_split\n",
    "from sklearn.preprocessing import OneHotEncoder, StandardScaler, FunctionTransformer\n",
    "from sklearn.decomposition import PCA\n",
    "from sklearn.impute import KNNImputer, SimpleImputer\n",
    "from sklearn.feature_selection import SelectPercentile\n",
    "\n",
    "# - - - - - - - - - - - - - - - - - - - - - - - - - - - - - - - -\n",
    "# pipeline\n",
    "\n",
    "from sklearn.compose import ColumnTransformer\n",
    "from sklearn.pipeline import Pipeline, make_pipeline\n",
    "\n",
    "# - - - - - - - - - - - - - - - - - - - - - - - - - - - - - - - -\n",
    "# Evaluation, optimization, metrics\n",
    "\n",
    "from sklearn.metrics import recall_score, precision_score, precision_recall_curve, f1_score,\\\n",
    "roc_auc_score, roc_curve, auc, classification_report, confusion_matrix,\\\n",
    "fbeta_score, make_scorer\n",
    "# f2 is fbeta with beta=2.0\n",
    "from sklearn.model_selection import GridSearchCV, cross_val_score\n",
    "from sklearn.inspection import permutation_importance\n",
    "\n",
    "# - - - - - - - - - - - - - - - - - - - - - - - - - - - - - - - -\n",
    "# model\n",
    "\n",
    "from sklearn.linear_model import LogisticRegression"
   ]
  },
  {
   "cell_type": "code",
   "execution_count": 39,
   "id": "bca29fb2-aba3-4023-99b7-345020e45cd5",
   "metadata": {
    "tags": []
   },
   "outputs": [
    {
     "data": {
      "text/plain": [
       "\u001b[0;31mType:\u001b[0m        module\n",
       "\u001b[0;31mString form:\u001b[0m <module 'global_settings' from '/Users/rafalfedro/Workbench/courses and tests/stackFuel/Portfolio/Portfolinoes/Notebooks/global_settings.py'>\n",
       "\u001b[0;31mFile:\u001b[0m        ~/Workbench/courses and tests/stackFuel/Portfolio/Portfolinoes/Notebooks/global_settings.py\n",
       "\u001b[0;31mSource:\u001b[0m     \n",
       "\u001b[0;31m# - - - - - - - - - - - - - - - - - - - - - - - - - - - - - - - - - - - - - - - - - - - - - - - - - - - - -\u001b[0m\u001b[0;34m\u001b[0m\n",
       "\u001b[0;34m\u001b[0m\u001b[0;31m# import essential modules\u001b[0m\u001b[0;34m\u001b[0m\n",
       "\u001b[0;34m\u001b[0m\u001b[0;34m\u001b[0m\n",
       "\u001b[0;34m\u001b[0m\u001b[0;32mimport\u001b[0m \u001b[0mpandas\u001b[0m \u001b[0;32mas\u001b[0m \u001b[0mpd\u001b[0m\u001b[0;34m\u001b[0m\n",
       "\u001b[0;34m\u001b[0m\u001b[0;32mimport\u001b[0m \u001b[0mnumpy\u001b[0m \u001b[0;32mas\u001b[0m \u001b[0mnp\u001b[0m\u001b[0;34m\u001b[0m\n",
       "\u001b[0;34m\u001b[0m\u001b[0;32mimport\u001b[0m \u001b[0mpickle\u001b[0m\u001b[0;34m\u001b[0m\n",
       "\u001b[0;34m\u001b[0m\u001b[0;32mimport\u001b[0m \u001b[0mmatplotlib\u001b[0m\u001b[0;34m.\u001b[0m\u001b[0mpyplot\u001b[0m \u001b[0;32mas\u001b[0m \u001b[0mplt\u001b[0m\u001b[0;34m\u001b[0m\n",
       "\u001b[0;34m\u001b[0m\u001b[0;32mimport\u001b[0m \u001b[0mseaborn\u001b[0m \u001b[0;32mas\u001b[0m \u001b[0msns\u001b[0m\u001b[0;34m\u001b[0m\n",
       "\u001b[0;34m\u001b[0m\u001b[0;34m\u001b[0m\n",
       "\u001b[0;34m\u001b[0m\u001b[0;31m# - - - - - - - - - - - - - - - - - - - - - - - - - - - - - - - -\u001b[0m\u001b[0;34m\u001b[0m\n",
       "\u001b[0;34m\u001b[0m\u001b[0;31m# global variables\u001b[0m\u001b[0;34m\u001b[0m\n",
       "\u001b[0;34m\u001b[0m\u001b[0;34m\u001b[0m\n",
       "\u001b[0;34m\u001b[0m\u001b[0mrandom_seed\u001b[0m \u001b[0;34m=\u001b[0m \u001b[0;36m42\u001b[0m\u001b[0;34m\u001b[0m\n",
       "\u001b[0;34m\u001b[0m\u001b[0mrandom_seed_split\u001b[0m \u001b[0;34m=\u001b[0m \u001b[0;36m0\u001b[0m\u001b[0;34m\u001b[0m\n",
       "\u001b[0;34m\u001b[0m\u001b[0mpd\u001b[0m\u001b[0;34m.\u001b[0m\u001b[0moptions\u001b[0m\u001b[0;34m.\u001b[0m\u001b[0mdisplay\u001b[0m\u001b[0;34m.\u001b[0m\u001b[0mfloat_format\u001b[0m \u001b[0;34m=\u001b[0m \u001b[0;34m'{:.2f}'\u001b[0m\u001b[0;34m.\u001b[0m\u001b[0mformat\u001b[0m\u001b[0;34m\u001b[0m\n",
       "\u001b[0;34m\u001b[0m\u001b[0;34m\u001b[0m\n",
       "\u001b[0;34m\u001b[0m\u001b[0;31m# - - - - - - - - - - - - - - - - - - - - - - - - - - - - - - - -\u001b[0m\u001b[0;34m\u001b[0m\n",
       "\u001b[0;34m\u001b[0m\u001b[0;31m# color palette\u001b[0m\u001b[0;34m\u001b[0m\n",
       "\u001b[0;34m\u001b[0m\u001b[0;34m\u001b[0m\n",
       "\u001b[0;34m\u001b[0m\u001b[0mcolor_palette\u001b[0m \u001b[0;34m=\u001b[0m \u001b[0;34m{\u001b[0m\u001b[0;36m0\u001b[0m\u001b[0;34m:\u001b[0m\u001b[0;34m'#85d4c8'\u001b[0m\u001b[0;34m,\u001b[0m \u001b[0;36m1\u001b[0m\u001b[0;34m:\u001b[0m\u001b[0;34m'#fc6226'\u001b[0m\u001b[0;34m,\u001b[0m \u001b[0;36m2\u001b[0m\u001b[0;34m:\u001b[0m\u001b[0;34m'#fc037f'\u001b[0m\u001b[0;34m}\u001b[0m \u001b[0;31m#db4125 fc6226 0 - main_color, 1 - accent_color\u001b[0m\u001b[0;34m\u001b[0m\n",
       "\u001b[0;34m\u001b[0m\u001b[0msns_color_palette\u001b[0m \u001b[0;34m=\u001b[0m \u001b[0;34m{\u001b[0m\u001b[0;36m0\u001b[0m\u001b[0;34m:\u001b[0m\u001b[0;34m'#51ad9f'\u001b[0m\u001b[0;34m,\u001b[0m \u001b[0;36m1\u001b[0m\u001b[0;34m:\u001b[0m\u001b[0;34m'#fc6226'\u001b[0m\u001b[0;34m}\u001b[0m\u001b[0;34m\u001b[0m\n",
       "\u001b[0;34m\u001b[0m\u001b[0;34m\u001b[0m\n",
       "\u001b[0;34m\u001b[0m\u001b[0;31m# - - - - - - - - - - - - - - - - - - - - - - - - - - - - - - - -\u001b[0m\u001b[0;34m\u001b[0m\n",
       "\u001b[0;34m\u001b[0m\u001b[0;31m# visualization settings\u001b[0m\u001b[0;34m\u001b[0m\n",
       "\u001b[0;34m\u001b[0m\u001b[0;34m\u001b[0m\n",
       "\u001b[0;34m\u001b[0m\u001b[0mplt\u001b[0m\u001b[0;34m.\u001b[0m\u001b[0mstyle\u001b[0m\u001b[0;34m.\u001b[0m\u001b[0muse\u001b[0m\u001b[0;34m(\u001b[0m\u001b[0;34m'seaborn-v0_8'\u001b[0m\u001b[0;34m)\u001b[0m\u001b[0;34m\u001b[0m\n",
       "\u001b[0;34m\u001b[0m\u001b[0;34m\u001b[0m\n",
       "\u001b[0;34m\u001b[0m\u001b[0mplt\u001b[0m\u001b[0;34m.\u001b[0m\u001b[0mrc\u001b[0m\u001b[0;34m(\u001b[0m\u001b[0;34m'xaxis'\u001b[0m\u001b[0;34m,\u001b[0m \u001b[0mlabellocation\u001b[0m\u001b[0;34m=\u001b[0m\u001b[0;34m'center'\u001b[0m\u001b[0;34m)\u001b[0m\u001b[0;34m\u001b[0m\n",
       "\u001b[0;34m\u001b[0m\u001b[0mplt\u001b[0m\u001b[0;34m.\u001b[0m\u001b[0mrc\u001b[0m\u001b[0;34m(\u001b[0m\u001b[0;34m'yaxis'\u001b[0m\u001b[0;34m,\u001b[0m \u001b[0mlabellocation\u001b[0m\u001b[0;34m=\u001b[0m\u001b[0;34m'center'\u001b[0m\u001b[0;34m)\u001b[0m\u001b[0;34m\u001b[0m\n",
       "\u001b[0;34m\u001b[0m\u001b[0mplt\u001b[0m\u001b[0;34m.\u001b[0m\u001b[0mrc\u001b[0m\u001b[0;34m(\u001b[0m\u001b[0;34m'axes'\u001b[0m\u001b[0;34m,\u001b[0m \u001b[0mtitlelocation\u001b[0m\u001b[0;34m=\u001b[0m\u001b[0;34m'left'\u001b[0m\u001b[0;34m)\u001b[0m\u001b[0;34m\u001b[0m\n",
       "\u001b[0;34m\u001b[0m\u001b[0mplt\u001b[0m\u001b[0;34m.\u001b[0m\u001b[0mrc\u001b[0m\u001b[0;34m(\u001b[0m\u001b[0;34m'axes.spines'\u001b[0m\u001b[0;34m,\u001b[0m \u001b[0mbottom\u001b[0m\u001b[0;34m=\u001b[0m\u001b[0;32mTrue\u001b[0m\u001b[0;34m,\u001b[0m \u001b[0mleft\u001b[0m\u001b[0;34m=\u001b[0m\u001b[0;32mTrue\u001b[0m\u001b[0;34m)\u001b[0m\u001b[0;34m\u001b[0m\n",
       "\u001b[0;34m\u001b[0m\u001b[0;34m\u001b[0m\n",
       "\u001b[0;34m\u001b[0m\u001b[0;31m# - - - - - - - - - - - - - - - - - - - - - - - - - - - - - - - -\u001b[0m\u001b[0;34m\u001b[0m\n",
       "\u001b[0;34m\u001b[0m\u001b[0;31m# visualization params - font sizes\u001b[0m\u001b[0;34m\u001b[0m\n",
       "\u001b[0;34m\u001b[0m\u001b[0;34m\u001b[0m\n",
       "\u001b[0;34m\u001b[0m\u001b[0mplt\u001b[0m\u001b[0;34m.\u001b[0m\u001b[0mrc\u001b[0m\u001b[0;34m(\u001b[0m\u001b[0;34m'font'\u001b[0m\u001b[0;34m,\u001b[0m \u001b[0msize\u001b[0m\u001b[0;34m=\u001b[0m\u001b[0;36m12\u001b[0m\u001b[0;34m)\u001b[0m\u001b[0;34m\u001b[0m\n",
       "\u001b[0;34m\u001b[0m\u001b[0mplt\u001b[0m\u001b[0;34m.\u001b[0m\u001b[0mrc\u001b[0m\u001b[0;34m(\u001b[0m\u001b[0;34m'axes'\u001b[0m\u001b[0;34m,\u001b[0m \u001b[0mtitlesize\u001b[0m\u001b[0;34m=\u001b[0m\u001b[0;36m12\u001b[0m\u001b[0;34m,\u001b[0m \u001b[0mlabelsize\u001b[0m\u001b[0;34m=\u001b[0m\u001b[0;36m11\u001b[0m\u001b[0;34m,\u001b[0m \u001b[0mtitlepad\u001b[0m\u001b[0;34m=\u001b[0m\u001b[0;36m10\u001b[0m\u001b[0;34m)\u001b[0m\u001b[0;34m\u001b[0m\n",
       "\u001b[0;34m\u001b[0m\u001b[0mplt\u001b[0m\u001b[0;34m.\u001b[0m\u001b[0mrc\u001b[0m\u001b[0;34m(\u001b[0m\u001b[0;34m'xtick'\u001b[0m\u001b[0;34m,\u001b[0m \u001b[0mlabelsize\u001b[0m\u001b[0;34m=\u001b[0m\u001b[0;36m8\u001b[0m\u001b[0;34m)\u001b[0m\u001b[0;34m\u001b[0m\n",
       "\u001b[0;34m\u001b[0m\u001b[0mplt\u001b[0m\u001b[0;34m.\u001b[0m\u001b[0mrc\u001b[0m\u001b[0;34m(\u001b[0m\u001b[0;34m'ytick'\u001b[0m\u001b[0;34m,\u001b[0m \u001b[0mlabelsize\u001b[0m\u001b[0;34m=\u001b[0m\u001b[0;36m8\u001b[0m\u001b[0;34m)\u001b[0m\u001b[0;34m\u001b[0m\n",
       "\u001b[0;34m\u001b[0m\u001b[0mplt\u001b[0m\u001b[0;34m.\u001b[0m\u001b[0mrc\u001b[0m\u001b[0;34m(\u001b[0m\u001b[0;34m'figure'\u001b[0m\u001b[0;34m,\u001b[0m \u001b[0mtitlesize\u001b[0m\u001b[0;34m=\u001b[0m\u001b[0;36m14\u001b[0m\u001b[0;34m)\u001b[0m\u001b[0;34m\u001b[0m\n",
       "\u001b[0;34m\u001b[0m\u001b[0mplt\u001b[0m\u001b[0;34m.\u001b[0m\u001b[0mrc\u001b[0m\u001b[0;34m(\u001b[0m\u001b[0;34m'legend'\u001b[0m\u001b[0;34m,\u001b[0m \u001b[0mfontsize\u001b[0m\u001b[0;34m=\u001b[0m\u001b[0;36m11\u001b[0m\u001b[0;34m,\u001b[0m \u001b[0mtitle_fontsize\u001b[0m\u001b[0;34m=\u001b[0m\u001b[0;36m11\u001b[0m\u001b[0;34m)\u001b[0m\u001b[0;34m\u001b[0m\n",
       "\u001b[0;34m\u001b[0m\u001b[0msns\u001b[0m\u001b[0;34m.\u001b[0m\u001b[0mset\u001b[0m\u001b[0;34m(\u001b[0m\u001b[0mfont_scale\u001b[0m\u001b[0;34m=\u001b[0m\u001b[0;36m0.9\u001b[0m\u001b[0;34m)\u001b[0m\u001b[0;34m\u001b[0m\n",
       "\u001b[0;34m\u001b[0m\u001b[0msns\u001b[0m\u001b[0;34m.\u001b[0m\u001b[0mset_context\u001b[0m\u001b[0;34m(\u001b[0m\u001b[0;34m'paper'\u001b[0m\u001b[0;34m,\u001b[0m \u001b[0mrc\u001b[0m\u001b[0;34m=\u001b[0m\u001b[0;34m{\u001b[0m\u001b[0;34m'axes.labelsize'\u001b[0m\u001b[0;34m:\u001b[0m\u001b[0;36m10.5\u001b[0m\u001b[0;34m,\u001b[0m \u001b[0;34m'legend.fontsize'\u001b[0m\u001b[0;34m:\u001b[0m\u001b[0;36m10\u001b[0m\u001b[0;34m,\u001b[0m \u001b[0;34m'legend.title_fontsize'\u001b[0m\u001b[0;34m:\u001b[0m\u001b[0;36m10\u001b[0m\u001b[0;34m,\u001b[0m\u001b[0;34m\u001b[0m\n",
       "\u001b[0;34m\u001b[0m                            \u001b[0;34m'xtick.labelsize'\u001b[0m\u001b[0;34m:\u001b[0m\u001b[0;36m8\u001b[0m\u001b[0;34m,\u001b[0m \u001b[0;34m'ytick.labelsize'\u001b[0m\u001b[0;34m:\u001b[0m\u001b[0;36m8\u001b[0m\u001b[0;34m,\u001b[0m \u001b[0;34m'axes.titlesize'\u001b[0m\u001b[0;34m:\u001b[0m\u001b[0;36m11\u001b[0m\u001b[0;34m}\u001b[0m\u001b[0;34m)\u001b[0m\u001b[0;34m\u001b[0m\n",
       "\u001b[0;34m\u001b[0m\u001b[0;34m\u001b[0m\n",
       "\u001b[0;34m\u001b[0m\u001b[0;34m\u001b[0m\n",
       "\u001b[0;34m\u001b[0m\u001b[0;34m\u001b[0m\n",
       "\u001b[0;34m\u001b[0m\u001b[0;31m# - - - - - - - - - - - - - - - - - - - - - - - - - - - - - - - - - - - - - - - - - - - - - - - - - - - - -\u001b[0m\u001b[0;34m\u001b[0m\u001b[0;34m\u001b[0m\u001b[0m"
      ]
     },
     "metadata": {},
     "output_type": "display_data"
    }
   ],
   "source": [
    "global_settings??"
   ]
  },
  {
   "cell_type": "code",
   "execution_count": 5,
   "id": "1f8d614b-afdb-45df-865f-22b83e377a41",
   "metadata": {
    "tags": []
   },
   "outputs": [],
   "source": [
    "# - - - - - - - - - - - - - - - - - - - - - - - - - - - - - -\n",
    "# suppress warnings\n",
    "\n",
    "from sklearn.exceptions import DataConversionWarning\n",
    "import warnings\n",
    "warnings.filterwarnings(action='ignore', category=DataConversionWarning)"
   ]
  },
  {
   "cell_type": "markdown",
   "id": "eb604cb0-467f-4a81-940b-e4fd07e94ab5",
   "metadata": {
    "tags": []
   },
   "source": [
    "## Prepare F2 metric\n",
    "**F2** is a variant of harmonic mean between recall and precision, with a stronger weight on the **recall**\n",
    "\n",
    "Using such a metric for measuring our model's performance is beneficial, since:\n",
    "- we want to classify correctly as many observations close to leaving (approaching the threshold of target class 1)(optimize FN -> recall)\n",
    "- at the same time we want to optimize resources used to keep the people falsely predicted as leaving (FP - False Positive -> precision), precision plays a factor, but it's less important than recall\n",
    "\n",
    "**F0.5** - f-beta with beta=0.5 (more weight on **precision**, less weight on **recall**)\\\n",
    "**F1** - f-beta with beta=1\\\n",
    "**F2** - f-beta with beta=2 (more weight on **recall**, less on **precision**)"
   ]
  },
  {
   "cell_type": "code",
   "execution_count": 6,
   "id": "2c15c628-fd08-44b2-b89a-b4ec4e1e273a",
   "metadata": {
    "tags": []
   },
   "outputs": [],
   "source": [
    "from sklearn.metrics import make_scorer,fbeta_score\n",
    "\n",
    "def f2_score(y_true, y_pred):\n",
    "    score = fbeta_score(y_true, y_pred, beta=2)\n",
    "    return score\n",
    "\n",
    "def f2():\n",
    "    return make_scorer(f2_score)"
   ]
  },
  {
   "cell_type": "markdown",
   "id": "99985edc-1cbc-4f93-8166-cdb0a7351624",
   "metadata": {},
   "source": [
    "## Load, clean and resample the data"
   ]
  },
  {
   "cell_type": "code",
   "execution_count": 7,
   "id": "534b1d81-fff6-4907-9583-85ed9a1a83cd",
   "metadata": {
    "tags": []
   },
   "outputs": [],
   "source": [
    "raw_data = pd.read_csv('../Data/HR_Analytics.csv')"
   ]
  },
  {
   "cell_type": "code",
   "execution_count": 8,
   "id": "a986cf2f-a8e3-450d-ab12-4c9e6a62a3dc",
   "metadata": {
    "tags": []
   },
   "outputs": [
    {
     "name": "stderr",
     "output_type": "stream",
     "text": [
      "/var/folders/8b/8bwq4wfs017glw29db6mn8z40000gn/T/ipykernel_80038/309428036.py:10: SettingWithCopyWarning: \n",
      "A value is trying to be set on a copy of a slice from a DataFrame\n",
      "\n",
      "See the caveats in the documentation: https://pandas.pydata.org/pandas-docs/stable/user_guide/indexing.html#returning-a-view-versus-a-copy\n",
      "  df['Attrition'].replace({'Yes': 1, 'No': 0}, inplace=True)\n"
     ]
    }
   ],
   "source": [
    "def sampling_data(DF):\n",
    "    '''Only to be performed on the train-sets. Handles the outliers, encodes target vector and removes duplicates.\n",
    "    '''\n",
    "    df = DF.drop_duplicates()\n",
    "    # not sure if it's a good practice to do it on the test set, maybe after split?\n",
    "    # if happens after the split - requires reindexing of the target vector\n",
    "    \n",
    "    # - - - - - - - - - - - - - - - - - - - - - - - - - - - - - -\n",
    "    # Attrition label encoding\n",
    "    df['Attrition'].replace({'Yes': 1, 'No': 0}, inplace=True)\n",
    "    \n",
    "    return df\n",
    "\n",
    "data = sampling_data(raw_data)"
   ]
  },
  {
   "cell_type": "code",
   "execution_count": 9,
   "id": "9720687d-11ed-456b-a376-fe47b05d1b4d",
   "metadata": {
    "tags": []
   },
   "outputs": [],
   "source": [
    "# - - - - - - - - - - - - - - - - - - - - - - - - - - - - - - - -\n",
    "# train-test split\n",
    "\n",
    "Xtrain, Xtest, ytrain, ytest = train_test_split(data.drop('Attrition', axis=1), \n",
    "                                                data['Attrition'], \n",
    "                                                test_size=0.2, \n",
    "                                                shuffle=True,\n",
    "                                                stratify=data['Attrition'], \n",
    "                                                random_state=random_seed_split)\n",
    "                                                # is stratify practically like undersampling or keeps the original proportion?"
   ]
  },
  {
   "cell_type": "code",
   "execution_count": 10,
   "id": "c67bb7ea-70c4-467c-8072-5988f6ffa9d7",
   "metadata": {
    "tags": []
   },
   "outputs": [],
   "source": [
    "# Assign columns to column groups\n",
    "catcols = ['AgeGroup', 'SalarySlab', 'Department', 'EducationField', 'JobRole', 'MaritalStatus']\n",
    "numcols = ['Education', 'EnvironmentSatisfaction', 'BusinessTravel', 'JobInvolvement', 'JobLevel', 'JobSatisfaction', 'PerformanceRating', \n",
    "           'RelationshipSatisfaction', 'StockOptionLevel', 'WorkLifeBalance', 'OverTime', 'Gender', 'Age', 'DailyRate', 'DistanceFromHome', \n",
    "           'HourlyRate', 'MonthlyIncome', 'MonthlyRate', 'NumCompaniesWorked', 'PercentSalaryHike', 'TotalWorkingYears', \n",
    "           'TrainingTimesLastYear', 'YearsAtCompany', 'YearsInCurrentRole', 'YearsSinceLastPromotion', 'YearsWithCurrManager']\n",
    "delcols = ['EmpID', 'EmployeeNumber']\n",
    "\n",
    "# - - - - - - - - - - - - - - - - - - - - - - - - - - - - - - - -\n",
    "# clean data\n",
    "\n",
    "def clean_data(DF, delcols=delcols):\n",
    "    # df = DF.drop_duplicates()  \n",
    "    df = DF.copy()\n",
    "    \n",
    "    # - - - - - - - - - - - - - - - - - - - - - - - - - - - - - -\n",
    "    # drop columns with 1 unique value (std=0)\n",
    "    \n",
    "    mask_single_value = list(df.nunique().index.values[df.nunique() == 1])\n",
    "    df = df.loc[:, ~df.columns.isin(mask_single_value)]\n",
    "    \n",
    "    # - - - - - - - - - - - - - - - - - - - - - - - - - - - - - -\n",
    "    # drop prediction-useless columns\n",
    "    \n",
    "    for column in delcols:\n",
    "        if column in df.columns.values:\n",
    "            df = df.drop(column, axis=1)\n",
    "        \n",
    "    # - - - - - - - - - - - - - - - - - - - - - - - - - - - - - -\n",
    "    # categ. - label encoding\n",
    "    \n",
    "    df['AgeGroup'].replace({'18-25': 0,\n",
    "                            '26-35': 1,\n",
    "                            '36-45': 2,\n",
    "                            '46-55': 3,\n",
    "                            '55+': 4\n",
    "                           }, inplace=True)\n",
    "    df['BusinessTravel'].replace({'Non-Travel': 0,\n",
    "                                   'Travel_Rarely': 1,\n",
    "                                   'TravelRarely': 1,\n",
    "                                   'Travel_Frequently': 2\n",
    "                                  }, inplace=True)\n",
    "    df['Gender'].replace({'Male': 1, 'Female': 0}, inplace=True)   # potentially better to one-hot encode\n",
    "    df['MaritalStatus'].replace({'Single': 0,\n",
    "                                 'Divorced': 1,\n",
    "                                 'Married': 2\n",
    "                                }, inplace=True)\n",
    "    df['SalarySlab'].replace({'Upto 5k': 0,\n",
    "                              '5k-10k': 1,\n",
    "                              '10k-15k': 2,\n",
    "                              '15k+': 3}, inplace=True)\n",
    "    df['OverTime'].replace({'Yes': 1, 'No': 0}, inplace=True)\n",
    "    df['PerformanceRating'].replace({3: 0, 4: 1}, inplace=True)\n",
    "    \n",
    "    # - - - - - - - - - - - - - - - - - - - - - - - - - - - - - -\n",
    "    # NaN handling: fillna with median (temp)\n",
    "        \n",
    "    #df = df.dropna(axis=0)\n",
    "    df = df.fillna(value={'YearsWithCurrManager': df.loc[:,'YearsWithCurrManager'].median()})\n",
    "    \n",
    "    # - - - - - - - - - - - - - - - - - - - - - - - - - - - - - -\n",
    "    # Data Types Conversion\n",
    "    \n",
    "    col_dtypes = {'YearsWithCurrManager': 'int8',\n",
    "              'Department': 'category',\n",
    "              'EducationField': 'category',\n",
    "              'JobRole': 'category'\n",
    "             }\n",
    "\n",
    "    for key in col_dtypes:\n",
    "        df[key] = df[key].astype(col_dtypes[key])\n",
    "    \n",
    "    return df"
   ]
  },
  {
   "cell_type": "code",
   "execution_count": 11,
   "id": "674d3625-1331-4aeb-8fd3-d33d9f4e0631",
   "metadata": {
    "tags": []
   },
   "outputs": [],
   "source": [
    "Xtrain = clean_data(Xtrain)\n",
    "Xtest = clean_data(Xtest)"
   ]
  },
  {
   "cell_type": "code",
   "execution_count": 12,
   "id": "8b028af2-2afb-43b8-b287-ef588912187a",
   "metadata": {
    "tags": []
   },
   "outputs": [
    {
     "data": {
      "text/html": [
       "<div>\n",
       "<style scoped>\n",
       "    .dataframe tbody tr th:only-of-type {\n",
       "        vertical-align: middle;\n",
       "    }\n",
       "\n",
       "    .dataframe tbody tr th {\n",
       "        vertical-align: top;\n",
       "    }\n",
       "\n",
       "    .dataframe thead th {\n",
       "        text-align: right;\n",
       "    }\n",
       "</style>\n",
       "<table border=\"1\" class=\"dataframe\">\n",
       "  <thead>\n",
       "    <tr style=\"text-align: right;\">\n",
       "      <th>col_0</th>\n",
       "      <th>count</th>\n",
       "    </tr>\n",
       "    <tr>\n",
       "      <th>Attrition</th>\n",
       "      <th></th>\n",
       "    </tr>\n",
       "  </thead>\n",
       "  <tbody>\n",
       "    <tr>\n",
       "      <th>0</th>\n",
       "      <td>190</td>\n",
       "    </tr>\n",
       "    <tr>\n",
       "      <th>1</th>\n",
       "      <td>190</td>\n",
       "    </tr>\n",
       "  </tbody>\n",
       "</table>\n",
       "</div>"
      ],
      "text/plain": [
       "col_0      count\n",
       "Attrition       \n",
       "0            190\n",
       "1            190"
      ]
     },
     "execution_count": 12,
     "metadata": {},
     "output_type": "execute_result"
    }
   ],
   "source": [
    "# Undersampling - reducing the number of Attrition = 0 / No\n",
    "\n",
    "from imblearn.under_sampling import RandomUnderSampler\n",
    "undersampler = RandomUnderSampler(random_state=random_seed)\n",
    "\n",
    "X_under, y_under = undersampler.fit_resample(Xtrain, ytrain)\n",
    "\n",
    "# class distribution\n",
    "pd.crosstab(y_under, columns='count')"
   ]
  },
  {
   "cell_type": "code",
   "execution_count": 13,
   "id": "ee3aee63-4782-4b57-90eb-ac79e0e40c74",
   "metadata": {
    "tags": []
   },
   "outputs": [
    {
     "data": {
      "text/html": [
       "<div>\n",
       "<style scoped>\n",
       "    .dataframe tbody tr th:only-of-type {\n",
       "        vertical-align: middle;\n",
       "    }\n",
       "\n",
       "    .dataframe tbody tr th {\n",
       "        vertical-align: top;\n",
       "    }\n",
       "\n",
       "    .dataframe thead th {\n",
       "        text-align: right;\n",
       "    }\n",
       "</style>\n",
       "<table border=\"1\" class=\"dataframe\">\n",
       "  <thead>\n",
       "    <tr style=\"text-align: right;\">\n",
       "      <th>col_0</th>\n",
       "      <th>count</th>\n",
       "    </tr>\n",
       "    <tr>\n",
       "      <th>Attrition</th>\n",
       "      <th></th>\n",
       "    </tr>\n",
       "  </thead>\n",
       "  <tbody>\n",
       "    <tr>\n",
       "      <th>0</th>\n",
       "      <td>988</td>\n",
       "    </tr>\n",
       "    <tr>\n",
       "      <th>1</th>\n",
       "      <td>988</td>\n",
       "    </tr>\n",
       "  </tbody>\n",
       "</table>\n",
       "</div>"
      ],
      "text/plain": [
       "col_0      count\n",
       "Attrition       \n",
       "0            988\n",
       "1            988"
      ]
     },
     "execution_count": 13,
     "metadata": {},
     "output_type": "execute_result"
    }
   ],
   "source": [
    "# Oversampling - increasing the minority class\n",
    "\n",
    "from imblearn.over_sampling import RandomOverSampler\n",
    "oversampler = RandomOverSampler(random_state=42)\n",
    "\n",
    "X_over, y_over = oversampler.fit_resample(Xtrain, ytrain)\n",
    "\n",
    "# class distribution\n",
    "pd.crosstab(y_over, columns='count')"
   ]
  },
  {
   "cell_type": "code",
   "execution_count": 14,
   "id": "e387ea1d-05fd-47c9-8ed0-1c5d06135263",
   "metadata": {
    "tags": []
   },
   "outputs": [
    {
     "name": "stdout",
     "output_type": "stream",
     "text": [
      "<class 'pandas.core.frame.DataFrame'>\n",
      "Int64Index: 1178 entries, 1278 to 640\n",
      "Data columns (total 32 columns):\n",
      " #   Column                    Non-Null Count  Dtype   \n",
      "---  ------                    --------------  -----   \n",
      " 0   Age                       1178 non-null   int64   \n",
      " 1   AgeGroup                  1178 non-null   int64   \n",
      " 2   BusinessTravel            1178 non-null   int64   \n",
      " 3   DailyRate                 1178 non-null   int64   \n",
      " 4   Department                1178 non-null   category\n",
      " 5   DistanceFromHome          1178 non-null   int64   \n",
      " 6   Education                 1178 non-null   int64   \n",
      " 7   EducationField            1178 non-null   category\n",
      " 8   EnvironmentSatisfaction   1178 non-null   int64   \n",
      " 9   Gender                    1178 non-null   int64   \n",
      " 10  HourlyRate                1178 non-null   int64   \n",
      " 11  JobInvolvement            1178 non-null   int64   \n",
      " 12  JobLevel                  1178 non-null   int64   \n",
      " 13  JobRole                   1178 non-null   category\n",
      " 14  JobSatisfaction           1178 non-null   int64   \n",
      " 15  MaritalStatus             1178 non-null   int64   \n",
      " 16  MonthlyIncome             1178 non-null   int64   \n",
      " 17  SalarySlab                1178 non-null   int64   \n",
      " 18  MonthlyRate               1178 non-null   int64   \n",
      " 19  NumCompaniesWorked        1178 non-null   int64   \n",
      " 20  OverTime                  1178 non-null   int64   \n",
      " 21  PercentSalaryHike         1178 non-null   int64   \n",
      " 22  PerformanceRating         1178 non-null   int64   \n",
      " 23  RelationshipSatisfaction  1178 non-null   int64   \n",
      " 24  StockOptionLevel          1178 non-null   int64   \n",
      " 25  TotalWorkingYears         1178 non-null   int64   \n",
      " 26  TrainingTimesLastYear     1178 non-null   int64   \n",
      " 27  WorkLifeBalance           1178 non-null   int64   \n",
      " 28  YearsAtCompany            1178 non-null   int64   \n",
      " 29  YearsInCurrentRole        1178 non-null   int64   \n",
      " 30  YearsSinceLastPromotion   1178 non-null   int64   \n",
      " 31  YearsWithCurrManager      1178 non-null   int8    \n",
      "dtypes: category(3), int64(28), int8(1)\n",
      "memory usage: 272.2 KB\n"
     ]
    }
   ],
   "source": [
    "Xtrain.info()"
   ]
  },
  {
   "cell_type": "markdown",
   "id": "b8147ffb-9a24-49da-a4fa-75e4e524901f",
   "metadata": {},
   "source": [
    "### Prepare preprocessing"
   ]
  },
  {
   "cell_type": "code",
   "execution_count": 15,
   "id": "1794bfa6-c42e-4e86-86f5-04d9ac354c52",
   "metadata": {
    "tags": []
   },
   "outputs": [],
   "source": [
    "# define num_cols and cat_cols\n",
    "\n",
    "num_cols = list(Xtrain.select_dtypes(include='number').columns.values)\n",
    "cat_cols = list(Xtrain.select_dtypes(include='category').columns.values)"
   ]
  },
  {
   "cell_type": "code",
   "execution_count": 16,
   "id": "7bb2c5a6-9909-438c-adbe-9098b6e380f7",
   "metadata": {
    "tags": []
   },
   "outputs": [],
   "source": [
    "# main pipeline\n",
    "\n",
    "encoder = OneHotEncoder(handle_unknown='ignore', sparse_output=False)\n",
    "knnimp = KNNImputer(add_indicator=True)\n",
    "simpimp = SimpleImputer(strategy='median')\n",
    "std = StandardScaler()\n",
    "\n",
    "imputer = simpimp\n",
    "\n",
    "catpipe = make_pipeline(encoder)\n",
    "numpipe = Pipeline([('imputer', simpimp),\n",
    "                    ('scaler', std)])\n",
    "\n",
    "coltrans = ColumnTransformer(transformers=[('encoder', encoder, cat_cols),\n",
    "                                           ('numpipe', numpipe, num_cols)], remainder='drop')\n",
    "selection = SelectPercentile(percentile=90) # percentile=10"
   ]
  },
  {
   "cell_type": "markdown",
   "id": "04ccfeec-b708-483b-b59e-d46e98fed8e1",
   "metadata": {},
   "source": [
    "### Instantiate estimator"
   ]
  },
  {
   "cell_type": "code",
   "execution_count": 17,
   "id": "37c39270-b85b-4895-a49c-ffdb993531a3",
   "metadata": {
    "tags": []
   },
   "outputs": [],
   "source": [
    "log = LogisticRegression(solver='saga',  \n",
    "                         class_weight='balanced',\n",
    "                         max_iter=int(1e4),\n",
    "                         random_state=random_seed)\n",
    "\n",
    "# check:\n",
    "# solver='liblinear'"
   ]
  },
  {
   "cell_type": "markdown",
   "id": "85b8dabb-829a-47d1-a6f1-d549010e5278",
   "metadata": {},
   "source": [
    "### Set search space"
   ]
  },
  {
   "cell_type": "code",
   "execution_count": 18,
   "id": "c948b1d8-02db-49ca-ab33-cb967711f664",
   "metadata": {
    "tags": []
   },
   "outputs": [
    {
     "name": "stdout",
     "output_type": "stream",
     "text": [
      "[1.00000000e-03 2.89426612e-03 8.37677640e-03 2.42446202e-02\n",
      " 7.01703829e-02 2.03091762e-01 5.87801607e-01 1.70125428e+00\n",
      " 4.92388263e+00 1.42510267e+01 4.12462638e+01 1.19377664e+02\n",
      " 3.45510729e+02 1.00000000e+03]\n"
     ]
    }
   ],
   "source": [
    "# np.set_printoptions(suppress=True) # to avoid scientific notation\n",
    "# temp_x = np.linspace(start=0.01, stop=1, num=10, dtype='float')\n",
    "# with logistic reg. you want to try the reg. values with increasing steps, not jumping from little regul. to a lot\n",
    "temp_x = np.geomspace(start=0.001, stop=1000, num=14, dtype='float')\n",
    "print(temp_x)"
   ]
  },
  {
   "cell_type": "code",
   "execution_count": 19,
   "id": "b46b3a1b-fa31-49f3-a36e-351cbc869a50",
   "metadata": {
    "tags": []
   },
   "outputs": [],
   "source": [
    "search_space = {'estimator__C': np.geomspace(start=0.0041, stop=0.00416, num=20, dtype='float'),\n",
    "                'estimator__penalty': ['l1', 'l2']  # l1 - lasso; l2 - ridge\n",
    "                #'selector__percentile': [90]\n",
    "                #'prepper__numpipe__imputer__strategy': ['mean', 'median']\n",
    "               }\n",
    "\n",
    "# np.geomspace(start=0.0041, stop=0.00416, num=20, dtype='float')  # best for 'saga'\n",
    "# np.geomspace(start=0.21, stop=0.3, num=20, dtype='float')  # beginning of tunning of 'liblinear' 0.001 1000"
   ]
  },
  {
   "cell_type": "markdown",
   "id": "6dd3a472-003a-4301-8a51-9c342822a410",
   "metadata": {},
   "source": [
    "## Pipeline finalization and grid search"
   ]
  },
  {
   "cell_type": "code",
   "execution_count": 36,
   "id": "61fb3f6b-3a3a-480f-a5aa-fd1097803805",
   "metadata": {
    "tags": []
   },
   "outputs": [
    {
     "name": "stdout",
     "output_type": "stream",
     "text": [
      "Fitting 6 folds for each of 40 candidates, totalling 240 fits\n",
      "{'estimator__C': 0.004156820326416346, 'estimator__penalty': 'l2'}\n",
      "Best F2 score: 61.83%\n",
      "\n",
      "- - - - - - - - - - - - - - - - - - - - - - - - - - - - - - - - - - - - - - - - \n",
      "\n",
      "F2 score on test set:\t63.36%\n",
      "Recall on test set:\t78.72%\n",
      "Precision on test set:\t35.58%\n"
     ]
    }
   ],
   "source": [
    "pipe_log = Pipeline([('preproc', coltrans),\n",
    "                     ('selector', selection),\n",
    "                     ('estimator', log)])\n",
    "\n",
    "pipe_log = GridSearchCV(estimator=pipe_log,\n",
    "                        param_grid=search_space,\n",
    "                        scoring=f2(),\n",
    "                        cv=6,\n",
    "                        verbose=3,\n",
    "                        n_jobs=-1)\n",
    "pipe_log.fit(Xtrain, ytrain)\n",
    "#model_svc = pipe_svc.best_estimator_\n",
    "#print(grid_svc.best_estimator_)\n",
    "\n",
    "print(pipe_log.best_params_)\n",
    "print(f'Best F2 score: {pipe_log.best_score_.mean():.2%}')\n",
    "f_divline()\n",
    "\n",
    "# - - - - - - - - - - - - - - - - - - - - - - - - - - - - - - - -\n",
    "# prediction on the test set\n",
    "\n",
    "ypred = pipe_log.best_estimator_.predict(Xtest)\n",
    "\n",
    "print(f'F2 score on test set:\\t{f2_score(ytest, ypred):.2%}')\n",
    "print(f'Recall on test set:\\t{recall_score(ytest, ypred):.2%}')\n",
    "print(f'Precision on test set:\\t{precision_score(ytest, ypred):.2%}')"
   ]
  },
  {
   "cell_type": "code",
   "execution_count": 40,
   "id": "3b7009ee-59c4-4789-80dd-43e97e95165b",
   "metadata": {
    "tags": []
   },
   "outputs": [],
   "source": [
    "# - - - - - - - - - - - - - - - - - - - - - - - - - - - - - - - -\n",
    "# ROC visualization\n",
    "\n",
    "def plot_roc(pipe, Xtest, ytest):\n",
    "    \n",
    "    yscores = pipe.predict_proba(Xtest)[:,1]\n",
    "    fpr, tpr, _ = roc_curve(ytest, yscores)\n",
    "    roc_auc = auc(fpr, tpr)\n",
    "    \n",
    "    plt.figure(figsize=(10, 7))\n",
    "    plt.plot(fpr, tpr, color=color_palette[1], lw=1.2, label='ROC curve (area = {:.2f})'.format(roc_auc))\n",
    "    plt.plot([0, 1], [0, 1], color='navy', lw=1.2, linestyle=(0, (8,10)))\n",
    "    plt.xlabel('False Positive Rate')\n",
    "    plt.ylabel('True Positive Rate')\n",
    "    plt.title('Receiver Operating Characteristic (ROC) Curve')\n",
    "    plt.legend(loc='lower right')"
   ]
  },
  {
   "cell_type": "code",
   "execution_count": 41,
   "id": "46c29da8-7080-49df-8c7b-f97649c81133",
   "metadata": {
    "tags": []
   },
   "outputs": [
    {
     "data": {
      "image/png": "[encoded data removed]",
      "text/plain": [
       "<Figure size 1000x700 with 1 Axes>"
      ]
     },
     "metadata": {},
     "output_type": "display_data"
    }
   ],
   "source": [
    "# - - - - - - - - - - - - - - - - - - - - - - - - - - - - - - - -\n",
    "# ROC plot\n",
    "\n",
    "graph_roc = plot_roc(pipe_log, Xtest, ytest)"
   ]
  },
  {
   "cell_type": "code",
   "execution_count": 42,
   "id": "2779b41c-bb56-41c3-a7bc-c237be6ad37b",
   "metadata": {
    "tags": []
   },
   "outputs": [
    {
     "data": {
      "text/html": [
       "<div>\n",
       "<style scoped>\n",
       "    .dataframe tbody tr th:only-of-type {\n",
       "        vertical-align: middle;\n",
       "    }\n",
       "\n",
       "    .dataframe tbody tr th {\n",
       "        vertical-align: top;\n",
       "    }\n",
       "\n",
       "    .dataframe thead th {\n",
       "        text-align: right;\n",
       "    }\n",
       "</style>\n",
       "<table border=\"1\" class=\"dataframe\">\n",
       "  <thead>\n",
       "    <tr style=\"text-align: right;\">\n",
       "      <th></th>\n",
       "      <th>39</th>\n",
       "      <th>37</th>\n",
       "      <th>33</th>\n",
       "      <th>23</th>\n",
       "      <th>29</th>\n",
       "      <th>21</th>\n",
       "      <th>19</th>\n",
       "      <th>17</th>\n",
       "    </tr>\n",
       "  </thead>\n",
       "  <tbody>\n",
       "    <tr>\n",
       "      <th>mean_fit_time</th>\n",
       "      <td>0.00992</td>\n",
       "      <td>0.01014</td>\n",
       "      <td>0.01127</td>\n",
       "      <td>0.01379</td>\n",
       "      <td>0.01048</td>\n",
       "      <td>0.01095</td>\n",
       "      <td>0.01240</td>\n",
       "      <td>0.01053</td>\n",
       "    </tr>\n",
       "    <tr>\n",
       "      <th>std_fit_time</th>\n",
       "      <td>0.00030</td>\n",
       "      <td>0.00056</td>\n",
       "      <td>0.00204</td>\n",
       "      <td>0.00415</td>\n",
       "      <td>0.00151</td>\n",
       "      <td>0.00139</td>\n",
       "      <td>0.00207</td>\n",
       "      <td>0.00140</td>\n",
       "    </tr>\n",
       "    <tr>\n",
       "      <th>mean_score_time</th>\n",
       "      <td>0.00215</td>\n",
       "      <td>0.00222</td>\n",
       "      <td>0.00235</td>\n",
       "      <td>0.00252</td>\n",
       "      <td>0.00287</td>\n",
       "      <td>0.00250</td>\n",
       "      <td>0.00268</td>\n",
       "      <td>0.00337</td>\n",
       "    </tr>\n",
       "    <tr>\n",
       "      <th>std_score_time</th>\n",
       "      <td>0.00009</td>\n",
       "      <td>0.00020</td>\n",
       "      <td>0.00022</td>\n",
       "      <td>0.00045</td>\n",
       "      <td>0.00114</td>\n",
       "      <td>0.00045</td>\n",
       "      <td>0.00061</td>\n",
       "      <td>0.00153</td>\n",
       "    </tr>\n",
       "    <tr>\n",
       "      <th>param_estimator__C</th>\n",
       "      <td>0.00416</td>\n",
       "      <td>0.00416</td>\n",
       "      <td>0.00415</td>\n",
       "      <td>0.00413</td>\n",
       "      <td>0.00414</td>\n",
       "      <td>0.00413</td>\n",
       "      <td>0.00413</td>\n",
       "      <td>0.00413</td>\n",
       "    </tr>\n",
       "    <tr>\n",
       "      <th>param_estimator__penalty</th>\n",
       "      <td>l2</td>\n",
       "      <td>l2</td>\n",
       "      <td>l2</td>\n",
       "      <td>l2</td>\n",
       "      <td>l2</td>\n",
       "      <td>l2</td>\n",
       "      <td>l2</td>\n",
       "      <td>l2</td>\n",
       "    </tr>\n",
       "    <tr>\n",
       "      <th>params</th>\n",
       "      <td>{'estimator__C': 0.00416, 'estimator__penalty'...</td>\n",
       "      <td>{'estimator__C': 0.004156820326416346, 'estima...</td>\n",
       "      <td>{'estimator__C': 0.004150468268490513, 'estima...</td>\n",
       "      <td>{'estimator__C': 0.004134630557660767, 'estima...</td>\n",
       "      <td>{'estimator__C': 0.004144125917176158, 'estima...</td>\n",
       "      <td>{'estimator__C': 0.00413147027507366, 'estimat...</td>\n",
       "      <td>{'estimator__C': 0.004128312408031523, 'estima...</td>\n",
       "      <td>{'estimator__C': 0.00412515695468804, 'estimat...</td>\n",
       "    </tr>\n",
       "    <tr>\n",
       "      <th>split0_test_score</th>\n",
       "      <td>0.64171</td>\n",
       "      <td>0.64171</td>\n",
       "      <td>0.64171</td>\n",
       "      <td>0.64171</td>\n",
       "      <td>0.64171</td>\n",
       "      <td>0.64171</td>\n",
       "      <td>0.64171</td>\n",
       "      <td>0.64171</td>\n",
       "    </tr>\n",
       "    <tr>\n",
       "      <th>split1_test_score</th>\n",
       "      <td>0.65000</td>\n",
       "      <td>0.65000</td>\n",
       "      <td>0.65000</td>\n",
       "      <td>0.65000</td>\n",
       "      <td>0.65000</td>\n",
       "      <td>0.65000</td>\n",
       "      <td>0.65000</td>\n",
       "      <td>0.65000</td>\n",
       "    </tr>\n",
       "    <tr>\n",
       "      <th>split2_test_score</th>\n",
       "      <td>0.60109</td>\n",
       "      <td>0.60109</td>\n",
       "      <td>0.60109</td>\n",
       "      <td>0.60109</td>\n",
       "      <td>0.60109</td>\n",
       "      <td>0.60109</td>\n",
       "      <td>0.60109</td>\n",
       "      <td>0.60109</td>\n",
       "    </tr>\n",
       "    <tr>\n",
       "      <th>split3_test_score</th>\n",
       "      <td>0.61881</td>\n",
       "      <td>0.61881</td>\n",
       "      <td>0.61576</td>\n",
       "      <td>0.61576</td>\n",
       "      <td>0.61576</td>\n",
       "      <td>0.61576</td>\n",
       "      <td>0.61576</td>\n",
       "      <td>0.61576</td>\n",
       "    </tr>\n",
       "    <tr>\n",
       "      <th>split4_test_score</th>\n",
       "      <td>0.52239</td>\n",
       "      <td>0.52239</td>\n",
       "      <td>0.52239</td>\n",
       "      <td>0.52239</td>\n",
       "      <td>0.52239</td>\n",
       "      <td>0.52239</td>\n",
       "      <td>0.52239</td>\n",
       "      <td>0.52239</td>\n",
       "    </tr>\n",
       "    <tr>\n",
       "      <th>split5_test_score</th>\n",
       "      <td>0.67568</td>\n",
       "      <td>0.67568</td>\n",
       "      <td>0.67568</td>\n",
       "      <td>0.67568</td>\n",
       "      <td>0.67568</td>\n",
       "      <td>0.67568</td>\n",
       "      <td>0.67568</td>\n",
       "      <td>0.67568</td>\n",
       "    </tr>\n",
       "    <tr>\n",
       "      <th>mean_test_score</th>\n",
       "      <td>0.61828</td>\n",
       "      <td>0.61828</td>\n",
       "      <td>0.61777</td>\n",
       "      <td>0.61777</td>\n",
       "      <td>0.61777</td>\n",
       "      <td>0.61777</td>\n",
       "      <td>0.61777</td>\n",
       "      <td>0.61777</td>\n",
       "    </tr>\n",
       "    <tr>\n",
       "      <th>std_test_score</th>\n",
       "      <td>0.04889</td>\n",
       "      <td>0.04889</td>\n",
       "      <td>0.04890</td>\n",
       "      <td>0.04890</td>\n",
       "      <td>0.04890</td>\n",
       "      <td>0.04890</td>\n",
       "      <td>0.04890</td>\n",
       "      <td>0.04890</td>\n",
       "    </tr>\n",
       "    <tr>\n",
       "      <th>rank_test_score</th>\n",
       "      <td>1</td>\n",
       "      <td>1</td>\n",
       "      <td>3</td>\n",
       "      <td>3</td>\n",
       "      <td>3</td>\n",
       "      <td>3</td>\n",
       "      <td>3</td>\n",
       "      <td>3</td>\n",
       "    </tr>\n",
       "  </tbody>\n",
       "</table>\n",
       "</div>"
      ],
      "text/plain": [
       "                                                                         39  \\\n",
       "mean_fit_time                                                       0.00992   \n",
       "std_fit_time                                                        0.00030   \n",
       "mean_score_time                                                     0.00215   \n",
       "std_score_time                                                      0.00009   \n",
       "param_estimator__C                                                  0.00416   \n",
       "param_estimator__penalty                                                 l2   \n",
       "params                    {'estimator__C': 0.00416, 'estimator__penalty'...   \n",
       "split0_test_score                                                   0.64171   \n",
       "split1_test_score                                                   0.65000   \n",
       "split2_test_score                                                   0.60109   \n",
       "split3_test_score                                                   0.61881   \n",
       "split4_test_score                                                   0.52239   \n",
       "split5_test_score                                                   0.67568   \n",
       "mean_test_score                                                     0.61828   \n",
       "std_test_score                                                      0.04889   \n",
       "rank_test_score                                                           1   \n",
       "\n",
       "                                                                         37  \\\n",
       "mean_fit_time                                                       0.01014   \n",
       "std_fit_time                                                        0.00056   \n",
       "mean_score_time                                                     0.00222   \n",
       "std_score_time                                                      0.00020   \n",
       "param_estimator__C                                                  0.00416   \n",
       "param_estimator__penalty                                                 l2   \n",
       "params                    {'estimator__C': 0.004156820326416346, 'estima...   \n",
       "split0_test_score                                                   0.64171   \n",
       "split1_test_score                                                   0.65000   \n",
       "split2_test_score                                                   0.60109   \n",
       "split3_test_score                                                   0.61881   \n",
       "split4_test_score                                                   0.52239   \n",
       "split5_test_score                                                   0.67568   \n",
       "mean_test_score                                                     0.61828   \n",
       "std_test_score                                                      0.04889   \n",
       "rank_test_score                                                           1   \n",
       "\n",
       "                                                                         33  \\\n",
       "mean_fit_time                                                       0.01127   \n",
       "std_fit_time                                                        0.00204   \n",
       "mean_score_time                                                     0.00235   \n",
       "std_score_time                                                      0.00022   \n",
       "param_estimator__C                                                  0.00415   \n",
       "param_estimator__penalty                                                 l2   \n",
       "params                    {'estimator__C': 0.004150468268490513, 'estima...   \n",
       "split0_test_score                                                   0.64171   \n",
       "split1_test_score                                                   0.65000   \n",
       "split2_test_score                                                   0.60109   \n",
       "split3_test_score                                                   0.61576   \n",
       "split4_test_score                                                   0.52239   \n",
       "split5_test_score                                                   0.67568   \n",
       "mean_test_score                                                     0.61777   \n",
       "std_test_score                                                      0.04890   \n",
       "rank_test_score                                                           3   \n",
       "\n",
       "                                                                         23  \\\n",
       "mean_fit_time                                                       0.01379   \n",
       "std_fit_time                                                        0.00415   \n",
       "mean_score_time                                                     0.00252   \n",
       "std_score_time                                                      0.00045   \n",
       "param_estimator__C                                                  0.00413   \n",
       "param_estimator__penalty                                                 l2   \n",
       "params                    {'estimator__C': 0.004134630557660767, 'estima...   \n",
       "split0_test_score                                                   0.64171   \n",
       "split1_test_score                                                   0.65000   \n",
       "split2_test_score                                                   0.60109   \n",
       "split3_test_score                                                   0.61576   \n",
       "split4_test_score                                                   0.52239   \n",
       "split5_test_score                                                   0.67568   \n",
       "mean_test_score                                                     0.61777   \n",
       "std_test_score                                                      0.04890   \n",
       "rank_test_score                                                           3   \n",
       "\n",
       "                                                                         29  \\\n",
       "mean_fit_time                                                       0.01048   \n",
       "std_fit_time                                                        0.00151   \n",
       "mean_score_time                                                     0.00287   \n",
       "std_score_time                                                      0.00114   \n",
       "param_estimator__C                                                  0.00414   \n",
       "param_estimator__penalty                                                 l2   \n",
       "params                    {'estimator__C': 0.004144125917176158, 'estima...   \n",
       "split0_test_score                                                   0.64171   \n",
       "split1_test_score                                                   0.65000   \n",
       "split2_test_score                                                   0.60109   \n",
       "split3_test_score                                                   0.61576   \n",
       "split4_test_score                                                   0.52239   \n",
       "split5_test_score                                                   0.67568   \n",
       "mean_test_score                                                     0.61777   \n",
       "std_test_score                                                      0.04890   \n",
       "rank_test_score                                                           3   \n",
       "\n",
       "                                                                         21  \\\n",
       "mean_fit_time                                                       0.01095   \n",
       "std_fit_time                                                        0.00139   \n",
       "mean_score_time                                                     0.00250   \n",
       "std_score_time                                                      0.00045   \n",
       "param_estimator__C                                                  0.00413   \n",
       "param_estimator__penalty                                                 l2   \n",
       "params                    {'estimator__C': 0.00413147027507366, 'estimat...   \n",
       "split0_test_score                                                   0.64171   \n",
       "split1_test_score                                                   0.65000   \n",
       "split2_test_score                                                   0.60109   \n",
       "split3_test_score                                                   0.61576   \n",
       "split4_test_score                                                   0.52239   \n",
       "split5_test_score                                                   0.67568   \n",
       "mean_test_score                                                     0.61777   \n",
       "std_test_score                                                      0.04890   \n",
       "rank_test_score                                                           3   \n",
       "\n",
       "                                                                         19  \\\n",
       "mean_fit_time                                                       0.01240   \n",
       "std_fit_time                                                        0.00207   \n",
       "mean_score_time                                                     0.00268   \n",
       "std_score_time                                                      0.00061   \n",
       "param_estimator__C                                                  0.00413   \n",
       "param_estimator__penalty                                                 l2   \n",
       "params                    {'estimator__C': 0.004128312408031523, 'estima...   \n",
       "split0_test_score                                                   0.64171   \n",
       "split1_test_score                                                   0.65000   \n",
       "split2_test_score                                                   0.60109   \n",
       "split3_test_score                                                   0.61576   \n",
       "split4_test_score                                                   0.52239   \n",
       "split5_test_score                                                   0.67568   \n",
       "mean_test_score                                                     0.61777   \n",
       "std_test_score                                                      0.04890   \n",
       "rank_test_score                                                           3   \n",
       "\n",
       "                                                                         17  \n",
       "mean_fit_time                                                       0.01053  \n",
       "std_fit_time                                                        0.00140  \n",
       "mean_score_time                                                     0.00337  \n",
       "std_score_time                                                      0.00153  \n",
       "param_estimator__C                                                  0.00413  \n",
       "param_estimator__penalty                                                 l2  \n",
       "params                    {'estimator__C': 0.00412515695468804, 'estimat...  \n",
       "split0_test_score                                                   0.64171  \n",
       "split1_test_score                                                   0.65000  \n",
       "split2_test_score                                                   0.60109  \n",
       "split3_test_score                                                   0.61576  \n",
       "split4_test_score                                                   0.52239  \n",
       "split5_test_score                                                   0.67568  \n",
       "mean_test_score                                                     0.61777  \n",
       "std_test_score                                                      0.04890  \n",
       "rank_test_score                                                           3  "
      ]
     },
     "execution_count": 42,
     "metadata": {},
     "output_type": "execute_result"
    }
   ],
   "source": [
    "pd.options.display.float_format = '{:.5f}'.format\n",
    "\n",
    "results = pd.DataFrame(pipe_log.cv_results_).sort_values(by='mean_test_score', ascending=False).head(8).T\n",
    "results"
   ]
  },
  {
   "cell_type": "markdown",
   "id": "fdcf61b6-664c-471b-a7d6-153af52e4db5",
   "metadata": {},
   "source": [
    "## Feature importance"
   ]
  },
  {
   "cell_type": "code",
   "execution_count": 43,
   "id": "7a415ee7-243c-4a9d-8592-4d05a6aa233b",
   "metadata": {
    "tags": []
   },
   "outputs": [],
   "source": [
    "# - - - - - - - - - - - - - - - - - - - - - - - - - - - - - - - -\n",
    "# Estimate feature importance through permutation importance\n",
    "\n",
    "result = permutation_importance(pipe_log, Xtrain, ytrain, n_repeats=50, random_state=random_seed)\n",
    "importance_scores = abs(result.importances_mean)\n",
    "\n",
    "original_columns = Xtrain.columns\n",
    "feature_importance_list = list(zip(original_columns, importance_scores))\n",
    "sorted_feature_importance = sorted(feature_importance_list, key=lambda x: x[1], reverse=False)\n",
    "orig_sorted_features, orig_sorted_importance = zip(*sorted_feature_importance)"
   ]
  },
  {
   "cell_type": "code",
   "execution_count": 44,
   "id": "e5366098-fa90-44d3-a3c6-2843a96eecdb",
   "metadata": {
    "tags": []
   },
   "outputs": [
    {
     "data": {
      "image/png": "[encoded data removed]",
      "text/plain": [
       "<Figure size 1100x1000 with 1 Axes>"
      ]
     },
     "metadata": {},
     "output_type": "display_data"
    }
   ],
   "source": [
    "plt.rc('ytick', labelsize=10)\n",
    "\n",
    "# - - - - - - - - - - - - - - - - - - - - - - - - - - - - - - - -\n",
    "# Visualization\n",
    "\n",
    "import matplotlib as mpl\n",
    "from matplotlib.cm import get_cmap\n",
    "\n",
    "colors = []\n",
    "cmap = mpl.colormaps['coolwarm']\n",
    "\n",
    "# scale data\n",
    "data = orig_sorted_importance\n",
    "denominator = max(data) - min(data) # max(data) - min(data)\n",
    "scaled_data = [(datum - min(data)) / denominator for datum in data]\n",
    "\n",
    "for decimal in scaled_data:\n",
    "    colors.append(cmap(decimal))\n",
    "\n",
    "\n",
    "fig_feature_importance, ax = plt.subplots(figsize=(11,10))\n",
    "\n",
    "ax.barh(orig_sorted_features, orig_sorted_importance, color=colors)\n",
    "ax.set(title='Features sorted by permutation importance',\n",
    "      xlabel='Permutation Importance');\n",
    "\n",
    "#ax.set_xticklabels({:.2%})"
   ]
  },
  {
   "cell_type": "code",
   "execution_count": 45,
   "id": "0ff8e1b8-815d-4486-af9e-fad604ec0214",
   "metadata": {
    "tags": []
   },
   "outputs": [],
   "source": [
    "# orig_sorted_importance"
   ]
  },
  {
   "cell_type": "code",
   "execution_count": 46,
   "id": "16928edf-be06-4341-bf14-08f18a9db388",
   "metadata": {
    "tags": []
   },
   "outputs": [
    {
     "data": {
      "text/plain": [
       "array([0.01493226, 0.00162061, 0.01488541, 0.01351182, 0.00387478,\n",
       "       0.00063329, 0.00271746, 0.00319293, 0.01016592, 0.00077959,\n",
       "       0.        , 0.00188774, 0.00628829, 0.00112858, 0.00356889,\n",
       "       0.00574303, 0.00779523, 0.00928399, 0.00026856, 0.01072798,\n",
       "       0.07920542, 0.00203303, 0.        , 0.00472487, 0.01102432,\n",
       "       0.01012971, 0.00350169, 0.00483909, 0.003983  , 0.00185007,\n",
       "       0.01701696, 0.00554758])"
      ]
     },
     "execution_count": 46,
     "metadata": {},
     "output_type": "execute_result"
    }
   ],
   "source": [
    "abs(result.importances_mean)"
   ]
  }
 ],
 "metadata": {
  "kernelspec": {
   "display_name": "Python 3 (ipykernel)",
   "language": "python",
   "name": "python3"
  },
  "language_info": {
   "codemirror_mode": {
    "name": "ipython",
    "version": 3
   },
   "file_extension": ".py",
   "mimetype": "text/x-python",
   "name": "python",
   "nbconvert_exporter": "python",
   "pygments_lexer": "ipython3",
   "version": "3.11.4"
  }
 },
 "nbformat": 4,
 "nbformat_minor": 5
}
