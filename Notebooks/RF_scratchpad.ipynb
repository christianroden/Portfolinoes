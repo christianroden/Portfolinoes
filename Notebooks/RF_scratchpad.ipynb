{
 "cells": [
  {
   "cell_type": "code",
   "execution_count": 1,
   "id": "3a3486ee-c1b5-4fd4-a807-ae56d6bb1321",
   "metadata": {
    "tags": []
   },
   "outputs": [
    {
     "data": {
      "text/html": [
       "<style>.jp-Cell { width: 90% !important; }</style>"
      ],
      "text/plain": [
       "<IPython.core.display.HTML object>"
      ]
     },
     "metadata": {},
     "output_type": "display_data"
    }
   ],
   "source": [
    "from IPython.display import display, HTML\n",
    "display(HTML(\"<style>.jp-Cell { width: 90% !important; }</style>\"))"
   ]
  },
  {
   "cell_type": "markdown",
   "id": "c8f507c0-92a0-43f3-bc86-23f725c73611",
   "metadata": {},
   "source": [
    "# Data Dictionary"
   ]
  },
  {
   "cell_type": "markdown",
   "id": "100d119d-bd13-404e-a784-de5f3f7a719d",
   "metadata": {
    "cell_content_type": "markdown_selectable",
    "changed": false,
    "deletable": false,
    "selectable": true,
    "tags": []
   },
   "source": [
    "Column number | Column name | Type | Description\n",
    ":---|:---|:---|:----  \n",
    "0 | `'EmpID'` | categorical (nominal) | Employee ID\n",
    "1 | `'Age'` | numerical (`int`) | Age of the employee\n",
    "2 | `'AgeGroup'` | categorical (ordinal) | Age group to which the employee belongs\n",
    "3 | `'Attrition'` | categorical (binary) | Employee attrition status (whether the employee has left the organization or is still active)\n",
    "4 | `'BusinessTravel'` | categorical (ordinal) | Frequency of business travel for the employee\n",
    "5 | `'DailyRate'` | numerical (`int`) | Daily rate of pay for the employee\n",
    "6 | `'Department'` | categorical (nominal) | Department in which the employee works\n",
    "7 | `'DistanceFromHome'` | numerical (`int`) | Distance in miles from the employee's home to the workplace\n",
    "8 | `'Education'` | categorical (ordinal) | Level of education attained by the employee\n",
    "9 | `'EducationField'` | categorical (nominal) | Field of education of the employee\n",
    "10 | `'EmployeeCount'` | numerical (`int`) | Number of employees\n",
    "11 | `'EmployeeNumber'` | categorical (nominal) | Unique identifier for each employee\n",
    "12 | `'EnvironmentSatisfaction'` | categorical (ordinal) | Employee's satisfaction level with the work environment\n",
    "13 | `'Gender'` | categorical (nominal) | Gender of the employee\n",
    "14 | `'HourlyRate'` | numerical (`int`) | Hourly rate of pay for the employee\n",
    "15 | `'JobInvolvement'` | categorical (ordinal) | Employee's level of job involvement\n",
    "16 | `'JobLevel'` | categorical (ordinal) | Level of the employee's job position\n",
    "17 | `'JobRole'` | categorical (nominal) | Role of the employee within the organization\n",
    "18 | `'JobSatisfaction'` | categorical (ordinal) | Employee's satisfaction level with their job\n",
    "19 | `'MaritalStatus'` | categorical (nominal) | Marital status of the employee\n",
    "20 | `'MonthlyIncome'` | numerical (`int`) | Monthly income of the employee\n",
    "21 | `'SalarySlab'` | categorical (ordinal) | Categorization of monthly income into salary slabs\n",
    "22 | `'MonthlyRate'` | numerical (`int`) | Monthly rate of pay for the employee\n",
    "23 | `'NumCompaniesWorked'` | numerical (`int`) | Number of companies the employee has worked for in the past\n",
    "24 | `'Over18'` | categorical (binary) | Whether the employee is over 18 years old\n",
    "25 | `'OverTime'` | categorical (binary) | Whether the employee works overtime or not\n",
    "26 | `'PercentSalaryHike'` | numerical (`int`) | Percentage increase in salary for the employee\n",
    "27 | `'PerformanceRating'` | categorical (ordinal) | Performance rating of the employee\n",
    "28 | `'RelationshipSatisfaction'` | categorical (ordinal) | Employee's satisfaction level with work relationships\n",
    "29 | `'StandardHours'` | numerical (`int`) | Standard working hours for the employee\n",
    "30 | `'StockOptionLevel'` | categorical (ordinal) | Level of stock options granted to the employee\n",
    "31 | `'TotalWorkingYears'` | numerical (`int`) | Total number of years the employee has worked\n",
    "32 | `'TrainingTimesLastYear'` | numerical (`int`) | Number of training sessions attended by the employee in the last year\n",
    "33 | `'WorkLifeBalance'` | categorical (ordinal) | Employee's work-life balance satisfaction level\n",
    "34 | `'YearsAtCompany'` | numerical (`int`) | Number of years the employee has worked at the current company\n",
    "35 | `'YearsInCurrentRole'` | numerical (`int`) | Number of years the employee has been in the current role\n",
    "36 | `'YearsSinceLastPromotion'` | numerical (`int`) | Number of years since the employee's last promotion\n",
    "37 | `'YearsWithCurrManager'` | numerical (`int`) | Number of years the employee has been working with the current manager"
   ]
  },
  {
   "cell_type": "code",
   "execution_count": null,
   "id": "9964f6f8-eec0-445b-a13c-8ee8b882ba13",
   "metadata": {},
   "outputs": [],
   "source": [
    "# - - - - - - - - - - - - - - - - - - - - - - - - - - - - - - - -"
   ]
  },
  {
   "cell_type": "markdown",
   "id": "5e9002cb-f29d-4262-b6c2-9fa4675b6b25",
   "metadata": {},
   "source": [
    "## Encoding"
   ]
  },
  {
   "cell_type": "code",
   "execution_count": null,
   "id": "de5cfab0-3f8c-4ee7-930d-276673784f1c",
   "metadata": {},
   "outputs": [],
   "source": [
    "# ? maybe better to NOT use zeroes? (0)\n",
    "\n",
    "df.loc[:,'AgeGroup'] = df.loc[:,'AgeGroup'].replace({'18-25': 0,\n",
    "                                                     '26-35': 1,\n",
    "                                                     '36-45': 2,\n",
    "                                                     '46-55': 3,\n",
    "                                                     '55+': 4\n",
    "                                                    })\n",
    "df.loc[:,'Attrition'] = df.loc[:,'Attrition'].replace({'Yes': 1, 'No': 0})\n",
    "df.loc[:,'BusinessTravel'] = df.loc[:,'BusinessTravel'].replace({'Non-Travel': 0,\n",
    "                                                                 'Travel_Rarely': 1,\n",
    "                                                                 'TravelRarely': 1,\n",
    "                                                                 'Travel_Frequently': 2\n",
    "                                                                })\n",
    "df.loc[:,'Gender'] = df.loc[:,'Gender'].replace({'Male': 1, 'Female': 0})\n",
    "df.loc[:,'MaritalStatus'] = df.loc[:,'MaritalStatus'].replace({'Single': 0,\n",
    "                                                               'Divorced': 1,\n",
    "                                                               'Married': 2\n",
    "                                                              })\n",
    "df.loc[:,'SalarySlab'] = df.loc[:,'SalarySlab'].replace({'Upto 5k': 0,\n",
    "                                                         '5k-10k': 1,\n",
    "                                                         '10k-15k': 2,\n",
    "                                                         '15k+': 3})\n",
    "df.loc[:,'OverTime'] = df.loc[:,'OverTime'].replace({'Yes': 1, 'No': 0})\n",
    "df.loc[:,'PerformanceRating'] = df.loc[:,'PerformanceRating'].replace({3: 0, 4: 1})"
   ]
  },
  {
   "cell_type": "markdown",
   "id": "8e54a4c5-3d74-494a-9adf-5ee44ff476c8",
   "metadata": {},
   "source": [
    "## Feature candidates for predictions:\n",
    "### Continuous:\n",
    "'Age', 'MonthlyIncome', 'TotalWorkingYears', 'YearsInCurrentRole', 'YearWithCurrManager'\n",
    "\n",
    "**Potentially:** 'YearsSinceLastPromotion' \n",
    "\n",
    "**Maybe:** 'DistanceFromHome', 'YearsAtCompany'\n",
    "\n",
    "### Categorical:\n",
    "'AgeGroup', 'Overtime', 'EnvironmentSatisfaction', 'BusinessTravel', 'JobLevel',\n",
    "'SalarySlab', 'NumCompaniesWorked', 'MaritalStatus'\n",
    "\n",
    "'Age', 'Overtime', 'MaritalStatus' seem to be the best candidates."
   ]
  }
 ],
 "metadata": {
  "kernelspec": {
   "display_name": "Python 3 (ipykernel)",
   "language": "python",
   "name": "python3"
  },
  "language_info": {
   "codemirror_mode": {
    "name": "ipython",
    "version": 3
   },
   "file_extension": ".py",
   "mimetype": "text/x-python",
   "name": "python",
   "nbconvert_exporter": "python",
   "pygments_lexer": "ipython3",
   "version": "3.11.4"
  }
 },
 "nbformat": 4,
 "nbformat_minor": 5
}
