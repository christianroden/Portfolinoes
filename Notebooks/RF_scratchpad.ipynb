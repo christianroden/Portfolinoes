{
 "cells": [
  {
   "cell_type": "code",
   "execution_count": 1,
   "id": "3a3486ee-c1b5-4fd4-a807-ae56d6bb1321",
   "metadata": {
    "tags": []
   },
   "outputs": [
    {
     "data": {
      "text/html": [
       "<style>.jp-Cell { width: 90% !important; }</style>"
      ],
      "text/plain": [
       "<IPython.core.display.HTML object>"
      ]
     },
     "metadata": {},
     "output_type": "display_data"
    }
   ],
   "source": [
    "from IPython.display import display, HTML\n",
    "display(HTML(\"<style>.jp-Cell { width: 90% !important; }</style>\"))"
   ]
  },
  {
   "cell_type": "markdown",
   "id": "c8f507c0-92a0-43f3-bc86-23f725c73611",
   "metadata": {},
   "source": [
    "# Data Dictionary"
   ]
  },
  {
   "cell_type": "markdown",
   "id": "100d119d-bd13-404e-a784-de5f3f7a719d",
   "metadata": {
    "cell_content_type": "markdown_selectable",
    "changed": false,
    "deletable": false,
    "selectable": true,
    "tags": []
   },
   "source": [
    "Column number | Column name | Type | Description\n",
    ":---|:---|:---|:----  \n",
    "0 | `'EmpID'` | categorical (nominal) | Employee ID\n",
    "1 | `'Age'` | numerical (`int`) | Age of the employee\n",
    "2 | `'AgeGroup'` | categorical (ordinal) | Age group to which the employee belongs\n",
    "3 | `'Attrition'` | categorical (binary) | Employee attrition status (whether the employee has left the organization or is still active)\n",
    "4 | `'BusinessTravel'` | categorical (ordinal) | Frequency of business travel for the employee\n",
    "5 | `'DailyRate'` | numerical (`int`) | Daily rate of pay for the employee\n",
    "6 | `'Department'` | categorical (nominal) | Department in which the employee works\n",
    "7 | `'DistanceFromHome'` | numerical (`int`) | Distance in miles from the employee's home to the workplace\n",
    "8 | `'Education'` | categorical (ordinal) | Level of education attained by the employee\n",
    "9 | `'EducationField'` | categorical (nominal) | Field of education of the employee\n",
    "10 | `'EmployeeCount'` | numerical (`int`) | Number of employees\n",
    "11 | `'EmployeeNumber'` | categorical (nominal) | Unique identifier for each employee\n",
    "12 | `'EnvironmentSatisfaction'` | categorical (ordinal) | Employee's satisfaction level with the work environment\n",
    "13 | `'Gender'` | categorical (nominal) | Gender of the employee\n",
    "14 | `'HourlyRate'` | numerical (`int`) | Hourly rate of pay for the employee\n",
    "15 | `'JobInvolvement'` | categorical (ordinal) | Employee's level of job involvement\n",
    "16 | `'JobLevel'` | categorical (ordinal) | Level of the employee's job position\n",
    "17 | `'JobRole'` | categorical (nominal) | Role of the employee within the organization\n",
    "18 | `'JobSatisfaction'` | categorical (ordinal) | Employee's satisfaction level with their job\n",
    "19 | `'MaritalStatus'` | categorical (nominal) | Marital status of the employee\n",
    "20 | `'MonthlyIncome'` | numerical (`int`) | Monthly income of the employee\n",
    "21 | `'SalarySlab'` | categorical (ordinal) | Categorization of monthly income into salary slabs\n",
    "22 | `'MonthlyRate'` | numerical (`int`) | Monthly rate of pay for the employee\n",
    "23 | `'NumCompaniesWorked'` | numerical (`int`) | Number of companies the employee has worked for in the past\n",
    "24 | `'Over18'` | categorical (binary) | Whether the employee is over 18 years old\n",
    "25 | `'OverTime'` | categorical (binary) | Whether the employee works overtime or not\n",
    "26 | `'PercentSalaryHike'` | numerical (`int`) | Percentage increase in salary for the employee\n",
    "27 | `'PerformanceRating'` | categorical (ordinal) | Performance rating of the employee\n",
    "28 | `'RelationshipSatisfaction'` | categorical (ordinal) | Employee's satisfaction level with work relationships\n",
    "29 | `'StandardHours'` | numerical (`int`) | Standard working hours for the employee\n",
    "30 | `'StockOptionLevel'` | categorical (ordinal) | Level of stock options granted to the employee\n",
    "31 | `'TotalWorkingYears'` | numerical (`int`) | Total number of years the employee has worked\n",
    "32 | `'TrainingTimesLastYear'` | numerical (`int`) | Number of training sessions attended by the employee in the last year\n",
    "33 | `'WorkLifeBalance'` | categorical (ordinal) | Employee's work-life balance satisfaction level\n",
    "34 | `'YearsAtCompany'` | numerical (`int`) | Number of years the employee has worked at the current company\n",
    "35 | `'YearsInCurrentRole'` | numerical (`int`) | Number of years the employee has been in the current role\n",
    "36 | `'YearsSinceLastPromotion'` | numerical (`int`) | Number of years since the employee's last promotion\n",
    "37 | `'YearsWithCurrManager'` | numerical (`int`) | Number of years the employee has been working with the current manager"
   ]
  },
  {
   "cell_type": "code",
   "execution_count": null,
   "id": "9964f6f8-eec0-445b-a13c-8ee8b882ba13",
   "metadata": {},
   "outputs": [],
   "source": [
    "# - - - - - - - - - - - - - - - - - - - - - - - - - - - - - - - -"
   ]
  },
  {
   "cell_type": "markdown",
   "id": "5e9002cb-f29d-4262-b6c2-9fa4675b6b25",
   "metadata": {},
   "source": [
    "## Encoding"
   ]
  },
  {
   "cell_type": "code",
   "execution_count": null,
   "id": "de5cfab0-3f8c-4ee7-930d-276673784f1c",
   "metadata": {},
   "outputs": [],
   "source": [
    "# ? maybe better to NOT use zeroes? (0)\n",
    "\n",
    "df.loc[:,'AgeGroup'] = df.loc[:,'AgeGroup'].replace({'18-25': 0,\n",
    "                                                     '26-35': 1,\n",
    "                                                     '36-45': 2,\n",
    "                                                     '46-55': 3,\n",
    "                                                     '55+': 4\n",
    "                                                    })\n",
    "df.loc[:,'Attrition'] = df.loc[:,'Attrition'].replace({'Yes': 1, 'No': 0})\n",
    "df.loc[:,'BusinessTravel'] = df.loc[:,'BusinessTravel'].replace({'Non-Travel': 0,\n",
    "                                                                 'Travel_Rarely': 1,\n",
    "                                                                 'TravelRarely': 1,\n",
    "                                                                 'Travel_Frequently': 2\n",
    "                                                                })\n",
    "df.loc[:,'Gender'] = df.loc[:,'Gender'].replace({'Male': 1, 'Female': 0})\n",
    "df.loc[:,'MaritalStatus'] = df.loc[:,'MaritalStatus'].replace({'Single': 0,\n",
    "                                                               'Divorced': 1,\n",
    "                                                               'Married': 2\n",
    "                                                              })\n",
    "df.loc[:,'SalarySlab'] = df.loc[:,'SalarySlab'].replace({'Upto 5k': 0,\n",
    "                                                         '5k-10k': 1,\n",
    "                                                         '10k-15k': 2,\n",
    "                                                         '15k+': 3})\n",
    "df.loc[:,'OverTime'] = df.loc[:,'OverTime'].replace({'Yes': 1, 'No': 0})\n",
    "df.loc[:,'PerformanceRating'] = df.loc[:,'PerformanceRating'].replace({3: 0, 4: 1})"
   ]
  },
  {
   "cell_type": "markdown",
   "id": "8e54a4c5-3d74-494a-9adf-5ee44ff476c8",
   "metadata": {},
   "source": [
    "## Feature candidates for predictions:\n",
    "### Continuous:\n",
    "'Age', 'MonthlyIncome', 'TotalWorkingYears', 'YearsInCurrentRole', 'YearWithCurrManager'\n",
    "\n",
    "**Potentially:** 'YearsSinceLastPromotion' \n",
    "\n",
    "**Maybe:** 'DistanceFromHome', 'YearsAtCompany'\n",
    "\n",
    "### Categorical:\n",
    "'AgeGroup', 'Overtime', 'EnvironmentSatisfaction', 'BusinessTravel', 'JobLevel',\n",
    "'SalarySlab', 'NumCompaniesWorked', 'MaritalStatus'\n",
    "\n",
    "'Age', 'Overtime', 'MaritalStatus' seem to be the best candidates."
   ]
  },
  {
   "cell_type": "markdown",
   "id": "7dca8210-99f4-4db4-94d3-3daf1f505b21",
   "metadata": {},
   "source": [
    "# Transformers Tests\n",
    "### - PCA\n",
    "### - poly\n",
    "### - function transformer"
   ]
  },
  {
   "cell_type": "markdown",
   "id": "6b94b98c-4533-4669-97d0-ce78e10d1c3c",
   "metadata": {},
   "source": [
    "## Import modules"
   ]
  },
  {
   "cell_type": "code",
   "execution_count": 1,
   "id": "cba259e2-20d1-4eb1-8e4c-033922aca151",
   "metadata": {
    "tags": []
   },
   "outputs": [],
   "source": [
    "# - - - - - - - - - - - - - - - - - - - - - - - - - - - - - - - -\n",
    "# fundamentals\n",
    "\n",
    "from importlib import reload\n",
    "\n",
    "# - - - - - - - - - - - - - - - - - - - - - - - - - - - - - - - -\n",
    "# global settings - global_settings.py\n",
    "\n",
    "if 'global_settings' in dir():\n",
    "    del global_settings\n",
    "\n",
    "from global_settings import *\n",
    "import global_settings\n",
    "global_settings = reload(global_settings)\n",
    "\n",
    "# - - - - - - - - - - - - - - - - - - - - - - - - - - - - - - - -\n",
    "# custom functions collection - functions.py\n",
    "\n",
    "if 'functions' in dir():\n",
    "    del functions\n",
    "\n",
    "from functions import *\n",
    "import functions\n",
    "functions = reload(functions)\n",
    "\n",
    "# - - - - - - - - - - - - - - - - - - - - - - - - - - - - - - - -\n",
    "# local variables\n",
    "\n",
    "debug_mode = False\n",
    "\n",
    "# - - - - - - - - - - - - - - - - - - - - - - - - - - - - - - - -\n",
    "# Modelling-related Modules\n",
    "# - - - - - - - - - - - - - - - - - - - - - - - - - - - - - - - -\n",
    "# preprocessing\n",
    "\n",
    "from sklearn.model_selection import train_test_split\n",
    "from sklearn.preprocessing import OneHotEncoder, StandardScaler, FunctionTransformer\n",
    "from sklearn.decomposition import PCA\n",
    "from sklearn.impute import KNNImputer, SimpleImputer\n",
    "from sklearn.feature_selection import SelectPercentile\n",
    "\n",
    "# - - - - - - - - - - - - - - - - - - - - - - - - - - - - - - - -\n",
    "# pipeline\n",
    "\n",
    "from sklearn.compose import ColumnTransformer\n",
    "from sklearn.pipeline import Pipeline, make_pipeline\n",
    "\n",
    "# - - - - - - - - - - - - - - - - - - - - - - - - - - - - - - - -\n",
    "# Evaluation, optimization, metrics\n",
    "\n",
    "from sklearn.metrics import recall_score, precision_score, precision_recall_curve, f1_score,\\\n",
    "roc_auc_score, classification_report, confusion_matrix, fbeta_score, make_scorer\n",
    "from sklearn.model_selection import GridSearchCV, cross_val_score\n",
    "from sklearn.inspection import permutation_importance\n",
    "\n",
    "# - - - - - - - - - - - - - - - - - - - - - - - - - - - - - - - -\n",
    "# model\n",
    "\n",
    "from sklearn.linear_model import LogisticRegression"
   ]
  },
  {
   "cell_type": "markdown",
   "id": "91ba5634-b0ed-4fc1-8f7d-1f1f018e818d",
   "metadata": {
    "tags": []
   },
   "source": [
    "## Prepare F2 metric"
   ]
  },
  {
   "cell_type": "code",
   "execution_count": 8,
   "id": "2a11451e-01ec-4a9b-a90c-242efb455200",
   "metadata": {
    "tags": []
   },
   "outputs": [],
   "source": [
    "from sklearn.metrics import make_scorer,fbeta_score\n",
    "\n",
    "def f2_score(y_true, y_pred):\n",
    "    score = fbeta_score(y_true, y_pred, beta=2)\n",
    "    return score\n",
    "\n",
    "def f2():\n",
    "    return make_scorer(f2_score)"
   ]
  },
  {
   "cell_type": "markdown",
   "id": "fb5140b6-a23d-4c55-b8e3-130c4ece287a",
   "metadata": {},
   "source": [
    "## Load, clean and resample the data"
   ]
  },
  {
   "cell_type": "code",
   "execution_count": 9,
   "id": "15163faf-adb0-4014-9c5d-33a9f4a9bc90",
   "metadata": {
    "tags": []
   },
   "outputs": [],
   "source": [
    "raw_data = pd.read_csv('../Data/HR_Analytics.csv')"
   ]
  },
  {
   "cell_type": "code",
   "execution_count": 10,
   "id": "4b4d0be2-2b03-4834-8b4a-64317cf9899b",
   "metadata": {
    "tags": []
   },
   "outputs": [],
   "source": [
    "def sampling_data(DF):\n",
    "    '''Only to be performed on the train-sets. Handles the outliers, encodes target vector and removes duplicates.\n",
    "    '''\n",
    "    DF.drop_duplicates(inplace=True)\n",
    "    # not sure if it's a good practice to do it on the test set, maybe after split?\n",
    "    # if happens after the split - requires reindexing of the target vector\n",
    "    \n",
    "    # - - - - - - - - - - - - - - - - - - - - - - - - - - - - - -\n",
    "    # Attrition label encoding\n",
    "    DF.loc[:,('Attrition')].replace({'Yes': 1, 'No': 0}, inplace=True)\n",
    "    \n",
    "    return DF\n",
    "\n",
    "data = sampling_data(raw_data)"
   ]
  },
  {
   "cell_type": "code",
   "execution_count": 11,
   "id": "d1f3fe21-0c78-41ef-bd4b-e1c33ce80e51",
   "metadata": {
    "tags": []
   },
   "outputs": [
    {
     "name": "stdout",
     "output_type": "stream",
     "text": [
      "Duplicated observations: 0\n"
     ]
    }
   ],
   "source": [
    "print('Duplicated observations: {}'.format(data.duplicated().sum()))"
   ]
  },
  {
   "cell_type": "code",
   "execution_count": 12,
   "id": "73a6b495-d852-4273-853a-23458711c635",
   "metadata": {
    "tags": []
   },
   "outputs": [],
   "source": [
    "# - - - - - - - - - - - - - - - - - - - - - - - - - - - - - - - -\n",
    "# train-test split\n",
    "\n",
    "Xtrain, Xtest, ytrain, ytest = train_test_split(data.drop('Attrition', axis=1), \n",
    "                                                data['Attrition'], \n",
    "                                                test_size=0.2, \n",
    "                                                shuffle=True,\n",
    "                                                stratify=data['Attrition'], \n",
    "                                                random_state=random_seed_split)\n",
    "                                                # is stratify practically like undersampling or keeps the original proportion?"
   ]
  },
  {
   "cell_type": "code",
   "execution_count": 13,
   "id": "5c87664c-e593-425b-b3e6-f4aa4334013c",
   "metadata": {
    "tags": []
   },
   "outputs": [],
   "source": [
    "# Assign columns to column groups\n",
    "catcols = ['AgeGroup', 'SalarySlab', 'Department', 'EducationField', 'JobRole', 'MaritalStatus']\n",
    "numcols = ['Education', 'EnvironmentSatisfaction', 'BusinessTravel', 'JobInvolvement', 'JobLevel', 'JobSatisfaction', 'PerformanceRating', \n",
    "           'RelationshipSatisfaction', 'StockOptionLevel', 'WorkLifeBalance', 'OverTime', 'Gender', 'Age', 'DailyRate', 'DistanceFromHome', \n",
    "           'HourlyRate', 'MonthlyIncome', 'MonthlyRate', 'NumCompaniesWorked', 'PercentSalaryHike', 'TotalWorkingYears', \n",
    "           'TrainingTimesLastYear', 'YearsAtCompany', 'YearsInCurrentRole', 'YearsSinceLastPromotion', 'YearsWithCurrManager']\n",
    "delcols = ['EmpID', 'EmployeeNumber']\n",
    "\n",
    "# - - - - - - - - - - - - - - - - - - - - - - - - - - - - - - - -\n",
    "# clean data\n",
    "\n",
    "def clean_data(DF, delcols=delcols):\n",
    "    # df = DF.drop_duplicates()  \n",
    "    df = DF.copy()\n",
    "    \n",
    "    # - - - - - - - - - - - - - - - - - - - - - - - - - - - - - -\n",
    "    # drop columns with 1 unique value (std=0)\n",
    "    # practically: 'EmployeeCount', 'StandardHours', 'Over18'\n",
    "    \n",
    "    mask_single_value = list(df.nunique().index.values[df.nunique() == 1])\n",
    "    df = df.loc[:, ~df.columns.isin(mask_single_value)]\n",
    "    \n",
    "    # - - - - - - - - - - - - - - - - - - - - - - - - - - - - - -\n",
    "    # drop prediction-useless columns\n",
    "    \n",
    "    for column in delcols:\n",
    "        if column in df.columns.values:\n",
    "            df = df.drop(column, axis=1)\n",
    "        \n",
    "    # - - - - - - - - - - - - - - - - - - - - - - - - - - - - - -\n",
    "    # categ. - label encoding\n",
    "    \n",
    "    # df['AgeGroup'].replace({'18-25': 0,\n",
    "    #                         '26-35': 1,\n",
    "    #                         '36-45': 2,\n",
    "    #                         '46-55': 3,\n",
    "    #                         '55+': 4\n",
    "    #                        }, inplace=True)\n",
    "    # df['BusinessTravel'].replace({'Non-Travel': 0,\n",
    "    #                                'Travel_Rarely': 1,\n",
    "    #                                'TravelRarely': 1,\n",
    "    #                                'Travel_Frequently': 2\n",
    "    #                               }, inplace=True)\n",
    "    # df['Gender'].replace({'Male': 1, 'Female': 0}, inplace=True)   # potentially better to one-hot encode\n",
    "    # df['MaritalStatus'].replace({'Single': 0,\n",
    "    #                              'Divorced': 1,\n",
    "    #                              'Married': 2\n",
    "    #                             }, inplace=True)\n",
    "    # df['SalarySlab'].replace({'Upto 5k': 0,\n",
    "    #                           '5k-10k': 1,\n",
    "    #                           '10k-15k': 2,\n",
    "    #                           '15k+': 3}, inplace=True)\n",
    "    # df['OverTime'].replace({'Yes': 1, 'No': 0}, inplace=True)\n",
    "    # df['PerformanceRating'].replace({3: 0, 4: 1}, inplace=True)\n",
    "    \n",
    "    # - - - - - - - - - - - - - - - - - - - - - - - - - - - - - -\n",
    "    # Encoding as in SVC\n",
    "    \n",
    "    df = df.replace({\"Yes\": 1,\n",
    "                     \"No\": 0,\n",
    "                     \"Non-Travel\": 0,\n",
    "                     \"TravelRarely\": 1,\n",
    "                     \"Travel_Rarely\": 1,\n",
    "                     \"Travel_Frequently\": 2})\n",
    "    \n",
    "    # - - - - - - - - - - - - - - - - - - - - - - - - - - - - - -\n",
    "    # NaN handling: fillna with median (temp)\n",
    "        \n",
    "    #df = df.dropna(axis=0)\n",
    "    df = df.fillna(value={'YearsWithCurrManager': df.loc[:,'YearsWithCurrManager'].median()})\n",
    "    \n",
    "    # - - - - - - - - - - - - - - - - - - - - - - - - - - - - - -\n",
    "    # Data Types Conversion\n",
    "    \n",
    "    col_dtypes = {'YearsWithCurrManager': 'int8',\n",
    "                  # 'Department': 'category',\n",
    "                  # 'EducationField': 'category',\n",
    "                  # 'JobRole': 'category'\n",
    "                 }\n",
    "\n",
    "    for key in col_dtypes:\n",
    "        df[key] = df[key].astype(col_dtypes[key])\n",
    "    \n",
    "    return df"
   ]
  },
  {
   "cell_type": "code",
   "execution_count": 14,
   "id": "70583e96-65cc-4725-b8c4-37967eb8f96f",
   "metadata": {
    "tags": []
   },
   "outputs": [],
   "source": [
    "Xtrain = clean_data(Xtrain)\n",
    "Xtest = clean_data(Xtest)"
   ]
  },
  {
   "cell_type": "markdown",
   "id": "49a3ca7b-6c98-4823-831b-d85a684b5b6f",
   "metadata": {},
   "source": [
    "## Importance threshold"
   ]
  },
  {
   "cell_type": "code",
   "execution_count": 29,
   "id": "67eaff11-0ba5-4315-9659-0d7c2b1f88d7",
   "metadata": {
    "tags": []
   },
   "outputs": [
    {
     "name": "stdout",
     "output_type": "stream",
     "text": [
      "Num of features selected: 25 out of 32\n",
      "- - - - - - - - - - - - - - - - - - - - - - - - - - - - - - - - - - - - - - - - \n",
      "['Age', 'AgeGroup', 'BusinessTravel', 'DistanceFromHome', 'EducationField', 'EnvironmentSatisfaction', 'Gender', 'JobInvolvement', 'JobRole', 'JobSatisfaction', 'MaritalStatus', 'MonthlyIncome', 'SalarySlab', 'NumCompaniesWorked', 'OverTime', 'PercentSalaryHike', 'RelationshipSatisfaction', 'StockOptionLevel', 'TotalWorkingYears', 'TrainingTimesLastYear', 'WorkLifeBalance', 'YearsAtCompany', 'YearsInCurrentRole', 'YearsSinceLastPromotion', 'YearsWithCurrManager']\n"
     ]
    }
   ],
   "source": [
    "importance_threshold = 0.002\n",
    "selected_features = []\n",
    "\n",
    "for feature in feature_importance_list:\n",
    "    if feature[1] > importance_threshold:\n",
    "        selected_features.append(feature[0])\n",
    "\n",
    "print('Num of features selected: {} out of {}'.format(len(selected_features), len(feature_importance_list)))\n",
    "f_divline(False, False)\n",
    "print(selected_features)"
   ]
  },
  {
   "cell_type": "code",
   "execution_count": 30,
   "id": "96d44fc1-6ab6-47e5-8a05-4dad64c58998",
   "metadata": {
    "tags": []
   },
   "outputs": [
    {
     "name": "stdout",
     "output_type": "stream",
     "text": [
      "24\n"
     ]
    }
   ],
   "source": [
    "# additional features to be excluded\n",
    "exclude_features = ['YearsSinceLastPromotion']\n",
    "\n",
    "for feature in exclude_features:\n",
    "    if feature in selected_features:\n",
    "        selected_features.remove(feature)\n",
    "        \n",
    "print(len(selected_features))"
   ]
  },
  {
   "cell_type": "markdown",
   "id": "219bf586-bd85-4ff6-87c5-06b14da8d8c2",
   "metadata": {},
   "source": [
    "### Preprocessing"
   ]
  },
  {
   "cell_type": "code",
   "execution_count": 31,
   "id": "0ab71d87-f5bf-4f19-a994-f2a903cd1767",
   "metadata": {
    "tags": []
   },
   "outputs": [
    {
     "name": "stdout",
     "output_type": "stream",
     "text": [
      "Num of features in Xtrain:\t24\n",
      "Num of features in Xtest:\t24\n"
     ]
    }
   ],
   "source": [
    "Xtrain_feat_sel = Xtrain.copy()\n",
    "Xtest_feat_sel = Xtest.copy()\n",
    "\n",
    "Xtrain_feat_sel = Xtrain_feat_sel.loc[:, selected_features]\n",
    "Xtest_feat_sel = Xtest_feat_sel.loc[:, selected_features]\n",
    "\n",
    "print('Num of features in Xtrain:\\t{}'.format(Xtrain_feat_sel.shape[1]))\n",
    "print('Num of features in Xtest:\\t{}'.format(Xtest_feat_sel.shape[1]))\n",
    "\n",
    "# - - - - - - - - - - - - - - - - - - - - - - - - - - - - - - - -\n",
    "# Define num_cols and cat_cols\n",
    "\n",
    "num_cols = list(Xtrain_feat_sel.select_dtypes(include='number').columns.values)\n",
    "# cat_cols = list(Xtrain_feat_sel.select_dtypes(include='category').columns.values)\n",
    "cat_cols = list(Xtrain_feat_sel.select_dtypes(include='object').columns.values)"
   ]
  },
  {
   "cell_type": "code",
   "execution_count": 32,
   "id": "ebf02487-479b-4c74-81bc-e74e0de47484",
   "metadata": {
    "tags": []
   },
   "outputs": [],
   "source": [
    "# - - - - - - - - - - - - - - - - - - - - - - - - - - - - - - - -\n",
    "# main pipeline\n",
    "\n",
    "encoder = OneHotEncoder(handle_unknown='ignore', sparse_output=False)\n",
    "knnimp = KNNImputer(add_indicator=True)\n",
    "simpimp = SimpleImputer(strategy='median')\n",
    "std = StandardScaler()\n",
    "\n",
    "imputer = simpimp\n",
    "\n",
    "catpipe = make_pipeline(encoder)\n",
    "numpipe = Pipeline([('imputer', simpimp),\n",
    "                    ('scaler', std)])\n",
    "\n",
    "coltrans = ColumnTransformer(transformers=[('encoder', encoder, cat_cols),\n",
    "                                           ('numpipe', numpipe, num_cols)], remainder='drop')\n",
    "selection = SelectPercentile(percentile=90) # percentile=10"
   ]
  },
  {
   "cell_type": "markdown",
   "id": "c2d6c085-e046-4603-a87e-94dd97af41c9",
   "metadata": {},
   "source": [
    "### Instantiate classifier"
   ]
  },
  {
   "cell_type": "code",
   "execution_count": 33,
   "id": "807c9a32-d874-40f5-bc52-4e85408758e5",
   "metadata": {
    "tags": []
   },
   "outputs": [],
   "source": [
    "model_name = 'Logistic Regression'\n",
    "log = LogisticRegression(solver='saga',  \n",
    "                         class_weight='balanced',\n",
    "                         max_iter=int(1e4),\n",
    "                         random_state=random_seed)\n",
    "\n",
    "# check:\n",
    "# solver='liblinear'"
   ]
  },
  {
   "cell_type": "markdown",
   "id": "052f1edd-aea0-46ab-b1dc-2dba91ae4acc",
   "metadata": {},
   "source": [
    "### Set search space"
   ]
  },
  {
   "cell_type": "code",
   "execution_count": 34,
   "id": "ccc39dac-6c2c-4895-a447-4c34cc1e5a66",
   "metadata": {
    "tags": []
   },
   "outputs": [
    {
     "name": "stdout",
     "output_type": "stream",
     "text": [
      "[1.00000000e-03 2.89426612e-03 8.37677640e-03 2.42446202e-02\n",
      " 7.01703829e-02 2.03091762e-01 5.87801607e-01 1.70125428e+00\n",
      " 4.92388263e+00 1.42510267e+01 4.12462638e+01 1.19377664e+02\n",
      " 3.45510729e+02 1.00000000e+03]\n"
     ]
    }
   ],
   "source": [
    "# np.set_printoptions(suppress=True) # to avoid scientific notation\n",
    "# temp_C = np.linspace(start=0.01, stop=1, num=10, dtype='float')\n",
    "# with logistic reg. you want to try the reg. values with increasing steps, not jump straight from the \n",
    "# little regul. to a lot\n",
    "\n",
    "temp_C = np.geomspace(start=0.001, stop=1000, num=14, dtype='float')\n",
    "print(temp_C)"
   ]
  },
  {
   "cell_type": "code",
   "execution_count": 36,
   "id": "e45f0ab5-4f27-4fac-9fef-d69b4221c42c",
   "metadata": {
    "tags": []
   },
   "outputs": [],
   "source": [
    "search_space = {'estimator__C': np.geomspace(start=0.0185, stop=0.0189, num=20, dtype='float'),\n",
    "                'estimator__penalty': ['l1', 'l2'],  # l1 - lasso; l2 - ridge\n",
    "                'estimator__solver': ['saga', 'liblinear']\n",
    "                #'selector__percentile': [90]\n",
    "                #'prepper__numpipe__imputer__strategy': ['mean', 'median']\n",
    "               }\n",
    "# start=0.0723, stop=0.0725\n",
    "# start=0.08, stop=0.085\n",
    "# np.geomspace(start=0.0041, stop=0.00416, num=20, dtype='float')  # best for 'saga'\n",
    "# np.geomspace(start=0.21, stop=0.3, num=20, dtype='float')  # beginning of tunning of 'liblinear' 0.001 1000"
   ]
  },
  {
   "cell_type": "markdown",
   "id": "1151c7b5-8cb4-46f6-87fd-2daae1dd7b59",
   "metadata": {},
   "source": [
    "## Pipeline finalization and grid search"
   ]
  },
  {
   "cell_type": "code",
   "execution_count": 37,
   "id": "4bb2a638-ab46-49af-90ef-553c774ee6f7",
   "metadata": {
    "tags": []
   },
   "outputs": [
    {
     "name": "stdout",
     "output_type": "stream",
     "text": [
      "Fitting 6 folds for each of 80 candidates, totalling 480 fits\n",
      "{'estimator__C': 0.018541703462168678, 'estimator__penalty': 'l2', 'estimator__solver': 'saga'}\n",
      "Best F2 score: 63.09%\n",
      "\n",
      "- - - - - - - - - - - - - - - - - - - - - - - - - - - - - - - - - - - - - - - - \n",
      "\n",
      "F2 score on test set:\t72.44%\n",
      "Recall on test set:\t87.23%\n",
      "Precision on test set:\t43.16%\n"
     ]
    }
   ],
   "source": [
    "pipe_log = Pipeline([('preproc', coltrans),\n",
    "                     ('selector', selection),\n",
    "                     ('estimator', log)])\n",
    "\n",
    "pipe_log = GridSearchCV(estimator=pipe_log,\n",
    "                        param_grid=search_space,\n",
    "                        scoring=f2(),\n",
    "                        cv=6,\n",
    "                        verbose=3,\n",
    "                        n_jobs=-1)\n",
    "pipe_log.fit(Xtrain_feat_sel, ytrain)\n",
    "#model_svc = pipe_svc.best_estimator_\n",
    "#print(grid_svc.best_estimator_)\n",
    "\n",
    "print(pipe_log.best_params_)\n",
    "print(f'Best F2 score: {pipe_log.best_score_.mean():.2%}')\n",
    "f_divline()\n",
    "\n",
    "# - - - - - - - - - - - - - - - - - - - - - - - - - - - - - - - -\n",
    "# prediction on the test set\n",
    "\n",
    "ypred = pipe_log.best_estimator_.predict(Xtest_feat_sel)\n",
    "\n",
    "print(f'F2 score on test set:\\t{f2_score(ytest, ypred):.2%}')\n",
    "print(f'Recall on test set:\\t{recall_score(ytest, ypred):.2%}')\n",
    "print(f'Precision on test set:\\t{precision_score(ytest, ypred):.2%}')"
   ]
  },
  {
   "cell_type": "code",
   "execution_count": 38,
   "id": "f812a276-1080-4396-8d87-2507f055d0db",
   "metadata": {
    "tags": []
   },
   "outputs": [
    {
     "data": {
      "text/html": [
       "<style>#sk-container-id-2 {color: black;background-color: white;}#sk-container-id-2 pre{padding: 0;}#sk-container-id-2 div.sk-toggleable {background-color: white;}#sk-container-id-2 label.sk-toggleable__label {cursor: pointer;display: block;width: 100%;margin-bottom: 0;padding: 0.3em;box-sizing: border-box;text-align: center;}#sk-container-id-2 label.sk-toggleable__label-arrow:before {content: \"▸\";float: left;margin-right: 0.25em;color: #696969;}#sk-container-id-2 label.sk-toggleable__label-arrow:hover:before {color: black;}#sk-container-id-2 div.sk-estimator:hover label.sk-toggleable__label-arrow:before {color: black;}#sk-container-id-2 div.sk-toggleable__content {max-height: 0;max-width: 0;overflow: hidden;text-align: left;background-color: #f0f8ff;}#sk-container-id-2 div.sk-toggleable__content pre {margin: 0.2em;color: black;border-radius: 0.25em;background-color: #f0f8ff;}#sk-container-id-2 input.sk-toggleable__control:checked~div.sk-toggleable__content {max-height: 200px;max-width: 100%;overflow: auto;}#sk-container-id-2 input.sk-toggleable__control:checked~label.sk-toggleable__label-arrow:before {content: \"▾\";}#sk-container-id-2 div.sk-estimator input.sk-toggleable__control:checked~label.sk-toggleable__label {background-color: #d4ebff;}#sk-container-id-2 div.sk-label input.sk-toggleable__control:checked~label.sk-toggleable__label {background-color: #d4ebff;}#sk-container-id-2 input.sk-hidden--visually {border: 0;clip: rect(1px 1px 1px 1px);clip: rect(1px, 1px, 1px, 1px);height: 1px;margin: -1px;overflow: hidden;padding: 0;position: absolute;width: 1px;}#sk-container-id-2 div.sk-estimator {font-family: monospace;background-color: #f0f8ff;border: 1px dotted black;border-radius: 0.25em;box-sizing: border-box;margin-bottom: 0.5em;}#sk-container-id-2 div.sk-estimator:hover {background-color: #d4ebff;}#sk-container-id-2 div.sk-parallel-item::after {content: \"\";width: 100%;border-bottom: 1px solid gray;flex-grow: 1;}#sk-container-id-2 div.sk-label:hover label.sk-toggleable__label {background-color: #d4ebff;}#sk-container-id-2 div.sk-serial::before {content: \"\";position: absolute;border-left: 1px solid gray;box-sizing: border-box;top: 0;bottom: 0;left: 50%;z-index: 0;}#sk-container-id-2 div.sk-serial {display: flex;flex-direction: column;align-items: center;background-color: white;padding-right: 0.2em;padding-left: 0.2em;position: relative;}#sk-container-id-2 div.sk-item {position: relative;z-index: 1;}#sk-container-id-2 div.sk-parallel {display: flex;align-items: stretch;justify-content: center;background-color: white;position: relative;}#sk-container-id-2 div.sk-item::before, #sk-container-id-2 div.sk-parallel-item::before {content: \"\";position: absolute;border-left: 1px solid gray;box-sizing: border-box;top: 0;bottom: 0;left: 50%;z-index: -1;}#sk-container-id-2 div.sk-parallel-item {display: flex;flex-direction: column;z-index: 1;position: relative;background-color: white;}#sk-container-id-2 div.sk-parallel-item:first-child::after {align-self: flex-end;width: 50%;}#sk-container-id-2 div.sk-parallel-item:last-child::after {align-self: flex-start;width: 50%;}#sk-container-id-2 div.sk-parallel-item:only-child::after {width: 0;}#sk-container-id-2 div.sk-dashed-wrapped {border: 1px dashed gray;margin: 0 0.4em 0.5em 0.4em;box-sizing: border-box;padding-bottom: 0.4em;background-color: white;}#sk-container-id-2 div.sk-label label {font-family: monospace;font-weight: bold;display: inline-block;line-height: 1.2em;}#sk-container-id-2 div.sk-label-container {text-align: center;}#sk-container-id-2 div.sk-container {/* jupyter's `normalize.less` sets `[hidden] { display: none; }` but bootstrap.min.css set `[hidden] { display: none !important; }` so we also need the `!important` here to be able to override the default hidden behavior on the sphinx rendered scikit-learn.org. See: https://github.com/scikit-learn/scikit-learn/issues/21755 */display: inline-block !important;position: relative;}#sk-container-id-2 div.sk-text-repr-fallback {display: none;}</style><div id=\"sk-container-id-2\" class=\"sk-top-container\"><div class=\"sk-text-repr-fallback\"><pre>LogisticRegression(class_weight=&#x27;balanced&#x27;, max_iter=10000, random_state=42,\n",
       "                   solver=&#x27;saga&#x27;)</pre><b>In a Jupyter environment, please rerun this cell to show the HTML representation or trust the notebook. <br />On GitHub, the HTML representation is unable to render, please try loading this page with nbviewer.org.</b></div><div class=\"sk-container\" hidden><div class=\"sk-item\"><div class=\"sk-estimator sk-toggleable\"><input class=\"sk-toggleable__control sk-hidden--visually\" id=\"sk-estimator-id-2\" type=\"checkbox\" checked><label for=\"sk-estimator-id-2\" class=\"sk-toggleable__label sk-toggleable__label-arrow\">LogisticRegression</label><div class=\"sk-toggleable__content\"><pre>LogisticRegression(class_weight=&#x27;balanced&#x27;, max_iter=10000, random_state=42,\n",
       "                   solver=&#x27;saga&#x27;)</pre></div></div></div></div></div>"
      ],
      "text/plain": [
       "LogisticRegression(class_weight='balanced', max_iter=10000, random_state=42,\n",
       "                   solver='saga')"
      ]
     },
     "metadata": {},
     "output_type": "display_data"
    },
    {
     "name": "stdout",
     "output_type": "stream",
     "text": [
      "Best parameters:\n",
      "\n",
      "{'estimator__C': 0.018541703462168678, 'estimator__penalty': 'l2', 'estimator__solver': 'saga'}\n",
      "\n",
      "- - - - - - - - - - - - - - - - - - - - - - - - - - - - - - - - - - - - - - - - \n",
      "\n",
      "              precision    recall  f1-score   support\n",
      "\n",
      "  Stayed (0)     0.9700    0.7823    0.8661       248\n",
      "    Left (1)     0.4316    0.8723    0.5775        47\n",
      "\n",
      "    accuracy                         0.7966       295\n",
      "   macro avg     0.7008    0.8273    0.7218       295\n",
      "weighted avg     0.8842    0.7966    0.8201       295\n",
      "\n",
      "\n",
      "- - - - - - - - - - - - - - - - - - - - - - - - - - - - - - - - - - - - - - - - \n",
      "\n"
     ]
    },
    {
     "data": {
      "image/png": "[encoded data removed]",
      "text/plain": [
       "<Figure size 600x480 with 2 Axes>"
      ]
     },
     "metadata": {},
     "output_type": "display_data"
    }
   ],
   "source": [
    "labels = ['Stayed (0)', 'Left (1)']\n",
    "\n",
    "# - - - - - - - - - - - - - - - - - - - - - - - - - - - - - - - -\n",
    "# classification report\n",
    "\n",
    "display(log)\n",
    "print('Best parameters:\\n\\n{}'.format(pipe_log.best_params_))\n",
    "f_divline()\n",
    "print(classification_report(ytest, ypred, target_names=labels, digits=4))\n",
    "f_divline()\n",
    "\n",
    "# - - - - - - - - - - - - - - - - - - - - - - - - - - - - - - - -\n",
    "# confusion matrix\n",
    "\n",
    "plt.subplots(figsize=(6,4.8))\n",
    "\n",
    "confusion_matrix_base = confusion_matrix(ytest, ypred)\n",
    "conf_plot = sns.heatmap(confusion_matrix_base, annot=True, fmt='d')\n",
    "\n",
    "plt.title('Confusion matrix of the classifier')\n",
    "conf_plot.set_xticklabels(labels)\n",
    "conf_plot.set_yticklabels(labels)\n",
    "plt.xlabel('Predicted')\n",
    "plt.ylabel('True');"
   ]
  },
  {
   "cell_type": "code",
   "execution_count": 39,
   "id": "f6e3e27e-f045-4160-a424-96eb0bffbe41",
   "metadata": {
    "tags": []
   },
   "outputs": [
    {
     "data": {
      "image/png": "[encoded data removed]",
      "text/plain": [
       "<Figure size 600x600 with 1 Axes>"
      ]
     },
     "metadata": {},
     "output_type": "display_data"
    }
   ],
   "source": [
    "# - - - - - - - - - - - - - - - - - - - - - - - - - - - - - - - -\n",
    "# ROC plot\n",
    "\n",
    "graph_roc = plot_roc(pipe_log, Xtest_feat_sel, ytest)"
   ]
  },
  {
   "cell_type": "code",
   "execution_count": null,
   "id": "3d9b3dfb-e671-4a48-9a24-6c5ca6b76194",
   "metadata": {},
   "outputs": [],
   "source": [
    "# TEMP - visualization tweaks\n",
    "\n",
    "yscores = pipe.predict_proba(Xtest)[:,1]\n",
    "fpr, tpr, _ = roc_curve(ytest, yscores)\n",
    "roc_auc = auc(fpr, tpr)\n",
    "\n",
    "plt.figure(figsize=(6, 6))\n",
    "plt.plot(fpr, tpr, color=color_palette[1], lw=1.2, label='ROC curve (area = {:.2f})'.format(roc_auc))\n",
    "plt.plot([0, 1], [0, 1], color='navy', lw=1.2, linestyle=(0, (8,10)))\n",
    "plt.xlabel('False Positive Rate')\n",
    "plt.ylabel('True Positive Rate')\n",
    "plt.title('Receiver Operating Characteristic (ROC) Curve')\n",
    "plt.legend(loc='lower right')"
   ]
  },
  {
   "cell_type": "code",
   "execution_count": 40,
   "id": "6d99a5bc-a4c5-478b-b5f1-722ac5446e0f",
   "metadata": {
    "tags": []
   },
   "outputs": [
    {
     "data": {
      "text/html": [
       "<div>\n",
       "<style scoped>\n",
       "    .dataframe tbody tr th:only-of-type {\n",
       "        vertical-align: middle;\n",
       "    }\n",
       "\n",
       "    .dataframe tbody tr th {\n",
       "        vertical-align: top;\n",
       "    }\n",
       "\n",
       "    .dataframe thead th {\n",
       "        text-align: right;\n",
       "    }\n",
       "</style>\n",
       "<table border=\"1\" class=\"dataframe\">\n",
       "  <thead>\n",
       "    <tr style=\"text-align: right;\">\n",
       "      <th></th>\n",
       "      <th>50</th>\n",
       "      <th>54</th>\n",
       "      <th>34</th>\n",
       "      <th>26</th>\n",
       "      <th>38</th>\n",
       "      <th>74</th>\n",
       "      <th>22</th>\n",
       "      <th>42</th>\n",
       "    </tr>\n",
       "  </thead>\n",
       "  <tbody>\n",
       "    <tr>\n",
       "      <th>mean_fit_time</th>\n",
       "      <td>0.01081</td>\n",
       "      <td>0.01163</td>\n",
       "      <td>0.01062</td>\n",
       "      <td>0.01032</td>\n",
       "      <td>0.01081</td>\n",
       "      <td>0.01101</td>\n",
       "      <td>0.01100</td>\n",
       "      <td>0.00955</td>\n",
       "    </tr>\n",
       "    <tr>\n",
       "      <th>std_fit_time</th>\n",
       "      <td>0.00262</td>\n",
       "      <td>0.00308</td>\n",
       "      <td>0.00247</td>\n",
       "      <td>0.00150</td>\n",
       "      <td>0.00184</td>\n",
       "      <td>0.00214</td>\n",
       "      <td>0.00226</td>\n",
       "      <td>0.00033</td>\n",
       "    </tr>\n",
       "    <tr>\n",
       "      <th>mean_score_time</th>\n",
       "      <td>0.00212</td>\n",
       "      <td>0.00224</td>\n",
       "      <td>0.00208</td>\n",
       "      <td>0.00218</td>\n",
       "      <td>0.00268</td>\n",
       "      <td>0.00287</td>\n",
       "      <td>0.00266</td>\n",
       "      <td>0.00211</td>\n",
       "    </tr>\n",
       "    <tr>\n",
       "      <th>std_score_time</th>\n",
       "      <td>0.00012</td>\n",
       "      <td>0.00021</td>\n",
       "      <td>0.00005</td>\n",
       "      <td>0.00015</td>\n",
       "      <td>0.00123</td>\n",
       "      <td>0.00179</td>\n",
       "      <td>0.00068</td>\n",
       "      <td>0.00009</td>\n",
       "    </tr>\n",
       "    <tr>\n",
       "      <th>param_estimator__C</th>\n",
       "      <td>0.01875</td>\n",
       "      <td>0.01877</td>\n",
       "      <td>0.01867</td>\n",
       "      <td>0.01863</td>\n",
       "      <td>0.01869</td>\n",
       "      <td>0.01888</td>\n",
       "      <td>0.01860</td>\n",
       "      <td>0.01871</td>\n",
       "    </tr>\n",
       "    <tr>\n",
       "      <th>param_estimator__penalty</th>\n",
       "      <td>l2</td>\n",
       "      <td>l2</td>\n",
       "      <td>l2</td>\n",
       "      <td>l2</td>\n",
       "      <td>l2</td>\n",
       "      <td>l2</td>\n",
       "      <td>l2</td>\n",
       "      <td>l2</td>\n",
       "    </tr>\n",
       "    <tr>\n",
       "      <th>param_estimator__solver</th>\n",
       "      <td>saga</td>\n",
       "      <td>saga</td>\n",
       "      <td>saga</td>\n",
       "      <td>saga</td>\n",
       "      <td>saga</td>\n",
       "      <td>saga</td>\n",
       "      <td>saga</td>\n",
       "      <td>saga</td>\n",
       "    </tr>\n",
       "    <tr>\n",
       "      <th>params</th>\n",
       "      <td>{'estimator__C': 0.018751635163531444, 'estima...</td>\n",
       "      <td>{'estimator__C': 0.0187727586201518, 'estimato...</td>\n",
       "      <td>{'estimator__C': 0.018667378754809467, 'estima...</td>\n",
       "      <td>{'estimator__C': 0.018625392627414104, 'estima...</td>\n",
       "      <td>{'estimator__C': 0.018688407297755408, 'estima...</td>\n",
       "      <td>{'estimator__C': 0.01887873336901609, 'estimat...</td>\n",
       "      <td>{'estimator__C': 0.01860443498974545, 'estimat...</td>\n",
       "      <td>{'estimator__C': 0.01870945952906297, 'estimat...</td>\n",
       "    </tr>\n",
       "    <tr>\n",
       "      <th>split0_test_score</th>\n",
       "      <td>0.63830</td>\n",
       "      <td>0.63830</td>\n",
       "      <td>0.63830</td>\n",
       "      <td>0.63830</td>\n",
       "      <td>0.63830</td>\n",
       "      <td>0.63830</td>\n",
       "      <td>0.63830</td>\n",
       "      <td>0.63830</td>\n",
       "    </tr>\n",
       "    <tr>\n",
       "      <th>split1_test_score</th>\n",
       "      <td>0.60606</td>\n",
       "      <td>0.60606</td>\n",
       "      <td>0.60606</td>\n",
       "      <td>0.60606</td>\n",
       "      <td>0.60606</td>\n",
       "      <td>0.60606</td>\n",
       "      <td>0.60606</td>\n",
       "      <td>0.60606</td>\n",
       "    </tr>\n",
       "    <tr>\n",
       "      <th>split2_test_score</th>\n",
       "      <td>0.66667</td>\n",
       "      <td>0.66667</td>\n",
       "      <td>0.66667</td>\n",
       "      <td>0.66667</td>\n",
       "      <td>0.66667</td>\n",
       "      <td>0.66667</td>\n",
       "      <td>0.66667</td>\n",
       "      <td>0.66667</td>\n",
       "    </tr>\n",
       "    <tr>\n",
       "      <th>split3_test_score</th>\n",
       "      <td>0.64433</td>\n",
       "      <td>0.64433</td>\n",
       "      <td>0.64433</td>\n",
       "      <td>0.64433</td>\n",
       "      <td>0.64433</td>\n",
       "      <td>0.64433</td>\n",
       "      <td>0.64433</td>\n",
       "      <td>0.64433</td>\n",
       "    </tr>\n",
       "    <tr>\n",
       "      <th>split4_test_score</th>\n",
       "      <td>0.52764</td>\n",
       "      <td>0.52764</td>\n",
       "      <td>0.52764</td>\n",
       "      <td>0.52764</td>\n",
       "      <td>0.52764</td>\n",
       "      <td>0.52764</td>\n",
       "      <td>0.52764</td>\n",
       "      <td>0.52764</td>\n",
       "    </tr>\n",
       "    <tr>\n",
       "      <th>split5_test_score</th>\n",
       "      <td>0.70270</td>\n",
       "      <td>0.70270</td>\n",
       "      <td>0.70270</td>\n",
       "      <td>0.70270</td>\n",
       "      <td>0.70270</td>\n",
       "      <td>0.70270</td>\n",
       "      <td>0.70270</td>\n",
       "      <td>0.70270</td>\n",
       "    </tr>\n",
       "    <tr>\n",
       "      <th>mean_test_score</th>\n",
       "      <td>0.63095</td>\n",
       "      <td>0.63095</td>\n",
       "      <td>0.63095</td>\n",
       "      <td>0.63095</td>\n",
       "      <td>0.63095</td>\n",
       "      <td>0.63095</td>\n",
       "      <td>0.63095</td>\n",
       "      <td>0.63095</td>\n",
       "    </tr>\n",
       "    <tr>\n",
       "      <th>std_test_score</th>\n",
       "      <td>0.05470</td>\n",
       "      <td>0.05470</td>\n",
       "      <td>0.05470</td>\n",
       "      <td>0.05470</td>\n",
       "      <td>0.05470</td>\n",
       "      <td>0.05470</td>\n",
       "      <td>0.05470</td>\n",
       "      <td>0.05470</td>\n",
       "    </tr>\n",
       "    <tr>\n",
       "      <th>rank_test_score</th>\n",
       "      <td>1</td>\n",
       "      <td>1</td>\n",
       "      <td>1</td>\n",
       "      <td>1</td>\n",
       "      <td>1</td>\n",
       "      <td>1</td>\n",
       "      <td>1</td>\n",
       "      <td>1</td>\n",
       "    </tr>\n",
       "  </tbody>\n",
       "</table>\n",
       "</div>"
      ],
      "text/plain": [
       "                                                                         50  \\\n",
       "mean_fit_time                                                       0.01081   \n",
       "std_fit_time                                                        0.00262   \n",
       "mean_score_time                                                     0.00212   \n",
       "std_score_time                                                      0.00012   \n",
       "param_estimator__C                                                  0.01875   \n",
       "param_estimator__penalty                                                 l2   \n",
       "param_estimator__solver                                                saga   \n",
       "params                    {'estimator__C': 0.018751635163531444, 'estima...   \n",
       "split0_test_score                                                   0.63830   \n",
       "split1_test_score                                                   0.60606   \n",
       "split2_test_score                                                   0.66667   \n",
       "split3_test_score                                                   0.64433   \n",
       "split4_test_score                                                   0.52764   \n",
       "split5_test_score                                                   0.70270   \n",
       "mean_test_score                                                     0.63095   \n",
       "std_test_score                                                      0.05470   \n",
       "rank_test_score                                                           1   \n",
       "\n",
       "                                                                         54  \\\n",
       "mean_fit_time                                                       0.01163   \n",
       "std_fit_time                                                        0.00308   \n",
       "mean_score_time                                                     0.00224   \n",
       "std_score_time                                                      0.00021   \n",
       "param_estimator__C                                                  0.01877   \n",
       "param_estimator__penalty                                                 l2   \n",
       "param_estimator__solver                                                saga   \n",
       "params                    {'estimator__C': 0.0187727586201518, 'estimato...   \n",
       "split0_test_score                                                   0.63830   \n",
       "split1_test_score                                                   0.60606   \n",
       "split2_test_score                                                   0.66667   \n",
       "split3_test_score                                                   0.64433   \n",
       "split4_test_score                                                   0.52764   \n",
       "split5_test_score                                                   0.70270   \n",
       "mean_test_score                                                     0.63095   \n",
       "std_test_score                                                      0.05470   \n",
       "rank_test_score                                                           1   \n",
       "\n",
       "                                                                         34  \\\n",
       "mean_fit_time                                                       0.01062   \n",
       "std_fit_time                                                        0.00247   \n",
       "mean_score_time                                                     0.00208   \n",
       "std_score_time                                                      0.00005   \n",
       "param_estimator__C                                                  0.01867   \n",
       "param_estimator__penalty                                                 l2   \n",
       "param_estimator__solver                                                saga   \n",
       "params                    {'estimator__C': 0.018667378754809467, 'estima...   \n",
       "split0_test_score                                                   0.63830   \n",
       "split1_test_score                                                   0.60606   \n",
       "split2_test_score                                                   0.66667   \n",
       "split3_test_score                                                   0.64433   \n",
       "split4_test_score                                                   0.52764   \n",
       "split5_test_score                                                   0.70270   \n",
       "mean_test_score                                                     0.63095   \n",
       "std_test_score                                                      0.05470   \n",
       "rank_test_score                                                           1   \n",
       "\n",
       "                                                                         26  \\\n",
       "mean_fit_time                                                       0.01032   \n",
       "std_fit_time                                                        0.00150   \n",
       "mean_score_time                                                     0.00218   \n",
       "std_score_time                                                      0.00015   \n",
       "param_estimator__C                                                  0.01863   \n",
       "param_estimator__penalty                                                 l2   \n",
       "param_estimator__solver                                                saga   \n",
       "params                    {'estimator__C': 0.018625392627414104, 'estima...   \n",
       "split0_test_score                                                   0.63830   \n",
       "split1_test_score                                                   0.60606   \n",
       "split2_test_score                                                   0.66667   \n",
       "split3_test_score                                                   0.64433   \n",
       "split4_test_score                                                   0.52764   \n",
       "split5_test_score                                                   0.70270   \n",
       "mean_test_score                                                     0.63095   \n",
       "std_test_score                                                      0.05470   \n",
       "rank_test_score                                                           1   \n",
       "\n",
       "                                                                         38  \\\n",
       "mean_fit_time                                                       0.01081   \n",
       "std_fit_time                                                        0.00184   \n",
       "mean_score_time                                                     0.00268   \n",
       "std_score_time                                                      0.00123   \n",
       "param_estimator__C                                                  0.01869   \n",
       "param_estimator__penalty                                                 l2   \n",
       "param_estimator__solver                                                saga   \n",
       "params                    {'estimator__C': 0.018688407297755408, 'estima...   \n",
       "split0_test_score                                                   0.63830   \n",
       "split1_test_score                                                   0.60606   \n",
       "split2_test_score                                                   0.66667   \n",
       "split3_test_score                                                   0.64433   \n",
       "split4_test_score                                                   0.52764   \n",
       "split5_test_score                                                   0.70270   \n",
       "mean_test_score                                                     0.63095   \n",
       "std_test_score                                                      0.05470   \n",
       "rank_test_score                                                           1   \n",
       "\n",
       "                                                                         74  \\\n",
       "mean_fit_time                                                       0.01101   \n",
       "std_fit_time                                                        0.00214   \n",
       "mean_score_time                                                     0.00287   \n",
       "std_score_time                                                      0.00179   \n",
       "param_estimator__C                                                  0.01888   \n",
       "param_estimator__penalty                                                 l2   \n",
       "param_estimator__solver                                                saga   \n",
       "params                    {'estimator__C': 0.01887873336901609, 'estimat...   \n",
       "split0_test_score                                                   0.63830   \n",
       "split1_test_score                                                   0.60606   \n",
       "split2_test_score                                                   0.66667   \n",
       "split3_test_score                                                   0.64433   \n",
       "split4_test_score                                                   0.52764   \n",
       "split5_test_score                                                   0.70270   \n",
       "mean_test_score                                                     0.63095   \n",
       "std_test_score                                                      0.05470   \n",
       "rank_test_score                                                           1   \n",
       "\n",
       "                                                                         22  \\\n",
       "mean_fit_time                                                       0.01100   \n",
       "std_fit_time                                                        0.00226   \n",
       "mean_score_time                                                     0.00266   \n",
       "std_score_time                                                      0.00068   \n",
       "param_estimator__C                                                  0.01860   \n",
       "param_estimator__penalty                                                 l2   \n",
       "param_estimator__solver                                                saga   \n",
       "params                    {'estimator__C': 0.01860443498974545, 'estimat...   \n",
       "split0_test_score                                                   0.63830   \n",
       "split1_test_score                                                   0.60606   \n",
       "split2_test_score                                                   0.66667   \n",
       "split3_test_score                                                   0.64433   \n",
       "split4_test_score                                                   0.52764   \n",
       "split5_test_score                                                   0.70270   \n",
       "mean_test_score                                                     0.63095   \n",
       "std_test_score                                                      0.05470   \n",
       "rank_test_score                                                           1   \n",
       "\n",
       "                                                                         42  \n",
       "mean_fit_time                                                       0.00955  \n",
       "std_fit_time                                                        0.00033  \n",
       "mean_score_time                                                     0.00211  \n",
       "std_score_time                                                      0.00009  \n",
       "param_estimator__C                                                  0.01871  \n",
       "param_estimator__penalty                                                 l2  \n",
       "param_estimator__solver                                                saga  \n",
       "params                    {'estimator__C': 0.01870945952906297, 'estimat...  \n",
       "split0_test_score                                                   0.63830  \n",
       "split1_test_score                                                   0.60606  \n",
       "split2_test_score                                                   0.66667  \n",
       "split3_test_score                                                   0.64433  \n",
       "split4_test_score                                                   0.52764  \n",
       "split5_test_score                                                   0.70270  \n",
       "mean_test_score                                                     0.63095  \n",
       "std_test_score                                                      0.05470  \n",
       "rank_test_score                                                           1  "
      ]
     },
     "execution_count": 40,
     "metadata": {},
     "output_type": "execute_result"
    }
   ],
   "source": [
    "# increase the precision of result's display\n",
    "pd.options.display.float_format = '{:.5f}'.format\n",
    "\n",
    "# - - - - - - - - - - - - - - - - - - - - - - - - - - - - - - - -\n",
    "# Best results of Cross Validation on GridSearch\n",
    "\n",
    "results = pd.DataFrame(pipe_log.cv_results_).sort_values(by='mean_test_score', ascending=False).head(8).T\n",
    "results"
   ]
  },
  {
   "cell_type": "markdown",
   "id": "ab6fee33-b00f-4931-aa98-ab3e6e9334a9",
   "metadata": {},
   "source": [
    "## Feature importance"
   ]
  },
  {
   "cell_type": "code",
   "execution_count": 41,
   "id": "dc60f58f-1c38-48d6-82b5-ec3f87e70790",
   "metadata": {
    "tags": []
   },
   "outputs": [],
   "source": [
    "# - - - - - - - - - - - - - - - - - - - - - - - - - - - - - - - -\n",
    "# Estimate feature importance through permutation importance\n",
    "\n",
    "result = permutation_importance(pipe_log, Xtrain_feat_sel, ytrain, n_repeats=50, random_state=random_seed)\n",
    "importance_scores = result.importances_mean # abs\n",
    "\n",
    "original_columns = Xtrain_feat_sel.columns\n",
    "feature_importance_list = list(zip(original_columns, importance_scores))\n",
    "sorted_feature_importance = sorted(feature_importance_list, key=lambda x: x[1], reverse=False)\n",
    "orig_sorted_features, orig_sorted_importance = zip(*sorted_feature_importance)"
   ]
  },
  {
   "cell_type": "code",
   "execution_count": 43,
   "id": "a298bb34-0e86-4460-a8f0-0841ab8c4723",
   "metadata": {
    "tags": []
   },
   "outputs": [
    {
     "data": {
      "image/png": "[encoded data removed]",
      "text/plain": [
       "<Figure size 1100x1000 with 1 Axes>"
      ]
     },
     "metadata": {},
     "output_type": "display_data"
    }
   ],
   "source": [
    "plt.rc('ytick', labelsize=10)\n",
    "\n",
    "# - - - - - - - - - - - - - - - - - - - - - - - - - - - - - - - -\n",
    "# Visualization\n",
    "\n",
    "import matplotlib as mpl\n",
    "from matplotlib.cm import get_cmap\n",
    "\n",
    "colors = []\n",
    "cmap = mpl.colormaps['coolwarm']\n",
    "\n",
    "# scale data\n",
    "data = orig_sorted_importance\n",
    "denominator = max(data) - min(data) # max(data) - min(data)\n",
    "scaled_data = [(datum - min(data)) / denominator for datum in data]\n",
    "\n",
    "for decimal in scaled_data:\n",
    "    colors.append(cmap(decimal))\n",
    "\n",
    "\n",
    "fig_feature_importance, ax = plt.subplots(figsize=(11,10))\n",
    "\n",
    "ax.barh(orig_sorted_features, orig_sorted_importance, color=colors)\n",
    "ax.set(title='Features sorted by permutation importance',\n",
    "      xlabel='Permutation Importance');\n",
    "\n",
    "#ax.set_xticklabels({:.2%})"
   ]
  },
  {
   "cell_type": "code",
   "execution_count": 17,
   "id": "da1084c4-930d-4399-ae53-08cc02c38283",
   "metadata": {
    "tags": []
   },
   "outputs": [
    {
     "data": {
      "text/plain": [
       "array([0. , 0.1, 0.2, 0.3, 0.4, 0.5, 0.6, 0.7, 0.8, 0.9])"
      ]
     },
     "execution_count": 17,
     "metadata": {},
     "output_type": "execute_result"
    }
   ],
   "source": [
    "import numpy as np\n",
    "x = np.arange(start=0, stop=1, step=0.1, dtype='float')\n",
    "x"
   ]
  },
  {
   "cell_type": "code",
   "execution_count": 15,
   "id": "ba433a8d-8c98-4af0-b187-28a2c226ae5b",
   "metadata": {
    "tags": []
   },
   "outputs": [
    {
     "data": {
      "text/plain": [
       "array([1. , 1.2, 1.4, 1.6, 1.8, 2. , 2.2, 2.4, 2.6, 2.8, 3. , 3.2, 3.4,\n",
       "       3.6, 3.8, 4. , 4.2, 4.4, 4.6, 4.8])"
      ]
     },
     "execution_count": 15,
     "metadata": {},
     "output_type": "execute_result"
    }
   ],
   "source": [
    "x = np.arange(start=1, stop=5, step=0.2, dtype='float')\n",
    "x"
   ]
  },
  {
   "cell_type": "markdown",
   "id": "2bdb2018-31e1-4ff5-9a33-bc75911dd1bd",
   "metadata": {
    "tags": []
   },
   "source": [
    "## Color Maps\n",
    "cmap:\\\n",
    "'Accent', 'Accent_r', 'Blues', 'Blues_r', 'BrBG', 'BrBG_r', 'BuGn', 'BuGn_r', 'BuPu', 'BuPu_r', 'CMRmap', 'CMRmap_r', 'Dark2', 'Dark2_r', 'GnBu', 'GnBu_r', 'Greens', 'Greens_r', 'Greys', 'Greys_r', 'OrRd', 'OrRd_r', 'Oranges', 'Oranges_r', 'PRGn', 'PRGn_r', 'Paired', 'Paired_r', 'Pastel1', 'Pastel1_r', 'Pastel2', 'Pastel2_r', 'PiYG', 'PiYG_r', 'PuBu', 'PuBuGn', 'PuBuGn_r', 'PuBu_r', 'PuOr', 'PuOr_r', 'PuRd', 'PuRd_r', 'Purples', 'Purples_r', 'RdBu', 'RdBu_r', 'RdGy', 'RdGy_r', 'RdPu', 'RdPu_r', 'RdYlBu', 'RdYlBu_r', 'RdYlGn', 'RdYlGn_r', 'Reds', 'Reds_r', 'Set1', 'Set1_r', 'Set2', 'Set2_r', 'Set3', 'Set3_r', 'Spectral', 'Spectral_r', 'Wistia', 'Wistia_r', 'YlGn', 'YlGnBu', 'YlGnBu_r', 'YlGn_r', 'YlOrBr', 'YlOrBr_r', 'YlOrRd', 'YlOrRd_r', 'afmhot', 'afmhot_r', 'autumn', 'autumn_r', 'binary', 'binary_r', 'bone', 'bone_r', 'brg', 'brg_r', 'bwr', 'bwr_r', 'cividis', 'cividis_r', 'cool', 'cool_r', 'coolwarm', 'coolwarm_r', 'copper', 'copper_r', 'crest', 'crest_r', 'cubehelix', 'cubehelix_r', 'flag', 'flag_r', 'flare', 'flare_r', 'gist_earth', 'gist_earth_r', 'gist_gray', 'gist_gray_r', 'gist_heat', 'gist_heat_r', 'gist_ncar', 'gist_ncar_r', 'gist_rainbow', 'gist_rainbow_r', 'gist_stern', 'gist_stern_r', 'gist_yarg', 'gist_yarg_r', 'gnuplot', 'gnuplot2', 'gnuplot2_r', 'gnuplot_r', 'gray', 'gray_r', 'hot', 'hot_r', 'hsv', 'hsv_r', 'icefire', 'icefire_r', 'inferno', 'inferno_r', 'jet', 'jet_r', 'magma', 'magma_r', 'mako', 'mako_r', 'nipy_spectral', 'nipy_spectral_r', 'ocean', 'ocean_r', 'pink', 'pink_r', 'plasma', 'plasma_r', 'prism', 'prism_r', 'rainbow', 'rainbow_r', 'rocket', 'rocket_r', 'seismic', 'seismic_r', 'spring', 'spring_r', 'summer', 'summer_r', 'tab10', 'tab10_r', 'tab20', 'tab20_r', 'tab20b', 'tab20b_r', 'tab20c', 'tab20c_r', 'terrain', 'terrain_r', 'turbo', 'turbo_r', 'twilight', 'twilight_r', 'twilight_shifted', 'twilight_shifted_r', 'viridis', 'viridis_r', 'vlag', 'vlag_r', 'winter', 'winter_r'"
   ]
  },
  {
   "cell_type": "code",
   "execution_count": 20,
   "id": "3b136f64-639c-44b1-9ecc-f2f14303ec96",
   "metadata": {
    "tags": []
   },
   "outputs": [
    {
     "data": {
      "image/png": "[encoded data removed]",
      "text/plain": [
       "<Figure size 640x480 with 1 Axes>"
      ]
     },
     "metadata": {},
     "output_type": "display_data"
    }
   ],
   "source": [
    "import matplotlib.pyplot as plt\n",
    "\n",
    "from mpl_toolkits.axes_grid1.axes_divider import make_axes_locatable\n",
    "\n",
    "\n",
    "\n",
    "import matplotlib as mpl\n",
    "from matplotlib.colors import LinearSegmentedColormap, ListedColormap\n",
    "\n",
    "# colormap definition\n",
    "colors = ['red', 'black', 'green']\n",
    "nodes = [0,0.5,1]\n",
    "cf_cmap = LinearSegmentedColormap.from_list('RBlG', list(zip(nodes, colors)))\n",
    "\n",
    "# reversed version\n",
    "cf_cmap_r = cf_cmap.reversed()\n",
    "\n",
    "# registering a colormap\n",
    "mpl.colormaps.register(cmap=cf_cmap)\n",
    "mpl.colormaps.register(cmap=cf_cmap_r)\n",
    "\n",
    "\n",
    "\n",
    "fig, ax = plt.subplots()\n",
    "# fig.subplots_adjust(wspace=0.5)\n",
    "im1 = ax.imshow([[1, 2], [3, 4]], cmap='RBlG')\n",
    "\n",
    "\n",
    "\n",
    "#ax1_divider = make_axes_locatable(ax1)\n",
    "# Add an Axes to the right of the main Axes.\n",
    "#cax1 = ax1_divider.append_axes(\"right\", size=\"7%\", pad=\"2%\")\n",
    "#cb1 = fig.colorbar(im1, cax=cax1)\n",
    "\n",
    "# im2 = ax2.imshow([[1, 2], [3, 4]])\n",
    "# ax2_divider = make_axes_locatable(ax2)\n",
    "# # Add an Axes above the main Axes.\n",
    "# cax2 = ax2_divider.append_axes(\"top\", size=\"7%\", pad=\"2%\")\n",
    "# cb2 = fig.colorbar(im2, cax=cax2, orientation=\"horizontal\")\n",
    "# # Change tick position to top (with the default tick position \"bottom\", ticks\n",
    "# # overlap the image).\n",
    "# cax2.xaxis.set_ticks_position(\"top\")\n",
    "\n",
    "ax.set_xticks([0,1])\n",
    "ax.set_yticks([0,1])\n",
    "\n",
    "plt.show()"
   ]
  }
 ],
 "metadata": {
  "kernelspec": {
   "display_name": "Python 3 (ipykernel)",
   "language": "python",
   "name": "python3"
  },
  "language_info": {
   "codemirror_mode": {
    "name": "ipython",
    "version": 3
   },
   "file_extension": ".py",
   "mimetype": "text/x-python",
   "name": "python",
   "nbconvert_exporter": "python",
   "pygments_lexer": "ipython3",
   "version": "3.11.4"
  }
 },
 "nbformat": 4,
 "nbformat_minor": 5
}
