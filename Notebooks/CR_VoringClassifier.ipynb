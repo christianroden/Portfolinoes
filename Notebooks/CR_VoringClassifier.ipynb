{
 "cells": [
  {
   "cell_type": "markdown",
   "id": "f800c048-b4bc-4af3-9263-51fae5511b91",
   "metadata": {},
   "source": [
    "## Import modules"
   ]
  },
  {
   "cell_type": "code",
   "execution_count": 1,
   "id": "60e84b77-a2e8-46ea-8578-b3714be9f8ec",
   "metadata": {},
   "outputs": [],
   "source": [
    "# fundamentals\n",
    "import pandas as pd\n",
    "import numpy as np\n",
    "import matplotlib.pyplot as plt\n",
    "import seaborn as sns\n",
    "\n",
    "# preprocessing\n",
    "from sklearn.model_selection import train_test_split\n",
    "from sklearn.preprocessing import OneHotEncoder, StandardScaler, FunctionTransformer\n",
    "from sklearn.decomposition import PCA\n",
    "from sklearn.impute import KNNImputer, SimpleImputer\n",
    "from sklearn.feature_selection import SelectPercentile\n",
    "\n",
    "# pipeline\n",
    "from sklearn.compose import ColumnTransformer\n",
    "from sklearn.pipeline import Pipeline, make_pipeline\n",
    "\n",
    "# Evaluation, optimization, metrics\n",
    "from sklearn.metrics import recall_score, precision_score, precision_recall_curve, f1_score, roc_auc_score, roc_curve, auc, make_scorer\n",
    "from sklearn.model_selection import GridSearchCV, cross_val_score\n",
    "from sklearn.inspection import permutation_importance\n",
    "\n",
    "# model\n",
    "from sklearn.svm import SVC\n",
    "from sklearn.ensemble import RandomForestClassifier\n",
    "from sklearn.linear_model import LogisticRegression\n",
    "from sklearn.ensemble import VotingClassifier"
   ]
  },
  {
   "cell_type": "markdown",
   "id": "6da5bf78-306f-4d2f-b932-ba85c6925427",
   "metadata": {},
   "source": [
    "## Prepare graphics"
   ]
  },
  {
   "cell_type": "code",
   "execution_count": 2,
   "id": "3b7009ee-59c4-4789-80dd-43e97e95165b",
   "metadata": {},
   "outputs": [],
   "source": [
    "def plot_roc(pipe, Xtest, ytest):\n",
    "    yscores = pipe.predict_proba(Xtest)[:,1]\n",
    "    fpr, tpr, _ = roc_curve(ytest, yscores)\n",
    "    roc_auc = auc(fpr, tpr)\n",
    "    plt.figure(figsize=(10, 8))\n",
    "    plt.plot(fpr, tpr, color='darkorange', lw=2, label='ROC curve (area = {:.2f})'.format(roc_auc))\n",
    "    plt.plot([0, 1], [0, 1], color='navy', lw=2, linestyle='--')\n",
    "    plt.xlabel('False Positive Rate')\n",
    "    plt.ylabel('True Positive Rate')\n",
    "    plt.title('Receiver Operating Characteristic (ROC) Curve')\n",
    "    plt.legend(loc='lower right')"
   ]
  },
  {
   "cell_type": "markdown",
   "id": "99985edc-1cbc-4f93-8166-cdb0a7351624",
   "metadata": {},
   "source": [
    "## Load, clean and split the data"
   ]
  },
  {
   "cell_type": "code",
   "execution_count": 3,
   "id": "534b1d81-fff6-4907-9583-85ed9a1a83cd",
   "metadata": {},
   "outputs": [],
   "source": [
    "raw_data = pd.read_csv(\"Data/HR_Analytics.csv\")"
   ]
  },
  {
   "cell_type": "code",
   "execution_count": 4,
   "id": "c67bb7ea-70c4-467c-8072-5988f6ffa9d7",
   "metadata": {},
   "outputs": [],
   "source": [
    "# Assign columns to column groups\n",
    "catcols = [\"AgeGroup\", \"SalarySlab\", \"Department\", \"EducationField\", \"JobRole\", \"MaritalStatus\"]\n",
    "numcols = [\"Education\", \"EnvironmentSatisfaction\", \"BusinessTravel\", \"JobInvolvement\", \"JobLevel\", \"JobSatisfaction\", \"PerformanceRating\", \n",
    "           \"RelationshipSatisfaction\", \"StockOptionLevel\", \"WorkLifeBalance\", \"OverTime\", \"Gender\", \"Age\", \"DailyRate\", \"DistanceFromHome\", \n",
    "           \"HourlyRate\", \"MonthlyIncome\", \"MonthlyRate\", \"NumCompaniesWorked\", \"PercentSalaryHike\", \"TotalWorkingYears\", \n",
    "           \"TrainingTimesLastYear\", \"YearsAtCompany\", \"YearsInCurrentRole\", \"YearsSinceLastPromotion\", \"YearsWithCurrManager\"]\n",
    "delcols = [\"EmpID\", \"EmployeeCount\", \"EmployeeNumber\", \"StandardHours\", \"Over18\"]\n",
    "\n",
    "# clean data\n",
    "def clean_data(DF, delcols=delcols):\n",
    "    df = DF.drop_duplicates()\n",
    "    df = df.drop(delcols, axis=1)\n",
    "    df = df.replace({\"Yes\": 1,\n",
    "                     \"No\": 0,\n",
    "                     \"Female\": 1,\n",
    "                     \"Male\": 0,\n",
    "                     \"Non-Travel\": 0,\n",
    "                     \"TravelRarely\": 1,\n",
    "                     \"Travel_Rarely\": 1,\n",
    "                     \"Travel_Frequently\": 2})\n",
    "    #df = df.dropna(axis=0)\n",
    "    return df\n",
    "\n",
    "data = clean_data(raw_data)\n",
    "\n",
    "Xtrain, Xtest, ytrain, ytest = train_test_split(data.drop(\"Attrition\", axis=1), \n",
    "                                                data[\"Attrition\"], \n",
    "                                                test_size=0.2, \n",
    "                                                shuffle=True,\n",
    "                                                stratify=data[\"Attrition\"], \n",
    "                                                random_state=42)"
   ]
  },
  {
   "cell_type": "markdown",
   "id": "b8147ffb-9a24-49da-a4fa-75e4e524901f",
   "metadata": {},
   "source": [
    "## Prepare preprocessing"
   ]
  },
  {
   "cell_type": "code",
   "execution_count": 5,
   "id": "7bb2c5a6-9909-438c-adbe-9098b6e380f7",
   "metadata": {},
   "outputs": [],
   "source": [
    "encoder = OneHotEncoder(handle_unknown=\"ignore\", sparse=False)\n",
    "knnimp = KNNImputer(add_indicator=True)\n",
    "simpimp = SimpleImputer(strategy=\"median\")\n",
    "std = StandardScaler()\n",
    "\n",
    "imputer = simpimp\n",
    "\n",
    "catpipe = make_pipeline(encoder)\n",
    "numpipe = Pipeline([(\"imputer\", simpimp),\n",
    "                    (\"scaler\", std)])\n",
    "\n",
    "coltrans = ColumnTransformer(transformers=[(\"encoder\", encoder, catcols),\n",
    "                                           (\"numpipe\", numpipe, numcols)])\n",
    "selection = SelectPercentile(percentile=90) # percentile=10"
   ]
  },
  {
   "cell_type": "markdown",
   "id": "04ccfeec-b708-483b-b59e-d46e98fed8e1",
   "metadata": {},
   "source": [
    "## Initialize models, pipelines and VotingClassifier"
   ]
  },
  {
   "cell_type": "code",
   "execution_count": 6,
   "id": "37c39270-b85b-4895-a49c-ffdb993531a3",
   "metadata": {},
   "outputs": [],
   "source": [
    "svc = SVC(C=1,\n",
    "          kernel=\"poly\",\n",
    "          degree=3,\n",
    "          gamma=\"auto\",\n",
    "          class_weight=\"balanced\",\n",
    "          cache_size=1000, \n",
    "          probability=True,\n",
    "          random_state=42)\n",
    "pipe_svc = Pipeline([(\"prepper\", coltrans),\n",
    "                     (\"selector\", selection),\n",
    "                     (\"estimator\", svc)])\n",
    "#pipe_svc.fit(Xtrain, ytrain)\n",
    "\n",
    "log = LogisticRegression(class_weight=\"balanced\", \n",
    "                         penalty='l2', \n",
    "                         C=0.05, \n",
    "                         solver='lbfgs', \n",
    "                         intercept_scaling=1, \n",
    "                         max_iter=10000, \n",
    "                         verbose=0, \n",
    "                         random_state=42)\n",
    "pipe_log = Pipeline([(\"prepper\", coltrans),\n",
    "                     (\"estimator\", log)])\n",
    "#pipe_log.fit(Xtrain, ytrain)\n",
    "\n",
    "rfc = RandomForestClassifier(class_weight=\"balanced\", \n",
    "                             n_estimators=60, \n",
    "                             max_depth=10, \n",
    "                             min_samples_leaf=8, \n",
    "                             random_state=42)\n",
    "pipe_rfc = Pipeline([(\"prepper\", coltrans),\n",
    "                     (\"estimator\", rfc)])\n",
    "#pipe_rfc.fit(Xtrain, ytrain)\n",
    "\n",
    "vc = VotingClassifier(estimators=\n",
    "                      [(\"SVC\", pipe_svc), \n",
    "                       (\"Log\", pipe_log), \n",
    "                       (\"RFC\", pipe_rfc)],\n",
    "                       voting='soft')#,\n",
    "                      #weights=None)"
   ]
  },
  {
   "cell_type": "markdown",
   "id": "85b8dabb-829a-47d1-a6f1-d549010e5278",
   "metadata": {},
   "source": [
    "## Set search space"
   ]
  },
  {
   "cell_type": "code",
   "execution_count": 7,
   "id": "b46b3a1b-fa31-49f3-a36e-351cbc869a50",
   "metadata": {},
   "outputs": [],
   "source": [
    "def weights():\n",
    "    weights = []\n",
    "    for a in range(4):\n",
    "        for b in range(4):\n",
    "            for c in range(4):\n",
    "                independent = True\n",
    "                if [a,b,c] == [0,0,0]:\n",
    "                    independent = False\n",
    "                for n in [2, 3]:\n",
    "                    for weight in weights:\n",
    "                        if [a,b,c] == [n*weight[0], n*weight[1], n*weight[2]]:\n",
    "                            independent = False\n",
    "                            break\n",
    "                if independent:\n",
    "                    weights.append([a,b,c])\n",
    "    return weights\n",
    "\n",
    "search_space = {\"weights\": weights()}"
   ]
  },
  {
   "cell_type": "markdown",
   "id": "6dd3a472-003a-4301-8a51-9c342822a410",
   "metadata": {},
   "source": [
    "## Finish pipeline and run grid search"
   ]
  },
  {
   "cell_type": "code",
   "execution_count": 8,
   "id": "61fb3f6b-3a3a-480f-a5aa-fd1097803805",
   "metadata": {},
   "outputs": [
    {
     "name": "stdout",
     "output_type": "stream",
     "text": [
      "{'weights': [2, 3, 2]}\n",
      "Best F1 score: 58.52%\n",
      "--------------------------------------------------------\n",
      "F1 score on test set:\t64.08%\n",
      "Recall on test set:\t70.21%\n",
      "Precision on test set:\t58.93%\n"
     ]
    },
    {
     "data": {
      "image/png": "[encoded data removed]",
      "text/plain": [
       "<Figure size 720x576 with 1 Axes>"
      ]
     },
     "metadata": {
      "needs_background": "light"
     },
     "output_type": "display_data"
    }
   ],
   "source": [
    "grid_vc = GridSearchCV(estimator=vc,\n",
    "                        param_grid=search_space,\n",
    "                        scoring=\"f1\",\n",
    "                        cv=4,\n",
    "                        n_jobs=-1)\n",
    "grid_vc.fit(Xtrain, ytrain)\n",
    "#model_svc = pipe_svc.best_estimator_\n",
    "#print(grid_svc.best_estimator_)\n",
    "print(grid_vc.best_params_)\n",
    "print(f\"Best F1 score: {grid_vc.best_score_.mean():.2%}\")\n",
    "print(\"--------------------------------------------------------\")\n",
    "ypred = grid_vc.predict(Xtest)\n",
    "print(f\"F1 score on test set:\\t{f1_score(ytest, ypred):.2%}\")\n",
    "print(f\"Recall on test set:\\t{recall_score(ytest, ypred):.2%}\")\n",
    "print(f\"Precision on test set:\\t{precision_score(ytest, ypred):.2%}\")\n",
    "plot_roc(grid_vc, Xtest, ytest)"
   ]
  },
  {
   "cell_type": "code",
   "execution_count": 9,
   "id": "2779b41c-bb56-41c3-a7bc-c237be6ad37b",
   "metadata": {},
   "outputs": [
    {
     "data": {
      "text/html": [
       "<div>\n",
       "<style scoped>\n",
       "    .dataframe tbody tr th:only-of-type {\n",
       "        vertical-align: middle;\n",
       "    }\n",
       "\n",
       "    .dataframe tbody tr th {\n",
       "        vertical-align: top;\n",
       "    }\n",
       "\n",
       "    .dataframe thead th {\n",
       "        text-align: right;\n",
       "    }\n",
       "</style>\n",
       "<table border=\"1\" class=\"dataframe\">\n",
       "  <thead>\n",
       "    <tr style=\"text-align: right;\">\n",
       "      <th></th>\n",
       "      <th>param_weights</th>\n",
       "      <th>params</th>\n",
       "      <th>split0_test_score</th>\n",
       "      <th>split1_test_score</th>\n",
       "      <th>split2_test_score</th>\n",
       "      <th>split3_test_score</th>\n",
       "      <th>mean_test_score</th>\n",
       "      <th>std_test_score</th>\n",
       "      <th>rank_test_score</th>\n",
       "    </tr>\n",
       "  </thead>\n",
       "  <tbody>\n",
       "    <tr>\n",
       "      <th>35</th>\n",
       "      <td>[2, 3, 2]</td>\n",
       "      <td>{'weights': [2, 3, 2]}</td>\n",
       "      <td>0.585859</td>\n",
       "      <td>0.635294</td>\n",
       "      <td>0.595745</td>\n",
       "      <td>0.523810</td>\n",
       "      <td>0.585177</td>\n",
       "      <td>0.039968</td>\n",
       "      <td>1</td>\n",
       "    </tr>\n",
       "    <tr>\n",
       "      <th>34</th>\n",
       "      <td>[2, 3, 1]</td>\n",
       "      <td>{'weights': [2, 3, 1]}</td>\n",
       "      <td>0.574257</td>\n",
       "      <td>0.613636</td>\n",
       "      <td>0.612245</td>\n",
       "      <td>0.534884</td>\n",
       "      <td>0.583756</td>\n",
       "      <td>0.032339</td>\n",
       "      <td>2</td>\n",
       "    </tr>\n",
       "    <tr>\n",
       "      <th>33</th>\n",
       "      <td>[2, 3, 0]</td>\n",
       "      <td>{'weights': [2, 3, 0]}</td>\n",
       "      <td>0.557692</td>\n",
       "      <td>0.577778</td>\n",
       "      <td>0.600000</td>\n",
       "      <td>0.549451</td>\n",
       "      <td>0.571230</td>\n",
       "      <td>0.019546</td>\n",
       "      <td>3</td>\n",
       "    </tr>\n",
       "    <tr>\n",
       "      <th>36</th>\n",
       "      <td>[2, 3, 3]</td>\n",
       "      <td>{'weights': [2, 3, 3]}</td>\n",
       "      <td>0.562500</td>\n",
       "      <td>0.588235</td>\n",
       "      <td>0.602151</td>\n",
       "      <td>0.523810</td>\n",
       "      <td>0.569174</td>\n",
       "      <td>0.029805</td>\n",
       "      <td>4</td>\n",
       "    </tr>\n",
       "    <tr>\n",
       "      <th>48</th>\n",
       "      <td>[3, 3, 2]</td>\n",
       "      <td>{'weights': [3, 3, 2]}</td>\n",
       "      <td>0.571429</td>\n",
       "      <td>0.567901</td>\n",
       "      <td>0.620690</td>\n",
       "      <td>0.500000</td>\n",
       "      <td>0.565005</td>\n",
       "      <td>0.042942</td>\n",
       "      <td>5</td>\n",
       "    </tr>\n",
       "    <tr>\n",
       "      <th>24</th>\n",
       "      <td>[1, 3, 3]</td>\n",
       "      <td>{'weights': [1, 3, 3]}</td>\n",
       "      <td>0.571429</td>\n",
       "      <td>0.589474</td>\n",
       "      <td>0.582524</td>\n",
       "      <td>0.515464</td>\n",
       "      <td>0.564723</td>\n",
       "      <td>0.029159</td>\n",
       "      <td>6</td>\n",
       "    </tr>\n",
       "    <tr>\n",
       "      <th>19</th>\n",
       "      <td>[1, 2, 2]</td>\n",
       "      <td>{'weights': [1, 2, 2]}</td>\n",
       "      <td>0.568627</td>\n",
       "      <td>0.606742</td>\n",
       "      <td>0.577320</td>\n",
       "      <td>0.505495</td>\n",
       "      <td>0.564546</td>\n",
       "      <td>0.036903</td>\n",
       "      <td>7</td>\n",
       "    </tr>\n",
       "    <tr>\n",
       "      <th>18</th>\n",
       "      <td>[1, 2, 1]</td>\n",
       "      <td>{'weights': [1, 2, 1]}</td>\n",
       "      <td>0.557692</td>\n",
       "      <td>0.600000</td>\n",
       "      <td>0.588235</td>\n",
       "      <td>0.505495</td>\n",
       "      <td>0.562856</td>\n",
       "      <td>0.036540</td>\n",
       "      <td>8</td>\n",
       "    </tr>\n",
       "    <tr>\n",
       "      <th>20</th>\n",
       "      <td>[1, 2, 3]</td>\n",
       "      <td>{'weights': [1, 2, 3]}</td>\n",
       "      <td>0.556701</td>\n",
       "      <td>0.597701</td>\n",
       "      <td>0.568421</td>\n",
       "      <td>0.527473</td>\n",
       "      <td>0.562574</td>\n",
       "      <td>0.025173</td>\n",
       "      <td>9</td>\n",
       "    </tr>\n",
       "  </tbody>\n",
       "</table>\n",
       "</div>"
      ],
      "text/plain": [
       "   param_weights                  params  split0_test_score  \\\n",
       "35     [2, 3, 2]  {'weights': [2, 3, 2]}           0.585859   \n",
       "34     [2, 3, 1]  {'weights': [2, 3, 1]}           0.574257   \n",
       "33     [2, 3, 0]  {'weights': [2, 3, 0]}           0.557692   \n",
       "36     [2, 3, 3]  {'weights': [2, 3, 3]}           0.562500   \n",
       "48     [3, 3, 2]  {'weights': [3, 3, 2]}           0.571429   \n",
       "24     [1, 3, 3]  {'weights': [1, 3, 3]}           0.571429   \n",
       "19     [1, 2, 2]  {'weights': [1, 2, 2]}           0.568627   \n",
       "18     [1, 2, 1]  {'weights': [1, 2, 1]}           0.557692   \n",
       "20     [1, 2, 3]  {'weights': [1, 2, 3]}           0.556701   \n",
       "\n",
       "    split1_test_score  split2_test_score  split3_test_score  mean_test_score  \\\n",
       "35           0.635294           0.595745           0.523810         0.585177   \n",
       "34           0.613636           0.612245           0.534884         0.583756   \n",
       "33           0.577778           0.600000           0.549451         0.571230   \n",
       "36           0.588235           0.602151           0.523810         0.569174   \n",
       "48           0.567901           0.620690           0.500000         0.565005   \n",
       "24           0.589474           0.582524           0.515464         0.564723   \n",
       "19           0.606742           0.577320           0.505495         0.564546   \n",
       "18           0.600000           0.588235           0.505495         0.562856   \n",
       "20           0.597701           0.568421           0.527473         0.562574   \n",
       "\n",
       "    std_test_score  rank_test_score  \n",
       "35        0.039968                1  \n",
       "34        0.032339                2  \n",
       "33        0.019546                3  \n",
       "36        0.029805                4  \n",
       "48        0.042942                5  \n",
       "24        0.029159                6  \n",
       "19        0.036903                7  \n",
       "18        0.036540                8  \n",
       "20        0.025173                9  "
      ]
     },
     "execution_count": 9,
     "metadata": {},
     "output_type": "execute_result"
    }
   ],
   "source": [
    "results = pd.DataFrame(grid_vc.cv_results_).sort_values(by=\"mean_test_score\", ascending=False).head(9)\n",
    "results.iloc[:,4:]"
   ]
  },
  {
   "cell_type": "code",
   "execution_count": 10,
   "id": "e6cdf7d9-a423-4968-a4fc-98c4133c3c5e",
   "metadata": {},
   "outputs": [
    {
     "data": {
      "text/plain": [
       "[Text(0.5, 1.0, 'Features sorted by permutation importance'),\n",
       " Text(0.5, 0, 'Permutation Importance')]"
      ]
     },
     "execution_count": 10,
     "metadata": {},
     "output_type": "execute_result"
    },
    {
     "data": {
      "image/png": "[encoded data removed]",
      "text/plain": [
       "<Figure size 864x720 with 1 Axes>"
      ]
     },
     "metadata": {
      "needs_background": "light"
     },
     "output_type": "display_data"
    }
   ],
   "source": [
    "# Estimate feature importance through permutation importance\n",
    "result = permutation_importance(grid_vc, Xtrain, ytrain, n_repeats=50, random_state=42)\n",
    "importance_scores = abs(result.importances_mean)\n",
    "#pipe_rfc = pipe_rfc.fit(features_train, target_train)\n",
    "original_columns = Xtrain.columns\n",
    "feature_importance_list = list(zip(original_columns, importance_scores))\n",
    "sorted_feature_importance = sorted(feature_importance_list, key=lambda x: x[1], reverse=False)\n",
    "orig_sorted_features, orig_sorted_importance = zip(*sorted_feature_importance)\n",
    "\n",
    "# Plot it\n",
    "fig, ax = plt.subplots(figsize=(12,10))\n",
    "ax.barh(orig_sorted_features, orig_sorted_importance)\n",
    "ax.set(title=\"Features sorted by permutation importance\",\n",
    "      xlabel=\"Permutation Importance\")"
   ]
  },
  {
   "cell_type": "code",
   "execution_count": null,
   "id": "0db306e9-f13a-44ee-96dc-1c54578eee67",
   "metadata": {},
   "outputs": [],
   "source": []
  },
  {
   "cell_type": "code",
   "execution_count": null,
   "id": "6f1699cb-8349-444a-b072-567b39476372",
   "metadata": {},
   "outputs": [],
   "source": []
  }
 ],
 "metadata": {
  "kernelspec": {
   "display_name": "Python 3 (ipykernel)",
   "language": "python",
   "name": "python3"
  },
  "language_info": {
   "codemirror_mode": {
    "name": "ipython",
    "version": 3
   },
   "file_extension": ".py",
   "mimetype": "text/x-python",
   "name": "python",
   "nbconvert_exporter": "python",
   "pygments_lexer": "ipython3",
   "version": "3.9.7"
  }
 },
 "nbformat": 4,
 "nbformat_minor": 5
}
