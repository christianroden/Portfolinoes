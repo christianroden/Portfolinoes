{
 "cells": [
  {
   "cell_type": "markdown",
   "id": "f800c048-b4bc-4af3-9263-51fae5511b91",
   "metadata": {},
   "source": [
    "## Import modules"
   ]
  },
  {
   "cell_type": "code",
   "execution_count": 1,
   "id": "60e84b77-a2e8-46ea-8578-b3714be9f8ec",
   "metadata": {},
   "outputs": [],
   "source": [
    "# fundamentals\n",
    "import pandas as pd\n",
    "import numpy as np\n",
    "import matplotlib.pyplot as plt\n",
    "import seaborn as sns\n",
    "\n",
    "# preprocessing\n",
    "from sklearn.model_selection import train_test_split\n",
    "from sklearn.preprocessing import OneHotEncoder, StandardScaler, FunctionTransformer\n",
    "from sklearn.decomposition import PCA\n",
    "from sklearn.impute import KNNImputer, SimpleImputer\n",
    "from sklearn.feature_selection import SelectPercentile\n",
    "\n",
    "# pipeline\n",
    "from sklearn.compose import ColumnTransformer\n",
    "from sklearn.pipeline import Pipeline, make_pipeline\n",
    "\n",
    "# Evaluation, optimization, metrics\n",
    "from sklearn.metrics import recall_score, precision_score, precision_recall_curve, f1_score, roc_auc_score, roc_curve, auc\n",
    "from sklearn.model_selection import GridSearchCV, cross_val_score\n",
    "from sklearn.inspection import permutation_importance\n",
    "\n",
    "# model\n",
    "from sklearn.svm import SVC\n",
    "from sklearn.ensemble import RandomForestClassifier\n",
    "from sklearn.linear_model import LogisticRegression\n",
    "from sklearn.neighbors import KNeighborsClassifier\n",
    "from xgboost import XGBClassifier"
   ]
  },
  {
   "cell_type": "markdown",
   "id": "6da5bf78-306f-4d2f-b932-ba85c6925427",
   "metadata": {},
   "source": [
    "## Prepare graphics"
   ]
  },
  {
   "cell_type": "code",
   "execution_count": 2,
   "id": "3b7009ee-59c4-4789-80dd-43e97e95165b",
   "metadata": {},
   "outputs": [],
   "source": [
    "def plot_roc(pipe, Xtest, ytest):\n",
    "    yscores = pipe.predict_proba(Xtest)[:,1]\n",
    "    fpr, tpr, _ = roc_curve(ytest, yscores)\n",
    "    roc_auc = auc(fpr, tpr)\n",
    "    plt.figure(figsize=(10, 8))\n",
    "    plt.plot(fpr, tpr, color='darkorange', lw=2, label='ROC curve (area = {:.2f})'.format(roc_auc))\n",
    "    plt.plot([0, 1], [0, 1], color='navy', lw=2, linestyle='--')\n",
    "    plt.xlabel('False Positive Rate')\n",
    "    plt.ylabel('True Positive Rate')\n",
    "    plt.title('Receiver Operating Characteristic (ROC) Curve')\n",
    "    plt.legend(loc='lower right')"
   ]
  },
  {
   "cell_type": "markdown",
   "id": "99985edc-1cbc-4f93-8166-cdb0a7351624",
   "metadata": {},
   "source": [
    "## Load, clean and split the data"
   ]
  },
  {
   "cell_type": "code",
   "execution_count": 3,
   "id": "534b1d81-fff6-4907-9583-85ed9a1a83cd",
   "metadata": {},
   "outputs": [],
   "source": [
    "raw_data = pd.read_csv(\"Data/HR_Analytics.csv\")"
   ]
  },
  {
   "cell_type": "code",
   "execution_count": 16,
   "id": "c67bb7ea-70c4-467c-8072-5988f6ffa9d7",
   "metadata": {},
   "outputs": [],
   "source": [
    "# Assign columns to column groups\n",
    "catcols = [\"AgeGroup\", \"SalarySlab\", \"Department\", \"EducationField\", \"JobRole\", \"MaritalStatus\"]\n",
    "numcols = [\"EnvironmentSatisfaction\", \"BusinessTravel\", \"JobInvolvement\", \"JobLevel\", \"JobSatisfaction\", \n",
    "           \"RelationshipSatisfaction\", \"StockOptionLevel\", \"WorkLifeBalance\", \"OverTime\", \"Age\", \"DailyRate\", \"DistanceFromHome\", \n",
    "           \"MonthlyIncome\", \"NumCompaniesWorked\", \"PercentSalaryHike\", \"TotalWorkingYears\", \n",
    "           \"TrainingTimesLastYear\", \"YearsAtCompany\", \"YearsInCurrentRole\", \"YearsWithCurrManager\", \"GotPromoted\"]\n",
    "delcols = [\"MonthlyRate\", \"HourlyRate\", \"Education\", \"EmpID\", \"EmployeeCount\", \"EmployeeNumber\", \"StandardHours\", \"Over18\", \"PerformanceRating\", \"Gender\", \"YearsSinceLastPromotion\"]\n",
    "\n",
    "gotpromoted = []\n",
    "for emp in raw_data.index:\n",
    "    if raw_data.loc[emp,\"YearsSinceLastPromotion\"] < raw_data.loc[emp,\"YearsAtCompany\"]:\n",
    "        gotpromoted.append(1)\n",
    "    else:\n",
    "        gotpromoted.append(0)\n",
    "raw_data.loc[:,\"GotPromoted\"] = gotpromoted\n",
    "\n",
    "# clean data\n",
    "def clean_data(DF, delcols=delcols):\n",
    "    df = DF.drop_duplicates()\n",
    "    df = df.drop(delcols, axis=1)\n",
    "    df = df.replace({\"Yes\": 1,\n",
    "                     \"No\": 0,\n",
    "                     \"Female\": 1,\n",
    "                     \"Male\": 0,\n",
    "                     \"Non-Travel\": 0,\n",
    "                     \"TravelRarely\": 1,\n",
    "                     \"Travel_Rarely\": 1,\n",
    "                     \"Travel_Frequently\": 2})\n",
    "    #df = df.dropna(axis=0)\n",
    "    return df\n",
    "\n",
    "data = clean_data(raw_data)\n",
    "\n",
    "Xtrain, Xtest, ytrain, ytest = train_test_split(data.drop(\"Attrition\", axis=1), \n",
    "                                                data[\"Attrition\"], \n",
    "                                                test_size=0.2, \n",
    "                                                shuffle=True,\n",
    "                                                stratify=data[\"Attrition\"], \n",
    "                                                random_state=13)"
   ]
  },
  {
   "cell_type": "code",
   "execution_count": 17,
   "id": "e387ea1d-05fd-47c9-8ed0-1c5d06135263",
   "metadata": {},
   "outputs": [
    {
     "name": "stdout",
     "output_type": "stream",
     "text": [
      "<class 'pandas.core.frame.DataFrame'>\n",
      "Int64Index: 1178 entries, 1059 to 262\n",
      "Data columns (total 27 columns):\n",
      " #   Column                    Non-Null Count  Dtype  \n",
      "---  ------                    --------------  -----  \n",
      " 0   Age                       1178 non-null   int64  \n",
      " 1   AgeGroup                  1178 non-null   object \n",
      " 2   BusinessTravel            1178 non-null   int64  \n",
      " 3   DailyRate                 1178 non-null   int64  \n",
      " 4   Department                1178 non-null   object \n",
      " 5   DistanceFromHome          1178 non-null   int64  \n",
      " 6   EducationField            1178 non-null   object \n",
      " 7   EnvironmentSatisfaction   1178 non-null   int64  \n",
      " 8   JobInvolvement            1178 non-null   int64  \n",
      " 9   JobLevel                  1178 non-null   int64  \n",
      " 10  JobRole                   1178 non-null   object \n",
      " 11  JobSatisfaction           1178 non-null   int64  \n",
      " 12  MaritalStatus             1178 non-null   object \n",
      " 13  MonthlyIncome             1178 non-null   int64  \n",
      " 14  SalarySlab                1178 non-null   object \n",
      " 15  NumCompaniesWorked        1178 non-null   int64  \n",
      " 16  OverTime                  1178 non-null   int64  \n",
      " 17  PercentSalaryHike         1178 non-null   int64  \n",
      " 18  RelationshipSatisfaction  1178 non-null   int64  \n",
      " 19  StockOptionLevel          1178 non-null   int64  \n",
      " 20  TotalWorkingYears         1178 non-null   int64  \n",
      " 21  TrainingTimesLastYear     1178 non-null   int64  \n",
      " 22  WorkLifeBalance           1178 non-null   int64  \n",
      " 23  YearsAtCompany            1178 non-null   int64  \n",
      " 24  YearsInCurrentRole        1178 non-null   int64  \n",
      " 25  YearsWithCurrManager      1135 non-null   float64\n",
      " 26  GotPromoted               1178 non-null   int64  \n",
      "dtypes: float64(1), int64(20), object(6)\n",
      "memory usage: 257.7+ KB\n"
     ]
    }
   ],
   "source": [
    "Xtrain.info()"
   ]
  },
  {
   "cell_type": "markdown",
   "id": "b8147ffb-9a24-49da-a4fa-75e4e524901f",
   "metadata": {},
   "source": [
    "## Prepare preprocessing"
   ]
  },
  {
   "cell_type": "code",
   "execution_count": 18,
   "id": "7bb2c5a6-9909-438c-adbe-9098b6e380f7",
   "metadata": {},
   "outputs": [],
   "source": [
    "encoder = OneHotEncoder(handle_unknown=\"ignore\", sparse=False)\n",
    "simpimp = SimpleImputer(strategy=\"median\")\n",
    "std = StandardScaler()\n",
    "\n",
    "catpipe = make_pipeline(encoder)\n",
    "numpipe = Pipeline([(\"imputer\", simpimp),\n",
    "                    (\"scaler\", std)])\n",
    "\n",
    "coltrans = ColumnTransformer(transformers=[(\"encoder\", encoder, catcols),\n",
    "                                           (\"numpipe\", numpipe, numcols)])\n",
    "selection = SelectPercentile(percentile=80) # percentile=10"
   ]
  },
  {
   "cell_type": "markdown",
   "id": "04ccfeec-b708-483b-b59e-d46e98fed8e1",
   "metadata": {},
   "source": [
    "## Initialize estimator"
   ]
  },
  {
   "cell_type": "code",
   "execution_count": 19,
   "id": "37c39270-b85b-4895-a49c-ffdb993531a3",
   "metadata": {},
   "outputs": [],
   "source": [
    "model = XGBClassifier(objective='binary:logistic', \n",
    "                      n_estimators=150,            # Number of boosting rounds\n",
    "                      learning_rate=0.1,         # Step size shrinkage\n",
    "                      max_depth=15,                    # Maximum depth of the tree\n",
    "                      min_child_weight=5,             # Minimum sum of instance weight in a child\n",
    "                      subsample=0.8,                   # Subsample ratio of the training instances\n",
    "                      colsample_bytree=1.0,            # Subsample ratio of columns when constructing each tree\n",
    "                      gamma=0,                    # Minimum loss reduction required for further partition\n",
    "                      reg_alpha=0,                # L1 regularization term on weights\n",
    "                      reg_lambda=0.2,\n",
    "                      random_state=42)"
   ]
  },
  {
   "cell_type": "markdown",
   "id": "85b8dabb-829a-47d1-a6f1-d549010e5278",
   "metadata": {},
   "source": [
    "## Set search space"
   ]
  },
  {
   "cell_type": "code",
   "execution_count": 20,
   "id": "b46b3a1b-fa31-49f3-a36e-351cbc869a50",
   "metadata": {},
   "outputs": [],
   "source": [
    "search_space = {#\"estimator__n_estimators\": [50, 100, 150],            # Number of boosting rounds\n",
    "                #\"estimator__learning_rate\": [0.1, 0.2, 0.3],         # Step size shrinkage\n",
    "                #\"estimator__max_depth\": [12, 15, 18],                    # Maximum depth of the tree\n",
    "                #\"estimator__min_child_weight\": [1, 3, 5],             # Minimum sum of instance weight in a child\n",
    "                #\"estimator__subsample\": [0.8, 1.0],                   # Subsample ratio of the training instances\n",
    "                #\"estimator__colsample_bytree\": [0.8, 1.0],            # Subsample ratio of columns when constructing each tree\n",
    "                #\"estimator__gamma\": [0, 0.1, 0.2, 0.3],                    # Minimum loss reduction required for further partition\n",
    "                #\"estimator__reg_alpha\": [0, 0.1, 0.2],                # L1 regularization term on weights\n",
    "                #\"estimator__reg_lambda\": [0, 0.1, 0.2],\n",
    "                #\"selector__percentile\": [80, 85]\n",
    "               }"
   ]
  },
  {
   "cell_type": "markdown",
   "id": "6dd3a472-003a-4301-8a51-9c342822a410",
   "metadata": {},
   "source": [
    "## Finish pipeline and run grid search"
   ]
  },
  {
   "cell_type": "code",
   "execution_count": 21,
   "id": "61fb3f6b-3a3a-480f-a5aa-fd1097803805",
   "metadata": {},
   "outputs": [
    {
     "name": "stdout",
     "output_type": "stream",
     "text": [
      "Fitting 5 folds for each of 1 candidates, totalling 5 fits\n",
      "{}\n",
      "Best F1 score: 44.81%\n",
      "--------------------------------------------------------\n",
      "F1 score on test set:\t62.16%\n",
      "Recall on test set:\t48.94%\n",
      "Precision on test set:\t85.19%\n"
     ]
    },
    {
     "data": {
      "image/png": "[encoded data removed]",
      "text/plain": [
       "<Figure size 720x576 with 1 Axes>"
      ]
     },
     "metadata": {
      "needs_background": "light"
     },
     "output_type": "display_data"
    }
   ],
   "source": [
    "pipeline = Pipeline([(\"prepper\", coltrans),\n",
    "                     #(\"selector\", selection),\n",
    "                     (\"estimator\", model)])\n",
    "\n",
    "pipe = GridSearchCV(estimator=pipeline,\n",
    "                    param_grid=search_space,\n",
    "                    scoring=\"f1\",\n",
    "                    cv=5,\n",
    "                    verbose=3, \n",
    "                    n_jobs=-1)\n",
    "pipe.fit(Xtrain, ytrain)\n",
    "#model_svc = pipe_svc.best_estimator_\n",
    "#print(grid_svc.best_estimator_)\n",
    "print(pipe.best_params_)\n",
    "print(f\"Best F1 score: {pipe.best_score_.mean():.2%}\")\n",
    "print(\"--------------------------------------------------------\")\n",
    "ypred = pipe.predict(Xtest)\n",
    "print(f\"F1 score on test set:\\t{f1_score(ytest, ypred):.2%}\")\n",
    "print(f\"Recall on test set:\\t{recall_score(ytest, ypred):.2%}\")\n",
    "print(f\"Precision on test set:\\t{precision_score(ytest, ypred):.2%}\")\n",
    "plot_roc(pipe, Xtest, ytest)"
   ]
  },
  {
   "cell_type": "code",
   "execution_count": 22,
   "id": "2779b41c-bb56-41c3-a7bc-c237be6ad37b",
   "metadata": {},
   "outputs": [
    {
     "data": {
      "text/html": [
       "<div>\n",
       "<style scoped>\n",
       "    .dataframe tbody tr th:only-of-type {\n",
       "        vertical-align: middle;\n",
       "    }\n",
       "\n",
       "    .dataframe tbody tr th {\n",
       "        vertical-align: top;\n",
       "    }\n",
       "\n",
       "    .dataframe thead th {\n",
       "        text-align: right;\n",
       "    }\n",
       "</style>\n",
       "<table border=\"1\" class=\"dataframe\">\n",
       "  <thead>\n",
       "    <tr style=\"text-align: right;\">\n",
       "      <th></th>\n",
       "      <th>params</th>\n",
       "      <th>split0_test_score</th>\n",
       "      <th>split1_test_score</th>\n",
       "      <th>split2_test_score</th>\n",
       "      <th>split3_test_score</th>\n",
       "      <th>split4_test_score</th>\n",
       "      <th>mean_test_score</th>\n",
       "      <th>std_test_score</th>\n",
       "      <th>rank_test_score</th>\n",
       "    </tr>\n",
       "  </thead>\n",
       "  <tbody>\n",
       "    <tr>\n",
       "      <th>0</th>\n",
       "      <td>{}</td>\n",
       "      <td>0.580645</td>\n",
       "      <td>0.37037</td>\n",
       "      <td>0.5</td>\n",
       "      <td>0.539683</td>\n",
       "      <td>0.25</td>\n",
       "      <td>0.44814</td>\n",
       "      <td>0.121602</td>\n",
       "      <td>1</td>\n",
       "    </tr>\n",
       "  </tbody>\n",
       "</table>\n",
       "</div>"
      ],
      "text/plain": [
       "  params  split0_test_score  split1_test_score  split2_test_score  \\\n",
       "0     {}           0.580645            0.37037                0.5   \n",
       "\n",
       "   split3_test_score  split4_test_score  mean_test_score  std_test_score  \\\n",
       "0           0.539683               0.25          0.44814        0.121602   \n",
       "\n",
       "   rank_test_score  \n",
       "0                1  "
      ]
     },
     "execution_count": 30,
     "metadata": {},
     "output_type": "execute_result"
    }
   ],
   "source": [
    "results = pd.DataFrame(pipe.cv_results_).sort_values(by=\"mean_test_score\", ascending=False).head(9)\n",
    "results.iloc[:,4:]"
   ]
  },
  {
   "cell_type": "markdown",
   "id": "8bae5bbe-55e7-4fb3-8dbf-b06d36642376",
   "metadata": {},
   "source": [
    "# Result:\n",
    "The best LogisticRegression model we've found achieved...  \n",
    "...an F1 score of 54.67%  \n",
    "...a ROC-AUC score of 90%  \n",
    "on the test set."
   ]
  },
  {
   "cell_type": "code",
   "execution_count": 23,
   "id": "a34100de-866c-4072-9b89-5c5aa6dfc64e",
   "metadata": {},
   "outputs": [
    {
     "data": {
      "text/plain": [
       "[Text(0.5, 1.0, 'Features sorted by permutation importance'),\n",
       " Text(0.5, 0, 'Permutation Importance')]"
      ]
     },
     "execution_count": 31,
     "metadata": {},
     "output_type": "execute_result"
    },
    {
     "data": {
      "image/png": "[encoded data removed]",
      "text/plain": [
       "<Figure size 864x720 with 1 Axes>"
      ]
     },
     "metadata": {
      "needs_background": "light"
     },
     "output_type": "display_data"
    }
   ],
   "source": [
    "# Estimate feature importance through permutation importance\n",
    "result = permutation_importance(pipe, Xtrain, ytrain, n_repeats=50, random_state=42)\n",
    "importance_scores = abs(result.importances_mean)\n",
    "#pipe_rfc = pipe_rfc.fit(features_train, target_train)\n",
    "original_columns = Xtrain.columns\n",
    "feature_importance_list = list(zip(original_columns, importance_scores))\n",
    "sorted_feature_importance = sorted(feature_importance_list, key=lambda x: x[1], reverse=False)\n",
    "orig_sorted_features, orig_sorted_importance = zip(*sorted_feature_importance)\n",
    "\n",
    "# Plot it\n",
    "fig, ax = plt.subplots(figsize=(12,10))\n",
    "ax.barh(orig_sorted_features, orig_sorted_importance)\n",
    "ax.set(title=\"Features sorted by permutation importance\",\n",
    "      xlabel=\"Permutation Importance\")"
   ]
  }
 ],
 "metadata": {
  "kernelspec": {
   "display_name": "Python 3 (ipykernel)",
   "language": "python",
   "name": "python3"
  },
  "language_info": {
   "codemirror_mode": {
    "name": "ipython",
    "version": 3
   },
   "file_extension": ".py",
   "mimetype": "text/x-python",
   "name": "python",
   "nbconvert_exporter": "python",
   "pygments_lexer": "ipython3",
   "version": "3.9.7"
  }
 },
 "nbformat": 4,
 "nbformat_minor": 5
}
